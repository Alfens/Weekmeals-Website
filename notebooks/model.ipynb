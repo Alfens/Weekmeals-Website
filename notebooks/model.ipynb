{
 "cells": [
  {
   "cell_type": "markdown",
   "id": "c61b6b3a",
   "metadata": {},
   "source": [
    "## IMPORTS"
   ]
  },
  {
   "cell_type": "code",
   "execution_count": 1,
   "id": "2817bcfd",
   "metadata": {},
   "outputs": [],
   "source": [
    "import pandas as pd\n",
    "import matplotlib.pyplot as plt\n",
    "import seaborn as sns\n",
    "import numpy as np\n",
    "from sklearn.neighbors import KNeighborsClassifier\n",
    "from sklearn.model_selection import cross_val_score\n",
    "from  sklearn.model_selection import train_test_split\n",
    "from sklearn.model_selection import GridSearchCV\n",
    "from sklearn.datasets import make_blobs\n",
    "from sklearn.cluster import KMeans\n",
    "from sklearn.pipeline import Pipeline\n",
    "from sklearn import set_config\n",
    "import plotly.express as px\n",
    "from yellowbrick.cluster import KElbowVisualizer\n",
    "from sklearn.decomposition import PCA\n",
    "from sklearn.preprocessing import MinMaxScaler\n",
    "from sklearn.preprocessing import StandardScaler\n",
    "from sklearn.neighbors import KNeighborsRegressor\n",
    "import joblib"
   ]
  },
  {
   "cell_type": "code",
   "execution_count": 2,
   "id": "5ac824b0",
   "metadata": {},
   "outputs": [
    {
     "name": "stdout",
     "output_type": "stream",
     "text": [
      "Requirement already satisfied: pip in /Users/alfens/.pyenv/versions/3.8.12/envs/lewagon/lib/python3.8/site-packages (22.1.2)\r\n"
     ]
    }
   ],
   "source": [
    "!pip install --upgrade pip"
   ]
  },
  {
   "cell_type": "code",
   "execution_count": 3,
   "id": "25e51980",
   "metadata": {},
   "outputs": [
    {
     "name": "stdout",
     "output_type": "stream",
     "text": [
      "Requirement already satisfied: scikit-learn in /Users/alfens/.pyenv/versions/3.8.12/envs/lewagon/lib/python3.8/site-packages (1.1.1)\n",
      "Requirement already satisfied: scipy>=1.3.2 in /Users/alfens/.pyenv/versions/3.8.12/envs/lewagon/lib/python3.8/site-packages (from scikit-learn) (1.7.3)\n",
      "Requirement already satisfied: threadpoolctl>=2.0.0 in /Users/alfens/.pyenv/versions/3.8.12/envs/lewagon/lib/python3.8/site-packages (from scikit-learn) (3.0.0)\n",
      "Requirement already satisfied: joblib>=1.0.0 in /Users/alfens/.pyenv/versions/3.8.12/envs/lewagon/lib/python3.8/site-packages (from scikit-learn) (1.0.1)\n",
      "Requirement already satisfied: numpy>=1.17.3 in /Users/alfens/.pyenv/versions/3.8.12/envs/lewagon/lib/python3.8/site-packages (from scikit-learn) (1.18.5)\n"
     ]
    }
   ],
   "source": [
    "!pip install --upgrade scikit-learn"
   ]
  },
  {
   "cell_type": "code",
   "execution_count": 4,
   "id": "160b9cf0",
   "metadata": {
    "scrolled": true
   },
   "outputs": [],
   "source": [
    "#df = pd.read_csv('scaled_data.csv')\n",
    "#df.head()"
   ]
  },
  {
   "cell_type": "code",
   "execution_count": 5,
   "id": "c98d4b1d",
   "metadata": {},
   "outputs": [],
   "source": [
    "#df = df.drop(columns=['name','steps','ingredients'])"
   ]
  },
  {
   "cell_type": "code",
   "execution_count": 6,
   "id": "88dbe2e8",
   "metadata": {},
   "outputs": [],
   "source": [
    "#df.columns"
   ]
  },
  {
   "cell_type": "code",
   "execution_count": 7,
   "id": "f0b792ee",
   "metadata": {},
   "outputs": [],
   "source": [
    "#df.head()"
   ]
  },
  {
   "cell_type": "code",
   "execution_count": 8,
   "id": "0d264b47",
   "metadata": {},
   "outputs": [],
   "source": [
    "#plt.figure(figsize=(13,13))\n",
    "\n",
    "#sns.heatmap(df.corr(),\n",
    "            #annot = True,\n",
    "            #annot_kws = {\"fontsize\":8},\n",
    "            #cmap='PuRd');"
   ]
  },
  {
   "cell_type": "code",
   "execution_count": null,
   "id": "f39ed886",
   "metadata": {},
   "outputs": [],
   "source": []
  },
  {
   "cell_type": "markdown",
   "id": "16e2e89a",
   "metadata": {},
   "source": [
    "##  INITIATING MODEL (Robust)"
   ]
  },
  {
   "cell_type": "code",
   "execution_count": 9,
   "id": "bc0a8cfc",
   "metadata": {},
   "outputs": [],
   "source": [
    "#km = KMeans(n_clusters = 8)"
   ]
  },
  {
   "cell_type": "code",
   "execution_count": 10,
   "id": "4053e1d8",
   "metadata": {
    "scrolled": true
   },
   "outputs": [],
   "source": [
    "#km.fit(df)"
   ]
  },
  {
   "cell_type": "code",
   "execution_count": 11,
   "id": "192aeb88",
   "metadata": {},
   "outputs": [],
   "source": [
    "#km.inertia_"
   ]
  },
  {
   "cell_type": "code",
   "execution_count": 12,
   "id": "964ce706",
   "metadata": {},
   "outputs": [],
   "source": [
    "#labels = km.labels_\n",
    "#labels"
   ]
  },
  {
   "cell_type": "code",
   "execution_count": 13,
   "id": "ad1013c9",
   "metadata": {},
   "outputs": [],
   "source": [
    "#fig = px.scatter_3d(df, \n",
    "                    #x = 'calories',\n",
    "                    #y = 'protein (PDV)',\n",
    "                    #z = 'sugar (PDV)',\n",
    "                    #color = labels, width=500, height=500)\n",
    "#fig.show()"
   ]
  },
  {
   "cell_type": "markdown",
   "id": "70f380c7",
   "metadata": {},
   "source": [
    "### Optimal Number of Clusters"
   ]
  },
  {
   "cell_type": "markdown",
   "id": "ddee61f2",
   "metadata": {},
   "source": [
    "Queremos que tenga una \"Inertia\" lo mas bajo posible (sum of squared distances of observations to their associated (closest) cluster center)"
   ]
  },
  {
   "cell_type": "code",
   "execution_count": 14,
   "id": "90c6b043",
   "metadata": {},
   "outputs": [],
   "source": [
    "# Apply the elbow method to find the optimal number of clusters.\n",
    "#wcss = []\n",
    "#clusters = list(range(1, 50))\n",
    "\n",
    "#for k in clusters:\n",
    "    #km_elbow = KMeans(n_clusters = k).fit(df)\n",
    "    #wcss.append(km_elbow.inertia_)\n",
    "#wcss"
   ]
  },
  {
   "cell_type": "code",
   "execution_count": 15,
   "id": "8e23891e",
   "metadata": {},
   "outputs": [],
   "source": [
    "#plt.plot(clusters, wcss)\n",
    "#plt.xlabel('k cluster number')"
   ]
  },
  {
   "cell_type": "code",
   "execution_count": 16,
   "id": "73f1b792",
   "metadata": {
    "scrolled": true
   },
   "outputs": [],
   "source": [
    "#kmeans = KMeans()\n",
    "#elbow_visualizer = KElbowVisualizer(kmeans, n_clusters = (1,51))\n",
    "#elbow_visualizer.fit(df)\n",
    "#elbow_visualizer.show();"
   ]
  },
  {
   "cell_type": "markdown",
   "id": "e8452ca3",
   "metadata": {},
   "source": [
    "Agregamos los labels a la tabla"
   ]
  },
  {
   "cell_type": "code",
   "execution_count": 17,
   "id": "973e9a4f",
   "metadata": {},
   "outputs": [],
   "source": [
    "#km_optimo = KMeans(n_clusters = 5)"
   ]
  },
  {
   "cell_type": "code",
   "execution_count": 18,
   "id": "8b7a2a11",
   "metadata": {},
   "outputs": [],
   "source": [
    "#km_optimo.fit(df)"
   ]
  },
  {
   "cell_type": "code",
   "execution_count": 19,
   "id": "2697b575",
   "metadata": {},
   "outputs": [],
   "source": [
    "#labels_optimo = km_optimo.labels_"
   ]
  },
  {
   "cell_type": "code",
   "execution_count": 20,
   "id": "dc3a87fb",
   "metadata": {
    "scrolled": true
   },
   "outputs": [],
   "source": [
    "#data_labeled_kmeans = pd.concat([df,pd.Series(labels_optimo)],axis=1).rename(columns={0:\"label\"})\n",
    "#data_labeled_kmeans.head()"
   ]
  },
  {
   "cell_type": "code",
   "execution_count": 21,
   "id": "93ac7f2a",
   "metadata": {},
   "outputs": [],
   "source": [
    "#data_labeled_kmeans.label.value_counts()"
   ]
  },
  {
   "cell_type": "markdown",
   "id": "e9093b46",
   "metadata": {},
   "source": [
    "### PCA"
   ]
  },
  {
   "cell_type": "code",
   "execution_count": 22,
   "id": "db5163f8",
   "metadata": {},
   "outputs": [],
   "source": [
    "#df.shape"
   ]
  },
  {
   "cell_type": "code",
   "execution_count": 23,
   "id": "c1d054aa",
   "metadata": {},
   "outputs": [],
   "source": [
    "#pca = PCA()"
   ]
  },
  {
   "cell_type": "code",
   "execution_count": 24,
   "id": "79d07429",
   "metadata": {},
   "outputs": [],
   "source": [
    "#pca.fit(df)"
   ]
  },
  {
   "cell_type": "code",
   "execution_count": 25,
   "id": "05e9696f",
   "metadata": {},
   "outputs": [],
   "source": [
    "#w = "
   ]
  },
  {
   "cell_type": "markdown",
   "id": "11407ab2",
   "metadata": {},
   "source": [
    "## Initiating Model (Standard Scale)"
   ]
  },
  {
   "cell_type": "markdown",
   "id": "d4b86c93",
   "metadata": {},
   "source": [
    "### KMeans por caloria --> Final \n"
   ]
  },
  {
   "cell_type": "code",
   "execution_count": 26,
   "id": "4f890559",
   "metadata": {},
   "outputs": [],
   "source": [
    "df2 = pd.read_csv('/Users/alfens/code/Alfens/WeekmealsWebsite/data/ss_data.csv')"
   ]
  },
  {
   "cell_type": "code",
   "execution_count": 27,
   "id": "b5faa9f3",
   "metadata": {},
   "outputs": [
    {
     "data": {
      "text/html": [
       "<div>\n",
       "<style scoped>\n",
       "    .dataframe tbody tr th:only-of-type {\n",
       "        vertical-align: middle;\n",
       "    }\n",
       "\n",
       "    .dataframe tbody tr th {\n",
       "        vertical-align: top;\n",
       "    }\n",
       "\n",
       "    .dataframe thead th {\n",
       "        text-align: right;\n",
       "    }\n",
       "</style>\n",
       "<table border=\"1\" class=\"dataframe\">\n",
       "  <thead>\n",
       "    <tr style=\"text-align: right;\">\n",
       "      <th></th>\n",
       "      <th>minutes</th>\n",
       "      <th>n_steps</th>\n",
       "      <th>n_ingredients</th>\n",
       "      <th>calories</th>\n",
       "      <th>total fat (PDV)</th>\n",
       "      <th>sugar (PDV)</th>\n",
       "      <th>sodium (PDV)</th>\n",
       "      <th>protein (PDV)</th>\n",
       "      <th>saturated fat (PDV)</th>\n",
       "      <th>carbohydrates (PDV)</th>\n",
       "      <th>gluten_free</th>\n",
       "      <th>nut_free</th>\n",
       "      <th>lactose_free</th>\n",
       "      <th>egg_free</th>\n",
       "      <th>vegan</th>\n",
       "      <th>veggie</th>\n",
       "      <th>fish</th>\n",
       "      <th>low_calories</th>\n",
       "      <th>normal_calories</th>\n",
       "      <th>high_calories</th>\n",
       "    </tr>\n",
       "  </thead>\n",
       "  <tbody>\n",
       "    <tr>\n",
       "      <th>0</th>\n",
       "      <td>-0.129793</td>\n",
       "      <td>0.077143</td>\n",
       "      <td>-0.685611</td>\n",
       "      <td>-0.729790</td>\n",
       "      <td>-0.671766</td>\n",
       "      <td>-0.294838</td>\n",
       "      <td>-0.328605</td>\n",
       "      <td>-0.801015</td>\n",
       "      <td>-0.600671</td>\n",
       "      <td>-0.431561</td>\n",
       "      <td>0.771330</td>\n",
       "      <td>0.297939</td>\n",
       "      <td>-0.762034</td>\n",
       "      <td>0.622917</td>\n",
       "      <td>-0.419828</td>\n",
       "      <td>0.784928</td>\n",
       "      <td>0.698667</td>\n",
       "      <td>0.719864</td>\n",
       "      <td>-0.545963</td>\n",
       "      <td>-0.354603</td>\n",
       "    </tr>\n",
       "    <tr>\n",
       "      <th>1</th>\n",
       "      <td>-0.231020</td>\n",
       "      <td>-0.270086</td>\n",
       "      <td>-0.955747</td>\n",
       "      <td>-0.521926</td>\n",
       "      <td>-0.339325</td>\n",
       "      <td>-0.359493</td>\n",
       "      <td>-0.146612</td>\n",
       "      <td>-0.361938</td>\n",
       "      <td>-0.136714</td>\n",
       "      <td>-0.546822</td>\n",
       "      <td>0.771330</td>\n",
       "      <td>0.297939</td>\n",
       "      <td>-0.762034</td>\n",
       "      <td>-1.605351</td>\n",
       "      <td>-0.419828</td>\n",
       "      <td>0.784928</td>\n",
       "      <td>0.698667</td>\n",
       "      <td>0.719864</td>\n",
       "      <td>-0.545963</td>\n",
       "      <td>-0.354603</td>\n",
       "    </tr>\n",
       "    <tr>\n",
       "      <th>2</th>\n",
       "      <td>0.173889</td>\n",
       "      <td>-0.790930</td>\n",
       "      <td>0.935206</td>\n",
       "      <td>-0.357544</td>\n",
       "      <td>-0.265450</td>\n",
       "      <td>-0.200341</td>\n",
       "      <td>0.185258</td>\n",
       "      <td>0.011278</td>\n",
       "      <td>-0.242761</td>\n",
       "      <td>-0.393141</td>\n",
       "      <td>0.771330</td>\n",
       "      <td>0.297939</td>\n",
       "      <td>-0.762034</td>\n",
       "      <td>0.622917</td>\n",
       "      <td>-0.419828</td>\n",
       "      <td>-1.274002</td>\n",
       "      <td>-1.431297</td>\n",
       "      <td>0.719864</td>\n",
       "      <td>-0.545963</td>\n",
       "      <td>-0.354603</td>\n",
       "    </tr>\n",
       "    <tr>\n",
       "      <th>3</th>\n",
       "      <td>-0.170284</td>\n",
       "      <td>0.077143</td>\n",
       "      <td>0.394934</td>\n",
       "      <td>-0.189922</td>\n",
       "      <td>-0.357794</td>\n",
       "      <td>-0.309758</td>\n",
       "      <td>-0.307194</td>\n",
       "      <td>-0.537569</td>\n",
       "      <td>-0.494624</td>\n",
       "      <td>0.183159</td>\n",
       "      <td>-1.296461</td>\n",
       "      <td>0.297939</td>\n",
       "      <td>-0.762034</td>\n",
       "      <td>0.622917</td>\n",
       "      <td>-0.419828</td>\n",
       "      <td>0.784928</td>\n",
       "      <td>0.698667</td>\n",
       "      <td>0.719864</td>\n",
       "      <td>-0.545963</td>\n",
       "      <td>-0.354603</td>\n",
       "    </tr>\n",
       "    <tr>\n",
       "      <th>4</th>\n",
       "      <td>-0.291756</td>\n",
       "      <td>-1.138159</td>\n",
       "      <td>-0.145338</td>\n",
       "      <td>-0.168436</td>\n",
       "      <td>0.307088</td>\n",
       "      <td>-0.324679</td>\n",
       "      <td>-0.071673</td>\n",
       "      <td>-0.713200</td>\n",
       "      <td>-0.282529</td>\n",
       "      <td>-0.354721</td>\n",
       "      <td>0.771330</td>\n",
       "      <td>0.297939</td>\n",
       "      <td>1.312278</td>\n",
       "      <td>0.622917</td>\n",
       "      <td>2.381929</td>\n",
       "      <td>0.784928</td>\n",
       "      <td>0.698667</td>\n",
       "      <td>0.719864</td>\n",
       "      <td>-0.545963</td>\n",
       "      <td>-0.354603</td>\n",
       "    </tr>\n",
       "  </tbody>\n",
       "</table>\n",
       "</div>"
      ],
      "text/plain": [
       "    minutes   n_steps  n_ingredients  calories  total fat (PDV)  sugar (PDV)  \\\n",
       "0 -0.129793  0.077143      -0.685611 -0.729790        -0.671766    -0.294838   \n",
       "1 -0.231020 -0.270086      -0.955747 -0.521926        -0.339325    -0.359493   \n",
       "2  0.173889 -0.790930       0.935206 -0.357544        -0.265450    -0.200341   \n",
       "3 -0.170284  0.077143       0.394934 -0.189922        -0.357794    -0.309758   \n",
       "4 -0.291756 -1.138159      -0.145338 -0.168436         0.307088    -0.324679   \n",
       "\n",
       "   sodium (PDV)  protein (PDV)  saturated fat (PDV)  carbohydrates (PDV)  \\\n",
       "0     -0.328605      -0.801015            -0.600671            -0.431561   \n",
       "1     -0.146612      -0.361938            -0.136714            -0.546822   \n",
       "2      0.185258       0.011278            -0.242761            -0.393141   \n",
       "3     -0.307194      -0.537569            -0.494624             0.183159   \n",
       "4     -0.071673      -0.713200            -0.282529            -0.354721   \n",
       "\n",
       "   gluten_free  nut_free  lactose_free  egg_free     vegan    veggie  \\\n",
       "0     0.771330  0.297939     -0.762034  0.622917 -0.419828  0.784928   \n",
       "1     0.771330  0.297939     -0.762034 -1.605351 -0.419828  0.784928   \n",
       "2     0.771330  0.297939     -0.762034  0.622917 -0.419828 -1.274002   \n",
       "3    -1.296461  0.297939     -0.762034  0.622917 -0.419828  0.784928   \n",
       "4     0.771330  0.297939      1.312278  0.622917  2.381929  0.784928   \n",
       "\n",
       "       fish  low_calories  normal_calories  high_calories  \n",
       "0  0.698667      0.719864        -0.545963      -0.354603  \n",
       "1  0.698667      0.719864        -0.545963      -0.354603  \n",
       "2 -1.431297      0.719864        -0.545963      -0.354603  \n",
       "3  0.698667      0.719864        -0.545963      -0.354603  \n",
       "4  0.698667      0.719864        -0.545963      -0.354603  "
      ]
     },
     "execution_count": 27,
     "metadata": {},
     "output_type": "execute_result"
    }
   ],
   "source": [
    "df2.head()"
   ]
  },
  {
   "cell_type": "code",
   "execution_count": 28,
   "id": "f0b0b1ea",
   "metadata": {},
   "outputs": [
    {
     "data": {
      "text/plain": [
       "172966"
      ]
     },
     "execution_count": 28,
     "metadata": {},
     "output_type": "execute_result"
    }
   ],
   "source": [
    "len(df2)"
   ]
  },
  {
   "cell_type": "markdown",
   "id": "a23ebab0",
   "metadata": {},
   "source": [
    "#### LOW CALORIES"
   ]
  },
  {
   "cell_type": "code",
   "execution_count": null,
   "id": "159d9c0f",
   "metadata": {},
   "outputs": [],
   "source": []
  },
  {
   "cell_type": "code",
   "execution_count": 29,
   "id": "0b215d8c",
   "metadata": {},
   "outputs": [
    {
     "data": {
      "text/plain": [
       "(113928, 20)"
      ]
     },
     "execution_count": 29,
     "metadata": {},
     "output_type": "execute_result"
    }
   ],
   "source": [
    "df_low = df2[df2['low_calories']> 0.5]\n",
    "df_low.shape"
   ]
  },
  {
   "cell_type": "code",
   "execution_count": 30,
   "id": "a7169804",
   "metadata": {},
   "outputs": [],
   "source": [
    "df_low_entero = df_low.copy().reset_index(drop = True)"
   ]
  },
  {
   "cell_type": "code",
   "execution_count": 31,
   "id": "b9a576f2",
   "metadata": {},
   "outputs": [
    {
     "name": "stderr",
     "output_type": "stream",
     "text": [
      "/Users/alfens/.pyenv/versions/3.8.12/envs/lewagon/lib/python3.8/site-packages/pandas/core/frame.py:4906: SettingWithCopyWarning: \n",
      "A value is trying to be set on a copy of a slice from a DataFrame\n",
      "\n",
      "See the caveats in the documentation: https://pandas.pydata.org/pandas-docs/stable/user_guide/indexing.html#returning-a-view-versus-a-copy\n",
      "  return super().drop(\n"
     ]
    }
   ],
   "source": [
    "df_low.drop(columns = ['gluten_free', 'nut_free', 'lactose_free',\n",
    "       'egg_free', 'vegan', 'veggie', 'fish', 'low_calories',\n",
    "       'normal_calories', 'high_calories','calories'], inplace = True)"
   ]
  },
  {
   "cell_type": "code",
   "execution_count": 32,
   "id": "dc128200",
   "metadata": {},
   "outputs": [
    {
     "data": {
      "text/html": [
       "<div>\n",
       "<style scoped>\n",
       "    .dataframe tbody tr th:only-of-type {\n",
       "        vertical-align: middle;\n",
       "    }\n",
       "\n",
       "    .dataframe tbody tr th {\n",
       "        vertical-align: top;\n",
       "    }\n",
       "\n",
       "    .dataframe thead th {\n",
       "        text-align: right;\n",
       "    }\n",
       "</style>\n",
       "<table border=\"1\" class=\"dataframe\">\n",
       "  <thead>\n",
       "    <tr style=\"text-align: right;\">\n",
       "      <th></th>\n",
       "      <th>minutes</th>\n",
       "      <th>n_steps</th>\n",
       "      <th>n_ingredients</th>\n",
       "      <th>total fat (PDV)</th>\n",
       "      <th>sugar (PDV)</th>\n",
       "      <th>sodium (PDV)</th>\n",
       "      <th>protein (PDV)</th>\n",
       "      <th>saturated fat (PDV)</th>\n",
       "      <th>carbohydrates (PDV)</th>\n",
       "    </tr>\n",
       "  </thead>\n",
       "  <tbody>\n",
       "    <tr>\n",
       "      <th>0</th>\n",
       "      <td>-0.129793</td>\n",
       "      <td>0.077143</td>\n",
       "      <td>-0.685611</td>\n",
       "      <td>-0.671766</td>\n",
       "      <td>-0.294838</td>\n",
       "      <td>-0.328605</td>\n",
       "      <td>-0.801015</td>\n",
       "      <td>-0.600671</td>\n",
       "      <td>-0.431561</td>\n",
       "    </tr>\n",
       "    <tr>\n",
       "      <th>1</th>\n",
       "      <td>-0.231020</td>\n",
       "      <td>-0.270086</td>\n",
       "      <td>-0.955747</td>\n",
       "      <td>-0.339325</td>\n",
       "      <td>-0.359493</td>\n",
       "      <td>-0.146612</td>\n",
       "      <td>-0.361938</td>\n",
       "      <td>-0.136714</td>\n",
       "      <td>-0.546822</td>\n",
       "    </tr>\n",
       "    <tr>\n",
       "      <th>2</th>\n",
       "      <td>0.173889</td>\n",
       "      <td>-0.790930</td>\n",
       "      <td>0.935206</td>\n",
       "      <td>-0.265450</td>\n",
       "      <td>-0.200341</td>\n",
       "      <td>0.185258</td>\n",
       "      <td>0.011278</td>\n",
       "      <td>-0.242761</td>\n",
       "      <td>-0.393141</td>\n",
       "    </tr>\n",
       "    <tr>\n",
       "      <th>3</th>\n",
       "      <td>-0.170284</td>\n",
       "      <td>0.077143</td>\n",
       "      <td>0.394934</td>\n",
       "      <td>-0.357794</td>\n",
       "      <td>-0.309758</td>\n",
       "      <td>-0.307194</td>\n",
       "      <td>-0.537569</td>\n",
       "      <td>-0.494624</td>\n",
       "      <td>0.183159</td>\n",
       "    </tr>\n",
       "    <tr>\n",
       "      <th>4</th>\n",
       "      <td>-0.291756</td>\n",
       "      <td>-1.138159</td>\n",
       "      <td>-0.145338</td>\n",
       "      <td>0.307088</td>\n",
       "      <td>-0.324679</td>\n",
       "      <td>-0.071673</td>\n",
       "      <td>-0.713200</td>\n",
       "      <td>-0.282529</td>\n",
       "      <td>-0.354721</td>\n",
       "    </tr>\n",
       "  </tbody>\n",
       "</table>\n",
       "</div>"
      ],
      "text/plain": [
       "    minutes   n_steps  n_ingredients  total fat (PDV)  sugar (PDV)  \\\n",
       "0 -0.129793  0.077143      -0.685611        -0.671766    -0.294838   \n",
       "1 -0.231020 -0.270086      -0.955747        -0.339325    -0.359493   \n",
       "2  0.173889 -0.790930       0.935206        -0.265450    -0.200341   \n",
       "3 -0.170284  0.077143       0.394934        -0.357794    -0.309758   \n",
       "4 -0.291756 -1.138159      -0.145338         0.307088    -0.324679   \n",
       "\n",
       "   sodium (PDV)  protein (PDV)  saturated fat (PDV)  carbohydrates (PDV)  \n",
       "0     -0.328605      -0.801015            -0.600671            -0.431561  \n",
       "1     -0.146612      -0.361938            -0.136714            -0.546822  \n",
       "2      0.185258       0.011278            -0.242761            -0.393141  \n",
       "3     -0.307194      -0.537569            -0.494624             0.183159  \n",
       "4     -0.071673      -0.713200            -0.282529            -0.354721  "
      ]
     },
     "execution_count": 32,
     "metadata": {},
     "output_type": "execute_result"
    }
   ],
   "source": [
    "df_low.head()"
   ]
  },
  {
   "cell_type": "code",
   "execution_count": 33,
   "id": "30e50cd6",
   "metadata": {},
   "outputs": [
    {
     "data": {
      "image/png": "[encoded data removed]",
      "text/plain": [
       "<Figure size 576x396 with 2 Axes>"
      ]
     },
     "metadata": {},
     "output_type": "display_data"
    }
   ],
   "source": [
    "kmeanslow = KMeans()\n",
    "elbow_visualizer = KElbowVisualizer(kmeanslow, n_clusters = (1,51))\n",
    "elbow_visualizer.fit(df_low)\n",
    "elbow_visualizer.show();"
   ]
  },
  {
   "cell_type": "code",
   "execution_count": 34,
   "id": "a04e57ce",
   "metadata": {},
   "outputs": [],
   "source": [
    "km_optimolow = KMeans(n_clusters = 5)\n",
    "km_optimolow.fit(df_low)\n",
    "labels_optimolow = km_optimolow.labels_"
   ]
  },
  {
   "cell_type": "code",
   "execution_count": 35,
   "id": "5dfafa13",
   "metadata": {
    "scrolled": true
   },
   "outputs": [],
   "source": [
    "joblib.dump(km_optimolow, 'km_optimolow.sav')\n",
    "\n",
    "new_model = joblib.load('km_optimolow.sav')"
   ]
  },
  {
   "cell_type": "code",
   "execution_count": 36,
   "id": "1630e163",
   "metadata": {},
   "outputs": [
    {
     "data": {
      "text/plain": [
       "array([1, 1, 0, ..., 1, 0, 1], dtype=int32)"
      ]
     },
     "execution_count": 36,
     "metadata": {},
     "output_type": "execute_result"
    }
   ],
   "source": [
    "new_model.labels_"
   ]
  },
  {
   "cell_type": "code",
   "execution_count": 37,
   "id": "6973e462",
   "metadata": {},
   "outputs": [
    {
     "data": {
      "text/plain": [
       "(113928,)"
      ]
     },
     "execution_count": 37,
     "metadata": {},
     "output_type": "execute_result"
    }
   ],
   "source": [
    "labels_optimolow.shape"
   ]
  },
  {
   "cell_type": "code",
   "execution_count": 38,
   "id": "cca1c6eb",
   "metadata": {},
   "outputs": [
    {
     "data": {
      "text/plain": [
       "(113928, 20)"
      ]
     },
     "execution_count": 38,
     "metadata": {},
     "output_type": "execute_result"
    }
   ],
   "source": [
    "df_low_entero.shape"
   ]
  },
  {
   "cell_type": "code",
   "execution_count": 39,
   "id": "ed0e4c74",
   "metadata": {},
   "outputs": [
    {
     "data": {
      "text/html": [
       "<div>\n",
       "<style scoped>\n",
       "    .dataframe tbody tr th:only-of-type {\n",
       "        vertical-align: middle;\n",
       "    }\n",
       "\n",
       "    .dataframe tbody tr th {\n",
       "        vertical-align: top;\n",
       "    }\n",
       "\n",
       "    .dataframe thead th {\n",
       "        text-align: right;\n",
       "    }\n",
       "</style>\n",
       "<table border=\"1\" class=\"dataframe\">\n",
       "  <thead>\n",
       "    <tr style=\"text-align: right;\">\n",
       "      <th></th>\n",
       "      <th>minutes</th>\n",
       "      <th>n_steps</th>\n",
       "      <th>n_ingredients</th>\n",
       "      <th>calories</th>\n",
       "      <th>total fat (PDV)</th>\n",
       "      <th>sugar (PDV)</th>\n",
       "      <th>sodium (PDV)</th>\n",
       "      <th>protein (PDV)</th>\n",
       "      <th>saturated fat (PDV)</th>\n",
       "      <th>carbohydrates (PDV)</th>\n",
       "      <th>...</th>\n",
       "      <th>nut_free</th>\n",
       "      <th>lactose_free</th>\n",
       "      <th>egg_free</th>\n",
       "      <th>vegan</th>\n",
       "      <th>veggie</th>\n",
       "      <th>fish</th>\n",
       "      <th>low_calories</th>\n",
       "      <th>normal_calories</th>\n",
       "      <th>high_calories</th>\n",
       "      <th>label</th>\n",
       "    </tr>\n",
       "  </thead>\n",
       "  <tbody>\n",
       "    <tr>\n",
       "      <th>113923</th>\n",
       "      <td>-0.210775</td>\n",
       "      <td>-0.096471</td>\n",
       "      <td>0.394934</td>\n",
       "      <td>-0.387896</td>\n",
       "      <td>-0.357794</td>\n",
       "      <td>-0.255050</td>\n",
       "      <td>0.142436</td>\n",
       "      <td>-0.383892</td>\n",
       "      <td>-0.415088</td>\n",
       "      <td>-0.316301</td>\n",
       "      <td>...</td>\n",
       "      <td>0.297939</td>\n",
       "      <td>-0.762034</td>\n",
       "      <td>0.622917</td>\n",
       "      <td>-0.419828</td>\n",
       "      <td>-1.274002</td>\n",
       "      <td>-1.431297</td>\n",
       "      <td>0.719864</td>\n",
       "      <td>-0.545963</td>\n",
       "      <td>-0.354603</td>\n",
       "      <td>0</td>\n",
       "    </tr>\n",
       "    <tr>\n",
       "      <th>113924</th>\n",
       "      <td>0.315608</td>\n",
       "      <td>4.764736</td>\n",
       "      <td>0.935206</td>\n",
       "      <td>-0.067147</td>\n",
       "      <td>0.233212</td>\n",
       "      <td>-0.284891</td>\n",
       "      <td>-0.221550</td>\n",
       "      <td>-0.361938</td>\n",
       "      <td>0.592363</td>\n",
       "      <td>-0.239461</td>\n",
       "      <td>...</td>\n",
       "      <td>0.297939</td>\n",
       "      <td>-0.762034</td>\n",
       "      <td>-1.605351</td>\n",
       "      <td>-0.419828</td>\n",
       "      <td>0.784928</td>\n",
       "      <td>0.698667</td>\n",
       "      <td>0.719864</td>\n",
       "      <td>-0.545963</td>\n",
       "      <td>-0.354603</td>\n",
       "      <td>3</td>\n",
       "    </tr>\n",
       "    <tr>\n",
       "      <th>113925</th>\n",
       "      <td>-0.271511</td>\n",
       "      <td>-0.790930</td>\n",
       "      <td>-0.415475</td>\n",
       "      <td>-0.641802</td>\n",
       "      <td>-0.634828</td>\n",
       "      <td>-0.165526</td>\n",
       "      <td>0.709828</td>\n",
       "      <td>-0.603430</td>\n",
       "      <td>-0.600671</td>\n",
       "      <td>-0.316301</td>\n",
       "      <td>...</td>\n",
       "      <td>0.297939</td>\n",
       "      <td>1.312278</td>\n",
       "      <td>0.622917</td>\n",
       "      <td>2.381929</td>\n",
       "      <td>0.784928</td>\n",
       "      <td>0.698667</td>\n",
       "      <td>0.719864</td>\n",
       "      <td>-0.545963</td>\n",
       "      <td>-0.354603</td>\n",
       "      <td>1</td>\n",
       "    </tr>\n",
       "    <tr>\n",
       "      <th>113926</th>\n",
       "      <td>-0.109547</td>\n",
       "      <td>-0.617315</td>\n",
       "      <td>3.366432</td>\n",
       "      <td>-0.109607</td>\n",
       "      <td>-0.191574</td>\n",
       "      <td>-0.190394</td>\n",
       "      <td>-0.050262</td>\n",
       "      <td>0.121048</td>\n",
       "      <td>-0.322297</td>\n",
       "      <td>-0.008941</td>\n",
       "      <td>...</td>\n",
       "      <td>0.297939</td>\n",
       "      <td>1.312278</td>\n",
       "      <td>0.622917</td>\n",
       "      <td>-0.419828</td>\n",
       "      <td>-1.274002</td>\n",
       "      <td>-1.431297</td>\n",
       "      <td>0.719864</td>\n",
       "      <td>-0.545963</td>\n",
       "      <td>-0.354603</td>\n",
       "      <td>0</td>\n",
       "    </tr>\n",
       "    <tr>\n",
       "      <th>113927</th>\n",
       "      <td>-0.190529</td>\n",
       "      <td>-0.617315</td>\n",
       "      <td>-0.415475</td>\n",
       "      <td>-0.716660</td>\n",
       "      <td>-0.560953</td>\n",
       "      <td>-0.349546</td>\n",
       "      <td>-0.296489</td>\n",
       "      <td>-0.713200</td>\n",
       "      <td>-0.534391</td>\n",
       "      <td>-0.585242</td>\n",
       "      <td>...</td>\n",
       "      <td>0.297939</td>\n",
       "      <td>1.312278</td>\n",
       "      <td>-1.605351</td>\n",
       "      <td>-0.419828</td>\n",
       "      <td>0.784928</td>\n",
       "      <td>0.698667</td>\n",
       "      <td>0.719864</td>\n",
       "      <td>-0.545963</td>\n",
       "      <td>-0.354603</td>\n",
       "      <td>1</td>\n",
       "    </tr>\n",
       "  </tbody>\n",
       "</table>\n",
       "<p>5 rows × 21 columns</p>\n",
       "</div>"
      ],
      "text/plain": [
       "         minutes   n_steps  n_ingredients  calories  total fat (PDV)  \\\n",
       "113923 -0.210775 -0.096471       0.394934 -0.387896        -0.357794   \n",
       "113924  0.315608  4.764736       0.935206 -0.067147         0.233212   \n",
       "113925 -0.271511 -0.790930      -0.415475 -0.641802        -0.634828   \n",
       "113926 -0.109547 -0.617315       3.366432 -0.109607        -0.191574   \n",
       "113927 -0.190529 -0.617315      -0.415475 -0.716660        -0.560953   \n",
       "\n",
       "        sugar (PDV)  sodium (PDV)  protein (PDV)  saturated fat (PDV)  \\\n",
       "113923    -0.255050      0.142436      -0.383892            -0.415088   \n",
       "113924    -0.284891     -0.221550      -0.361938             0.592363   \n",
       "113925    -0.165526      0.709828      -0.603430            -0.600671   \n",
       "113926    -0.190394     -0.050262       0.121048            -0.322297   \n",
       "113927    -0.349546     -0.296489      -0.713200            -0.534391   \n",
       "\n",
       "        carbohydrates (PDV)  ...  nut_free  lactose_free  egg_free     vegan  \\\n",
       "113923            -0.316301  ...  0.297939     -0.762034  0.622917 -0.419828   \n",
       "113924            -0.239461  ...  0.297939     -0.762034 -1.605351 -0.419828   \n",
       "113925            -0.316301  ...  0.297939      1.312278  0.622917  2.381929   \n",
       "113926            -0.008941  ...  0.297939      1.312278  0.622917 -0.419828   \n",
       "113927            -0.585242  ...  0.297939      1.312278 -1.605351 -0.419828   \n",
       "\n",
       "          veggie      fish  low_calories  normal_calories  high_calories  \\\n",
       "113923 -1.274002 -1.431297      0.719864        -0.545963      -0.354603   \n",
       "113924  0.784928  0.698667      0.719864        -0.545963      -0.354603   \n",
       "113925  0.784928  0.698667      0.719864        -0.545963      -0.354603   \n",
       "113926 -1.274002 -1.431297      0.719864        -0.545963      -0.354603   \n",
       "113927  0.784928  0.698667      0.719864        -0.545963      -0.354603   \n",
       "\n",
       "        label  \n",
       "113923      0  \n",
       "113924      3  \n",
       "113925      1  \n",
       "113926      0  \n",
       "113927      1  \n",
       "\n",
       "[5 rows x 21 columns]"
      ]
     },
     "execution_count": 39,
     "metadata": {},
     "output_type": "execute_result"
    }
   ],
   "source": [
    "\n",
    "data_labeled_low = pd.concat([df_low_entero,pd.DataFrame(labels_optimolow)],axis=1, join = 'inner').rename(columns={0:\"label\"})\n",
    "data_labeled_low.tail()"
   ]
  },
  {
   "cell_type": "code",
   "execution_count": 40,
   "id": "d8946631",
   "metadata": {},
   "outputs": [
    {
     "data": {
      "text/plain": [
       "(113928, 21)"
      ]
     },
     "execution_count": 40,
     "metadata": {},
     "output_type": "execute_result"
    }
   ],
   "source": [
    "data_labeled_low.shape"
   ]
  },
  {
   "cell_type": "code",
   "execution_count": 41,
   "id": "cfecedfa",
   "metadata": {},
   "outputs": [
    {
     "data": {
      "text/plain": [
       "1    59604\n",
       "0    36971\n",
       "3    16160\n",
       "4     1017\n",
       "2      176\n",
       "Name: label, dtype: int64"
      ]
     },
     "execution_count": 41,
     "metadata": {},
     "output_type": "execute_result"
    }
   ],
   "source": [
    "data_labeled_low.label.value_counts()"
   ]
  },
  {
   "cell_type": "code",
   "execution_count": 42,
   "id": "787e33e4",
   "metadata": {},
   "outputs": [
    {
     "data": {
      "text/html": [
       "<div>\n",
       "<style scoped>\n",
       "    .dataframe tbody tr th:only-of-type {\n",
       "        vertical-align: middle;\n",
       "    }\n",
       "\n",
       "    .dataframe tbody tr th {\n",
       "        vertical-align: top;\n",
       "    }\n",
       "\n",
       "    .dataframe thead th {\n",
       "        text-align: right;\n",
       "    }\n",
       "</style>\n",
       "<table border=\"1\" class=\"dataframe\">\n",
       "  <thead>\n",
       "    <tr style=\"text-align: right;\">\n",
       "      <th></th>\n",
       "      <th>minutes</th>\n",
       "      <th>n_steps</th>\n",
       "      <th>n_ingredients</th>\n",
       "      <th>calories</th>\n",
       "      <th>total fat (PDV)</th>\n",
       "      <th>sugar (PDV)</th>\n",
       "      <th>sodium (PDV)</th>\n",
       "      <th>protein (PDV)</th>\n",
       "      <th>saturated fat (PDV)</th>\n",
       "      <th>carbohydrates (PDV)</th>\n",
       "      <th>gluten_free</th>\n",
       "      <th>nut_free</th>\n",
       "      <th>lactose_free</th>\n",
       "      <th>egg_free</th>\n",
       "      <th>vegan</th>\n",
       "      <th>veggie</th>\n",
       "      <th>fish</th>\n",
       "      <th>low_calories</th>\n",
       "      <th>normal_calories</th>\n",
       "      <th>high_calories</th>\n",
       "    </tr>\n",
       "    <tr>\n",
       "      <th>label</th>\n",
       "      <th></th>\n",
       "      <th></th>\n",
       "      <th></th>\n",
       "      <th></th>\n",
       "      <th></th>\n",
       "      <th></th>\n",
       "      <th></th>\n",
       "      <th></th>\n",
       "      <th></th>\n",
       "      <th></th>\n",
       "      <th></th>\n",
       "      <th></th>\n",
       "      <th></th>\n",
       "      <th></th>\n",
       "      <th></th>\n",
       "      <th></th>\n",
       "      <th></th>\n",
       "      <th></th>\n",
       "      <th></th>\n",
       "      <th></th>\n",
       "    </tr>\n",
       "  </thead>\n",
       "  <tbody>\n",
       "    <tr>\n",
       "      <th>0</th>\n",
       "      <td>-0.069079</td>\n",
       "      <td>-0.226761</td>\n",
       "      <td>0.702291</td>\n",
       "      <td>-0.356659</td>\n",
       "      <td>-0.342033</td>\n",
       "      <td>-0.186543</td>\n",
       "      <td>-0.093078</td>\n",
       "      <td>-0.235183</td>\n",
       "      <td>-0.335742</td>\n",
       "      <td>-0.252640</td>\n",
       "      <td>-0.079870</td>\n",
       "      <td>-0.057204</td>\n",
       "      <td>0.114854</td>\n",
       "      <td>-0.059347</td>\n",
       "      <td>-0.021818</td>\n",
       "      <td>-0.142484</td>\n",
       "      <td>-0.113371</td>\n",
       "      <td>0.719864</td>\n",
       "      <td>-0.545963</td>\n",
       "      <td>-0.354603</td>\n",
       "    </tr>\n",
       "    <tr>\n",
       "      <th>1</th>\n",
       "      <td>-0.148015</td>\n",
       "      <td>-0.488645</td>\n",
       "      <td>-0.782668</td>\n",
       "      <td>-0.425721</td>\n",
       "      <td>-0.381010</td>\n",
       "      <td>-0.168864</td>\n",
       "      <td>-0.163656</td>\n",
       "      <td>-0.425671</td>\n",
       "      <td>-0.333703</td>\n",
       "      <td>-0.290826</td>\n",
       "      <td>0.166681</td>\n",
       "      <td>0.076364</td>\n",
       "      <td>0.071464</td>\n",
       "      <td>0.151535</td>\n",
       "      <td>0.199902</td>\n",
       "      <td>0.269021</td>\n",
       "      <td>0.263983</td>\n",
       "      <td>0.719864</td>\n",
       "      <td>-0.545963</td>\n",
       "      <td>-0.354603</td>\n",
       "    </tr>\n",
       "    <tr>\n",
       "      <th>2</th>\n",
       "      <td>16.068130</td>\n",
       "      <td>0.571353</td>\n",
       "      <td>-0.140734</td>\n",
       "      <td>-0.448492</td>\n",
       "      <td>-0.442374</td>\n",
       "      <td>-0.056081</td>\n",
       "      <td>0.419502</td>\n",
       "      <td>-0.456988</td>\n",
       "      <td>-0.417649</td>\n",
       "      <td>-0.267840</td>\n",
       "      <td>-0.250817</td>\n",
       "      <td>0.090307</td>\n",
       "      <td>0.616912</td>\n",
       "      <td>0.268420</td>\n",
       "      <td>0.662669</td>\n",
       "      <td>0.211703</td>\n",
       "      <td>0.226686</td>\n",
       "      <td>0.719864</td>\n",
       "      <td>-0.545963</td>\n",
       "      <td>-0.354603</td>\n",
       "    </tr>\n",
       "    <tr>\n",
       "      <th>3</th>\n",
       "      <td>-0.033878</td>\n",
       "      <td>1.546120</td>\n",
       "      <td>0.470091</td>\n",
       "      <td>-0.359503</td>\n",
       "      <td>-0.331828</td>\n",
       "      <td>-0.154578</td>\n",
       "      <td>-0.136373</td>\n",
       "      <td>-0.361419</td>\n",
       "      <td>-0.281572</td>\n",
       "      <td>-0.233422</td>\n",
       "      <td>-0.069350</td>\n",
       "      <td>-0.062293</td>\n",
       "      <td>-0.159123</td>\n",
       "      <td>-0.350985</td>\n",
       "      <td>-0.142946</td>\n",
       "      <td>0.102270</td>\n",
       "      <td>0.081557</td>\n",
       "      <td>0.719864</td>\n",
       "      <td>-0.545963</td>\n",
       "      <td>-0.354603</td>\n",
       "    </tr>\n",
       "    <tr>\n",
       "      <th>4</th>\n",
       "      <td>4.575152</td>\n",
       "      <td>0.133478</td>\n",
       "      <td>-0.168979</td>\n",
       "      <td>-0.406213</td>\n",
       "      <td>-0.391300</td>\n",
       "      <td>-0.103291</td>\n",
       "      <td>1.209934</td>\n",
       "      <td>-0.401161</td>\n",
       "      <td>-0.375763</td>\n",
       "      <td>-0.254799</td>\n",
       "      <td>-0.102957</td>\n",
       "      <td>0.071565</td>\n",
       "      <td>0.496423</td>\n",
       "      <td>0.292073</td>\n",
       "      <td>0.577454</td>\n",
       "      <td>0.181623</td>\n",
       "      <td>0.133190</td>\n",
       "      <td>0.719864</td>\n",
       "      <td>-0.545963</td>\n",
       "      <td>-0.354603</td>\n",
       "    </tr>\n",
       "  </tbody>\n",
       "</table>\n",
       "</div>"
      ],
      "text/plain": [
       "         minutes   n_steps  n_ingredients  calories  total fat (PDV)  \\\n",
       "label                                                                  \n",
       "0      -0.069079 -0.226761       0.702291 -0.356659        -0.342033   \n",
       "1      -0.148015 -0.488645      -0.782668 -0.425721        -0.381010   \n",
       "2      16.068130  0.571353      -0.140734 -0.448492        -0.442374   \n",
       "3      -0.033878  1.546120       0.470091 -0.359503        -0.331828   \n",
       "4       4.575152  0.133478      -0.168979 -0.406213        -0.391300   \n",
       "\n",
       "       sugar (PDV)  sodium (PDV)  protein (PDV)  saturated fat (PDV)  \\\n",
       "label                                                                  \n",
       "0        -0.186543     -0.093078      -0.235183            -0.335742   \n",
       "1        -0.168864     -0.163656      -0.425671            -0.333703   \n",
       "2        -0.056081      0.419502      -0.456988            -0.417649   \n",
       "3        -0.154578     -0.136373      -0.361419            -0.281572   \n",
       "4        -0.103291      1.209934      -0.401161            -0.375763   \n",
       "\n",
       "       carbohydrates (PDV)  gluten_free  nut_free  lactose_free  egg_free  \\\n",
       "label                                                                       \n",
       "0                -0.252640    -0.079870 -0.057204      0.114854 -0.059347   \n",
       "1                -0.290826     0.166681  0.076364      0.071464  0.151535   \n",
       "2                -0.267840    -0.250817  0.090307      0.616912  0.268420   \n",
       "3                -0.233422    -0.069350 -0.062293     -0.159123 -0.350985   \n",
       "4                -0.254799    -0.102957  0.071565      0.496423  0.292073   \n",
       "\n",
       "          vegan    veggie      fish  low_calories  normal_calories  \\\n",
       "label                                                                \n",
       "0     -0.021818 -0.142484 -0.113371      0.719864        -0.545963   \n",
       "1      0.199902  0.269021  0.263983      0.719864        -0.545963   \n",
       "2      0.662669  0.211703  0.226686      0.719864        -0.545963   \n",
       "3     -0.142946  0.102270  0.081557      0.719864        -0.545963   \n",
       "4      0.577454  0.181623  0.133190      0.719864        -0.545963   \n",
       "\n",
       "       high_calories  \n",
       "label                 \n",
       "0          -0.354603  \n",
       "1          -0.354603  \n",
       "2          -0.354603  \n",
       "3          -0.354603  \n",
       "4          -0.354603  "
      ]
     },
     "execution_count": 42,
     "metadata": {},
     "output_type": "execute_result"
    }
   ],
   "source": [
    "predict_low = data_labeled_low.groupby('label').mean()\n",
    "predict_low\n"
   ]
  },
  {
   "cell_type": "code",
   "execution_count": 43,
   "id": "ba7357cb",
   "metadata": {},
   "outputs": [],
   "source": [
    "predict_low.drop(columns = ['gluten_free', 'nut_free', 'lactose_free',\n",
    "       'egg_free', 'vegan', 'veggie', 'fish', 'low_calories',\n",
    "       'normal_calories', 'high_calories','calories'], inplace = True)"
   ]
  },
  {
   "cell_type": "code",
   "execution_count": 44,
   "id": "afdbd317",
   "metadata": {},
   "outputs": [
    {
     "data": {
      "text/html": [
       "<div>\n",
       "<style scoped>\n",
       "    .dataframe tbody tr th:only-of-type {\n",
       "        vertical-align: middle;\n",
       "    }\n",
       "\n",
       "    .dataframe tbody tr th {\n",
       "        vertical-align: top;\n",
       "    }\n",
       "\n",
       "    .dataframe thead th {\n",
       "        text-align: right;\n",
       "    }\n",
       "</style>\n",
       "<table border=\"1\" class=\"dataframe\">\n",
       "  <thead>\n",
       "    <tr style=\"text-align: right;\">\n",
       "      <th></th>\n",
       "      <th>minutes</th>\n",
       "      <th>n_steps</th>\n",
       "      <th>n_ingredients</th>\n",
       "      <th>total fat (PDV)</th>\n",
       "      <th>sugar (PDV)</th>\n",
       "      <th>sodium (PDV)</th>\n",
       "      <th>protein (PDV)</th>\n",
       "      <th>saturated fat (PDV)</th>\n",
       "      <th>carbohydrates (PDV)</th>\n",
       "    </tr>\n",
       "    <tr>\n",
       "      <th>label</th>\n",
       "      <th></th>\n",
       "      <th></th>\n",
       "      <th></th>\n",
       "      <th></th>\n",
       "      <th></th>\n",
       "      <th></th>\n",
       "      <th></th>\n",
       "      <th></th>\n",
       "      <th></th>\n",
       "    </tr>\n",
       "  </thead>\n",
       "  <tbody>\n",
       "    <tr>\n",
       "      <th>0</th>\n",
       "      <td>-0.069079</td>\n",
       "      <td>-0.226761</td>\n",
       "      <td>0.702291</td>\n",
       "      <td>-0.342033</td>\n",
       "      <td>-0.186543</td>\n",
       "      <td>-0.093078</td>\n",
       "      <td>-0.235183</td>\n",
       "      <td>-0.335742</td>\n",
       "      <td>-0.252640</td>\n",
       "    </tr>\n",
       "    <tr>\n",
       "      <th>1</th>\n",
       "      <td>-0.148015</td>\n",
       "      <td>-0.488645</td>\n",
       "      <td>-0.782668</td>\n",
       "      <td>-0.381010</td>\n",
       "      <td>-0.168864</td>\n",
       "      <td>-0.163656</td>\n",
       "      <td>-0.425671</td>\n",
       "      <td>-0.333703</td>\n",
       "      <td>-0.290826</td>\n",
       "    </tr>\n",
       "    <tr>\n",
       "      <th>2</th>\n",
       "      <td>16.068130</td>\n",
       "      <td>0.571353</td>\n",
       "      <td>-0.140734</td>\n",
       "      <td>-0.442374</td>\n",
       "      <td>-0.056081</td>\n",
       "      <td>0.419502</td>\n",
       "      <td>-0.456988</td>\n",
       "      <td>-0.417649</td>\n",
       "      <td>-0.267840</td>\n",
       "    </tr>\n",
       "    <tr>\n",
       "      <th>3</th>\n",
       "      <td>-0.033878</td>\n",
       "      <td>1.546120</td>\n",
       "      <td>0.470091</td>\n",
       "      <td>-0.331828</td>\n",
       "      <td>-0.154578</td>\n",
       "      <td>-0.136373</td>\n",
       "      <td>-0.361419</td>\n",
       "      <td>-0.281572</td>\n",
       "      <td>-0.233422</td>\n",
       "    </tr>\n",
       "    <tr>\n",
       "      <th>4</th>\n",
       "      <td>4.575152</td>\n",
       "      <td>0.133478</td>\n",
       "      <td>-0.168979</td>\n",
       "      <td>-0.391300</td>\n",
       "      <td>-0.103291</td>\n",
       "      <td>1.209934</td>\n",
       "      <td>-0.401161</td>\n",
       "      <td>-0.375763</td>\n",
       "      <td>-0.254799</td>\n",
       "    </tr>\n",
       "  </tbody>\n",
       "</table>\n",
       "</div>"
      ],
      "text/plain": [
       "         minutes   n_steps  n_ingredients  total fat (PDV)  sugar (PDV)  \\\n",
       "label                                                                     \n",
       "0      -0.069079 -0.226761       0.702291        -0.342033    -0.186543   \n",
       "1      -0.148015 -0.488645      -0.782668        -0.381010    -0.168864   \n",
       "2      16.068130  0.571353      -0.140734        -0.442374    -0.056081   \n",
       "3      -0.033878  1.546120       0.470091        -0.331828    -0.154578   \n",
       "4       4.575152  0.133478      -0.168979        -0.391300    -0.103291   \n",
       "\n",
       "       sodium (PDV)  protein (PDV)  saturated fat (PDV)  carbohydrates (PDV)  \n",
       "label                                                                         \n",
       "0         -0.093078      -0.235183            -0.335742            -0.252640  \n",
       "1         -0.163656      -0.425671            -0.333703            -0.290826  \n",
       "2          0.419502      -0.456988            -0.417649            -0.267840  \n",
       "3         -0.136373      -0.361419            -0.281572            -0.233422  \n",
       "4          1.209934      -0.401161            -0.375763            -0.254799  "
      ]
     },
     "execution_count": 44,
     "metadata": {},
     "output_type": "execute_result"
    }
   ],
   "source": [
    "predict_low"
   ]
  },
  {
   "cell_type": "code",
   "execution_count": 45,
   "id": "96a6bdff",
   "metadata": {},
   "outputs": [],
   "source": [
    "predict_low.to_csv('predict_low.csv')"
   ]
  },
  {
   "cell_type": "code",
   "execution_count": 46,
   "id": "13b99a68",
   "metadata": {},
   "outputs": [],
   "source": [
    "scaler = MinMaxScaler()\n",
    "scaled_low = scaler.fit_transform(predict_low)"
   ]
  },
  {
   "cell_type": "code",
   "execution_count": 47,
   "id": "eee8d559",
   "metadata": {
    "scrolled": true
   },
   "outputs": [
    {
     "data": {
      "text/html": [
       "<div>\n",
       "<style scoped>\n",
       "    .dataframe tbody tr th:only-of-type {\n",
       "        vertical-align: middle;\n",
       "    }\n",
       "\n",
       "    .dataframe tbody tr th {\n",
       "        vertical-align: top;\n",
       "    }\n",
       "\n",
       "    .dataframe thead tr th {\n",
       "        text-align: left;\n",
       "    }\n",
       "</style>\n",
       "<table border=\"1\" class=\"dataframe\">\n",
       "  <thead>\n",
       "    <tr>\n",
       "      <th></th>\n",
       "      <th>minutes</th>\n",
       "      <th>n_steps</th>\n",
       "      <th>n_ingredients</th>\n",
       "      <th>total fat (PDV)</th>\n",
       "      <th>sugar (PDV)</th>\n",
       "      <th>sodium (PDV)</th>\n",
       "      <th>protein (PDV)</th>\n",
       "      <th>saturated fat (PDV)</th>\n",
       "      <th>carbohydrates (PDV)</th>\n",
       "    </tr>\n",
       "  </thead>\n",
       "  <tbody>\n",
       "    <tr>\n",
       "      <th>0</th>\n",
       "      <td>0.048677</td>\n",
       "      <td>1.287048</td>\n",
       "      <td>10.000000</td>\n",
       "      <td>9.076864</td>\n",
       "      <td>0.000000</td>\n",
       "      <td>0.513823</td>\n",
       "      <td>10.000000</td>\n",
       "      <td>6.019164</td>\n",
       "      <td>6.652144</td>\n",
       "    </tr>\n",
       "    <tr>\n",
       "      <th>1</th>\n",
       "      <td>0.000000</td>\n",
       "      <td>0.000000</td>\n",
       "      <td>0.000000</td>\n",
       "      <td>5.551010</td>\n",
       "      <td>1.355102</td>\n",
       "      <td>0.000000</td>\n",
       "      <td>1.411893</td>\n",
       "      <td>6.169050</td>\n",
       "      <td>0.000000</td>\n",
       "    </tr>\n",
       "    <tr>\n",
       "      <th>2</th>\n",
       "      <td>10.000000</td>\n",
       "      <td>5.209436</td>\n",
       "      <td>4.322908</td>\n",
       "      <td>0.000000</td>\n",
       "      <td>10.000000</td>\n",
       "      <td>4.245503</td>\n",
       "      <td>0.000000</td>\n",
       "      <td>0.000000</td>\n",
       "      <td>4.004327</td>\n",
       "    </tr>\n",
       "    <tr>\n",
       "      <th>3</th>\n",
       "      <td>0.070385</td>\n",
       "      <td>10.000000</td>\n",
       "      <td>8.436320</td>\n",
       "      <td>10.000000</td>\n",
       "      <td>2.450100</td>\n",
       "      <td>0.198620</td>\n",
       "      <td>4.308704</td>\n",
       "      <td>10.000000</td>\n",
       "      <td>10.000000</td>\n",
       "    </tr>\n",
       "    <tr>\n",
       "      <th>4</th>\n",
       "      <td>2.912633</td>\n",
       "      <td>3.057470</td>\n",
       "      <td>4.132702</td>\n",
       "      <td>4.620153</td>\n",
       "      <td>6.381281</td>\n",
       "      <td>10.000000</td>\n",
       "      <td>2.516935</td>\n",
       "      <td>3.078078</td>\n",
       "      <td>6.276080</td>\n",
       "    </tr>\n",
       "  </tbody>\n",
       "</table>\n",
       "</div>"
      ],
      "text/plain": [
       "     minutes    n_steps n_ingredients total fat (PDV) sugar (PDV)  \\\n",
       "0   0.048677   1.287048     10.000000        9.076864    0.000000   \n",
       "1   0.000000   0.000000      0.000000        5.551010    1.355102   \n",
       "2  10.000000   5.209436      4.322908        0.000000   10.000000   \n",
       "3   0.070385  10.000000      8.436320       10.000000    2.450100   \n",
       "4   2.912633   3.057470      4.132702        4.620153    6.381281   \n",
       "\n",
       "  sodium (PDV) protein (PDV) saturated fat (PDV) carbohydrates (PDV)  \n",
       "0     0.513823     10.000000            6.019164            6.652144  \n",
       "1     0.000000      1.411893            6.169050            0.000000  \n",
       "2     4.245503      0.000000            0.000000            4.004327  \n",
       "3     0.198620      4.308704           10.000000           10.000000  \n",
       "4    10.000000      2.516935            3.078078            6.276080  "
      ]
     },
     "execution_count": 47,
     "metadata": {},
     "output_type": "execute_result"
    }
   ],
   "source": [
    "scaled_low = pd.DataFrame(scaled_low, columns = [['minutes', 'n_steps', 'n_ingredients', 'total fat (PDV)',\n",
    "       'sugar (PDV)', 'sodium (PDV)', 'protein (PDV)', 'saturated fat (PDV)',\n",
    "       'carbohydrates (PDV)']])\n",
    "scaled_low = scaled_low.applymap(lambda x: x*10)\n",
    "scaled_low.head()"
   ]
  },
  {
   "cell_type": "markdown",
   "id": "42b5c384",
   "metadata": {},
   "source": [
    "#### MEDIUM CALORIES"
   ]
  },
  {
   "cell_type": "code",
   "execution_count": 48,
   "id": "547705a3",
   "metadata": {},
   "outputs": [
    {
     "data": {
      "text/html": [
       "<div>\n",
       "<style scoped>\n",
       "    .dataframe tbody tr th:only-of-type {\n",
       "        vertical-align: middle;\n",
       "    }\n",
       "\n",
       "    .dataframe tbody tr th {\n",
       "        vertical-align: top;\n",
       "    }\n",
       "\n",
       "    .dataframe thead th {\n",
       "        text-align: right;\n",
       "    }\n",
       "</style>\n",
       "<table border=\"1\" class=\"dataframe\">\n",
       "  <thead>\n",
       "    <tr style=\"text-align: right;\">\n",
       "      <th></th>\n",
       "      <th>minutes</th>\n",
       "      <th>n_steps</th>\n",
       "      <th>n_ingredients</th>\n",
       "      <th>calories</th>\n",
       "      <th>total fat (PDV)</th>\n",
       "      <th>sugar (PDV)</th>\n",
       "      <th>sodium (PDV)</th>\n",
       "      <th>protein (PDV)</th>\n",
       "      <th>saturated fat (PDV)</th>\n",
       "      <th>carbohydrates (PDV)</th>\n",
       "      <th>gluten_free</th>\n",
       "      <th>nut_free</th>\n",
       "      <th>lactose_free</th>\n",
       "      <th>egg_free</th>\n",
       "      <th>vegan</th>\n",
       "      <th>veggie</th>\n",
       "      <th>fish</th>\n",
       "      <th>low_calories</th>\n",
       "      <th>normal_calories</th>\n",
       "      <th>high_calories</th>\n",
       "    </tr>\n",
       "  </thead>\n",
       "  <tbody>\n",
       "    <tr>\n",
       "      <th>0</th>\n",
       "      <td>-0.129793</td>\n",
       "      <td>0.077143</td>\n",
       "      <td>-0.685611</td>\n",
       "      <td>-0.729790</td>\n",
       "      <td>-0.671766</td>\n",
       "      <td>-0.294838</td>\n",
       "      <td>-0.328605</td>\n",
       "      <td>-0.801015</td>\n",
       "      <td>-0.600671</td>\n",
       "      <td>-0.431561</td>\n",
       "      <td>0.771330</td>\n",
       "      <td>0.297939</td>\n",
       "      <td>-0.762034</td>\n",
       "      <td>0.622917</td>\n",
       "      <td>-0.419828</td>\n",
       "      <td>0.784928</td>\n",
       "      <td>0.698667</td>\n",
       "      <td>0.719864</td>\n",
       "      <td>-0.545963</td>\n",
       "      <td>-0.354603</td>\n",
       "    </tr>\n",
       "    <tr>\n",
       "      <th>1</th>\n",
       "      <td>-0.231020</td>\n",
       "      <td>-0.270086</td>\n",
       "      <td>-0.955747</td>\n",
       "      <td>-0.521926</td>\n",
       "      <td>-0.339325</td>\n",
       "      <td>-0.359493</td>\n",
       "      <td>-0.146612</td>\n",
       "      <td>-0.361938</td>\n",
       "      <td>-0.136714</td>\n",
       "      <td>-0.546822</td>\n",
       "      <td>0.771330</td>\n",
       "      <td>0.297939</td>\n",
       "      <td>-0.762034</td>\n",
       "      <td>-1.605351</td>\n",
       "      <td>-0.419828</td>\n",
       "      <td>0.784928</td>\n",
       "      <td>0.698667</td>\n",
       "      <td>0.719864</td>\n",
       "      <td>-0.545963</td>\n",
       "      <td>-0.354603</td>\n",
       "    </tr>\n",
       "    <tr>\n",
       "      <th>2</th>\n",
       "      <td>0.173889</td>\n",
       "      <td>-0.790930</td>\n",
       "      <td>0.935206</td>\n",
       "      <td>-0.357544</td>\n",
       "      <td>-0.265450</td>\n",
       "      <td>-0.200341</td>\n",
       "      <td>0.185258</td>\n",
       "      <td>0.011278</td>\n",
       "      <td>-0.242761</td>\n",
       "      <td>-0.393141</td>\n",
       "      <td>0.771330</td>\n",
       "      <td>0.297939</td>\n",
       "      <td>-0.762034</td>\n",
       "      <td>0.622917</td>\n",
       "      <td>-0.419828</td>\n",
       "      <td>-1.274002</td>\n",
       "      <td>-1.431297</td>\n",
       "      <td>0.719864</td>\n",
       "      <td>-0.545963</td>\n",
       "      <td>-0.354603</td>\n",
       "    </tr>\n",
       "    <tr>\n",
       "      <th>3</th>\n",
       "      <td>-0.170284</td>\n",
       "      <td>0.077143</td>\n",
       "      <td>0.394934</td>\n",
       "      <td>-0.189922</td>\n",
       "      <td>-0.357794</td>\n",
       "      <td>-0.309758</td>\n",
       "      <td>-0.307194</td>\n",
       "      <td>-0.537569</td>\n",
       "      <td>-0.494624</td>\n",
       "      <td>0.183159</td>\n",
       "      <td>-1.296461</td>\n",
       "      <td>0.297939</td>\n",
       "      <td>-0.762034</td>\n",
       "      <td>0.622917</td>\n",
       "      <td>-0.419828</td>\n",
       "      <td>0.784928</td>\n",
       "      <td>0.698667</td>\n",
       "      <td>0.719864</td>\n",
       "      <td>-0.545963</td>\n",
       "      <td>-0.354603</td>\n",
       "    </tr>\n",
       "    <tr>\n",
       "      <th>4</th>\n",
       "      <td>-0.291756</td>\n",
       "      <td>-1.138159</td>\n",
       "      <td>-0.145338</td>\n",
       "      <td>-0.168436</td>\n",
       "      <td>0.307088</td>\n",
       "      <td>-0.324679</td>\n",
       "      <td>-0.071673</td>\n",
       "      <td>-0.713200</td>\n",
       "      <td>-0.282529</td>\n",
       "      <td>-0.354721</td>\n",
       "      <td>0.771330</td>\n",
       "      <td>0.297939</td>\n",
       "      <td>1.312278</td>\n",
       "      <td>0.622917</td>\n",
       "      <td>2.381929</td>\n",
       "      <td>0.784928</td>\n",
       "      <td>0.698667</td>\n",
       "      <td>0.719864</td>\n",
       "      <td>-0.545963</td>\n",
       "      <td>-0.354603</td>\n",
       "    </tr>\n",
       "  </tbody>\n",
       "</table>\n",
       "</div>"
      ],
      "text/plain": [
       "    minutes   n_steps  n_ingredients  calories  total fat (PDV)  sugar (PDV)  \\\n",
       "0 -0.129793  0.077143      -0.685611 -0.729790        -0.671766    -0.294838   \n",
       "1 -0.231020 -0.270086      -0.955747 -0.521926        -0.339325    -0.359493   \n",
       "2  0.173889 -0.790930       0.935206 -0.357544        -0.265450    -0.200341   \n",
       "3 -0.170284  0.077143       0.394934 -0.189922        -0.357794    -0.309758   \n",
       "4 -0.291756 -1.138159      -0.145338 -0.168436         0.307088    -0.324679   \n",
       "\n",
       "   sodium (PDV)  protein (PDV)  saturated fat (PDV)  carbohydrates (PDV)  \\\n",
       "0     -0.328605      -0.801015            -0.600671            -0.431561   \n",
       "1     -0.146612      -0.361938            -0.136714            -0.546822   \n",
       "2      0.185258       0.011278            -0.242761            -0.393141   \n",
       "3     -0.307194      -0.537569            -0.494624             0.183159   \n",
       "4     -0.071673      -0.713200            -0.282529            -0.354721   \n",
       "\n",
       "   gluten_free  nut_free  lactose_free  egg_free     vegan    veggie  \\\n",
       "0     0.771330  0.297939     -0.762034  0.622917 -0.419828  0.784928   \n",
       "1     0.771330  0.297939     -0.762034 -1.605351 -0.419828  0.784928   \n",
       "2     0.771330  0.297939     -0.762034  0.622917 -0.419828 -1.274002   \n",
       "3    -1.296461  0.297939     -0.762034  0.622917 -0.419828  0.784928   \n",
       "4     0.771330  0.297939      1.312278  0.622917  2.381929  0.784928   \n",
       "\n",
       "       fish  low_calories  normal_calories  high_calories  \n",
       "0  0.698667      0.719864        -0.545963      -0.354603  \n",
       "1  0.698667      0.719864        -0.545963      -0.354603  \n",
       "2 -1.431297      0.719864        -0.545963      -0.354603  \n",
       "3  0.698667      0.719864        -0.545963      -0.354603  \n",
       "4  0.698667      0.719864        -0.545963      -0.354603  "
      ]
     },
     "execution_count": 48,
     "metadata": {},
     "output_type": "execute_result"
    }
   ],
   "source": [
    "df2.head()"
   ]
  },
  {
   "cell_type": "code",
   "execution_count": 49,
   "id": "26d85d9f",
   "metadata": {},
   "outputs": [
    {
     "data": {
      "text/plain": [
       "(39718, 20)"
      ]
     },
     "execution_count": 49,
     "metadata": {},
     "output_type": "execute_result"
    }
   ],
   "source": [
    "df_med = df2[df2['normal_calories']> 0.5]\n",
    "df_med.shape"
   ]
  },
  {
   "cell_type": "code",
   "execution_count": 50,
   "id": "0e858577",
   "metadata": {},
   "outputs": [
    {
     "data": {
      "text/html": [
       "<div>\n",
       "<style scoped>\n",
       "    .dataframe tbody tr th:only-of-type {\n",
       "        vertical-align: middle;\n",
       "    }\n",
       "\n",
       "    .dataframe tbody tr th {\n",
       "        vertical-align: top;\n",
       "    }\n",
       "\n",
       "    .dataframe thead th {\n",
       "        text-align: right;\n",
       "    }\n",
       "</style>\n",
       "<table border=\"1\" class=\"dataframe\">\n",
       "  <thead>\n",
       "    <tr style=\"text-align: right;\">\n",
       "      <th></th>\n",
       "      <th>minutes</th>\n",
       "      <th>n_steps</th>\n",
       "      <th>n_ingredients</th>\n",
       "      <th>calories</th>\n",
       "      <th>total fat (PDV)</th>\n",
       "      <th>sugar (PDV)</th>\n",
       "      <th>sodium (PDV)</th>\n",
       "      <th>protein (PDV)</th>\n",
       "      <th>saturated fat (PDV)</th>\n",
       "      <th>carbohydrates (PDV)</th>\n",
       "      <th>gluten_free</th>\n",
       "      <th>nut_free</th>\n",
       "      <th>lactose_free</th>\n",
       "      <th>egg_free</th>\n",
       "      <th>vegan</th>\n",
       "      <th>veggie</th>\n",
       "      <th>fish</th>\n",
       "      <th>low_calories</th>\n",
       "      <th>normal_calories</th>\n",
       "      <th>high_calories</th>\n",
       "    </tr>\n",
       "  </thead>\n",
       "  <tbody>\n",
       "    <tr>\n",
       "      <th>8</th>\n",
       "      <td>5.559186</td>\n",
       "      <td>-0.443700</td>\n",
       "      <td>-0.685611</td>\n",
       "      <td>0.434183</td>\n",
       "      <td>0.547184</td>\n",
       "      <td>0.630236</td>\n",
       "      <td>-0.221550</td>\n",
       "      <td>-0.625384</td>\n",
       "      <td>0.950273</td>\n",
       "      <td>0.490520</td>\n",
       "      <td>0.771330</td>\n",
       "      <td>-3.356390</td>\n",
       "      <td>-0.762034</td>\n",
       "      <td>-1.605351</td>\n",
       "      <td>-0.419828</td>\n",
       "      <td>0.784928</td>\n",
       "      <td>0.698667</td>\n",
       "      <td>-1.389151</td>\n",
       "      <td>1.831625</td>\n",
       "      <td>-0.354603</td>\n",
       "    </tr>\n",
       "    <tr>\n",
       "      <th>9</th>\n",
       "      <td>11.673320</td>\n",
       "      <td>-0.270086</td>\n",
       "      <td>0.935206</td>\n",
       "      <td>-0.029121</td>\n",
       "      <td>-0.154636</td>\n",
       "      <td>0.704839</td>\n",
       "      <td>0.410074</td>\n",
       "      <td>-0.537569</td>\n",
       "      <td>-0.216249</td>\n",
       "      <td>0.298419</td>\n",
       "      <td>0.771330</td>\n",
       "      <td>0.297939</td>\n",
       "      <td>1.312278</td>\n",
       "      <td>0.622917</td>\n",
       "      <td>-0.419828</td>\n",
       "      <td>-1.274002</td>\n",
       "      <td>-1.431297</td>\n",
       "      <td>-1.389151</td>\n",
       "      <td>1.831625</td>\n",
       "      <td>-0.354603</td>\n",
       "    </tr>\n",
       "    <tr>\n",
       "      <th>26</th>\n",
       "      <td>-0.129793</td>\n",
       "      <td>0.077143</td>\n",
       "      <td>0.665070</td>\n",
       "      <td>-0.038670</td>\n",
       "      <td>0.066991</td>\n",
       "      <td>-0.190394</td>\n",
       "      <td>0.388663</td>\n",
       "      <td>0.406448</td>\n",
       "      <td>0.075381</td>\n",
       "      <td>-0.239461</td>\n",
       "      <td>0.771330</td>\n",
       "      <td>0.297939</td>\n",
       "      <td>-0.762034</td>\n",
       "      <td>0.622917</td>\n",
       "      <td>-0.419828</td>\n",
       "      <td>-1.274002</td>\n",
       "      <td>-1.431297</td>\n",
       "      <td>-1.389151</td>\n",
       "      <td>1.831625</td>\n",
       "      <td>-0.354603</td>\n",
       "    </tr>\n",
       "    <tr>\n",
       "      <th>33</th>\n",
       "      <td>-0.170284</td>\n",
       "      <td>-0.790930</td>\n",
       "      <td>-0.415475</td>\n",
       "      <td>0.286683</td>\n",
       "      <td>0.380964</td>\n",
       "      <td>-0.076003</td>\n",
       "      <td>0.292313</td>\n",
       "      <td>0.340586</td>\n",
       "      <td>0.101893</td>\n",
       "      <td>0.029479</td>\n",
       "      <td>-1.296461</td>\n",
       "      <td>0.297939</td>\n",
       "      <td>-0.762034</td>\n",
       "      <td>0.622917</td>\n",
       "      <td>-0.419828</td>\n",
       "      <td>-1.274002</td>\n",
       "      <td>-1.431297</td>\n",
       "      <td>-1.389151</td>\n",
       "      <td>1.831625</td>\n",
       "      <td>-0.354603</td>\n",
       "    </tr>\n",
       "    <tr>\n",
       "      <th>34</th>\n",
       "      <td>-0.279609</td>\n",
       "      <td>-0.443700</td>\n",
       "      <td>-0.415475</td>\n",
       "      <td>0.518250</td>\n",
       "      <td>0.177805</td>\n",
       "      <td>0.172673</td>\n",
       "      <td>0.270902</td>\n",
       "      <td>-0.054583</td>\n",
       "      <td>-0.322297</td>\n",
       "      <td>0.836300</td>\n",
       "      <td>-1.296461</td>\n",
       "      <td>0.297939</td>\n",
       "      <td>1.312278</td>\n",
       "      <td>0.622917</td>\n",
       "      <td>-0.419828</td>\n",
       "      <td>0.784928</td>\n",
       "      <td>0.698667</td>\n",
       "      <td>-1.389151</td>\n",
       "      <td>1.831625</td>\n",
       "      <td>-0.354603</td>\n",
       "    </tr>\n",
       "  </tbody>\n",
       "</table>\n",
       "</div>"
      ],
      "text/plain": [
       "      minutes   n_steps  n_ingredients  calories  total fat (PDV)  \\\n",
       "8    5.559186 -0.443700      -0.685611  0.434183         0.547184   \n",
       "9   11.673320 -0.270086       0.935206 -0.029121        -0.154636   \n",
       "26  -0.129793  0.077143       0.665070 -0.038670         0.066991   \n",
       "33  -0.170284 -0.790930      -0.415475  0.286683         0.380964   \n",
       "34  -0.279609 -0.443700      -0.415475  0.518250         0.177805   \n",
       "\n",
       "    sugar (PDV)  sodium (PDV)  protein (PDV)  saturated fat (PDV)  \\\n",
       "8      0.630236     -0.221550      -0.625384             0.950273   \n",
       "9      0.704839      0.410074      -0.537569            -0.216249   \n",
       "26    -0.190394      0.388663       0.406448             0.075381   \n",
       "33    -0.076003      0.292313       0.340586             0.101893   \n",
       "34     0.172673      0.270902      -0.054583            -0.322297   \n",
       "\n",
       "    carbohydrates (PDV)  gluten_free  nut_free  lactose_free  egg_free  \\\n",
       "8              0.490520     0.771330 -3.356390     -0.762034 -1.605351   \n",
       "9              0.298419     0.771330  0.297939      1.312278  0.622917   \n",
       "26            -0.239461     0.771330  0.297939     -0.762034  0.622917   \n",
       "33             0.029479    -1.296461  0.297939     -0.762034  0.622917   \n",
       "34             0.836300    -1.296461  0.297939      1.312278  0.622917   \n",
       "\n",
       "       vegan    veggie      fish  low_calories  normal_calories  high_calories  \n",
       "8  -0.419828  0.784928  0.698667     -1.389151         1.831625      -0.354603  \n",
       "9  -0.419828 -1.274002 -1.431297     -1.389151         1.831625      -0.354603  \n",
       "26 -0.419828 -1.274002 -1.431297     -1.389151         1.831625      -0.354603  \n",
       "33 -0.419828 -1.274002 -1.431297     -1.389151         1.831625      -0.354603  \n",
       "34 -0.419828  0.784928  0.698667     -1.389151         1.831625      -0.354603  "
      ]
     },
     "execution_count": 50,
     "metadata": {},
     "output_type": "execute_result"
    }
   ],
   "source": [
    "df_med.head()"
   ]
  },
  {
   "cell_type": "code",
   "execution_count": 51,
   "id": "05bdb88c",
   "metadata": {},
   "outputs": [],
   "source": [
    "df_med_entero = df_med.copy().reset_index(drop = True)"
   ]
  },
  {
   "cell_type": "code",
   "execution_count": 52,
   "id": "b03bfce1",
   "metadata": {},
   "outputs": [
    {
     "data": {
      "text/html": [
       "<div>\n",
       "<style scoped>\n",
       "    .dataframe tbody tr th:only-of-type {\n",
       "        vertical-align: middle;\n",
       "    }\n",
       "\n",
       "    .dataframe tbody tr th {\n",
       "        vertical-align: top;\n",
       "    }\n",
       "\n",
       "    .dataframe thead th {\n",
       "        text-align: right;\n",
       "    }\n",
       "</style>\n",
       "<table border=\"1\" class=\"dataframe\">\n",
       "  <thead>\n",
       "    <tr style=\"text-align: right;\">\n",
       "      <th></th>\n",
       "      <th>minutes</th>\n",
       "      <th>n_steps</th>\n",
       "      <th>n_ingredients</th>\n",
       "      <th>calories</th>\n",
       "      <th>total fat (PDV)</th>\n",
       "      <th>sugar (PDV)</th>\n",
       "      <th>sodium (PDV)</th>\n",
       "      <th>protein (PDV)</th>\n",
       "      <th>saturated fat (PDV)</th>\n",
       "      <th>carbohydrates (PDV)</th>\n",
       "      <th>gluten_free</th>\n",
       "      <th>nut_free</th>\n",
       "      <th>lactose_free</th>\n",
       "      <th>egg_free</th>\n",
       "      <th>vegan</th>\n",
       "      <th>veggie</th>\n",
       "      <th>fish</th>\n",
       "      <th>low_calories</th>\n",
       "      <th>normal_calories</th>\n",
       "      <th>high_calories</th>\n",
       "    </tr>\n",
       "  </thead>\n",
       "  <tbody>\n",
       "    <tr>\n",
       "      <th>0</th>\n",
       "      <td>5.559186</td>\n",
       "      <td>-0.443700</td>\n",
       "      <td>-0.685611</td>\n",
       "      <td>0.434183</td>\n",
       "      <td>0.547184</td>\n",
       "      <td>0.630236</td>\n",
       "      <td>-0.221550</td>\n",
       "      <td>-0.625384</td>\n",
       "      <td>0.950273</td>\n",
       "      <td>0.490520</td>\n",
       "      <td>0.771330</td>\n",
       "      <td>-3.356390</td>\n",
       "      <td>-0.762034</td>\n",
       "      <td>-1.605351</td>\n",
       "      <td>-0.419828</td>\n",
       "      <td>0.784928</td>\n",
       "      <td>0.698667</td>\n",
       "      <td>-1.389151</td>\n",
       "      <td>1.831625</td>\n",
       "      <td>-0.354603</td>\n",
       "    </tr>\n",
       "    <tr>\n",
       "      <th>1</th>\n",
       "      <td>11.673320</td>\n",
       "      <td>-0.270086</td>\n",
       "      <td>0.935206</td>\n",
       "      <td>-0.029121</td>\n",
       "      <td>-0.154636</td>\n",
       "      <td>0.704839</td>\n",
       "      <td>0.410074</td>\n",
       "      <td>-0.537569</td>\n",
       "      <td>-0.216249</td>\n",
       "      <td>0.298419</td>\n",
       "      <td>0.771330</td>\n",
       "      <td>0.297939</td>\n",
       "      <td>1.312278</td>\n",
       "      <td>0.622917</td>\n",
       "      <td>-0.419828</td>\n",
       "      <td>-1.274002</td>\n",
       "      <td>-1.431297</td>\n",
       "      <td>-1.389151</td>\n",
       "      <td>1.831625</td>\n",
       "      <td>-0.354603</td>\n",
       "    </tr>\n",
       "    <tr>\n",
       "      <th>2</th>\n",
       "      <td>-0.129793</td>\n",
       "      <td>0.077143</td>\n",
       "      <td>0.665070</td>\n",
       "      <td>-0.038670</td>\n",
       "      <td>0.066991</td>\n",
       "      <td>-0.190394</td>\n",
       "      <td>0.388663</td>\n",
       "      <td>0.406448</td>\n",
       "      <td>0.075381</td>\n",
       "      <td>-0.239461</td>\n",
       "      <td>0.771330</td>\n",
       "      <td>0.297939</td>\n",
       "      <td>-0.762034</td>\n",
       "      <td>0.622917</td>\n",
       "      <td>-0.419828</td>\n",
       "      <td>-1.274002</td>\n",
       "      <td>-1.431297</td>\n",
       "      <td>-1.389151</td>\n",
       "      <td>1.831625</td>\n",
       "      <td>-0.354603</td>\n",
       "    </tr>\n",
       "    <tr>\n",
       "      <th>3</th>\n",
       "      <td>-0.170284</td>\n",
       "      <td>-0.790930</td>\n",
       "      <td>-0.415475</td>\n",
       "      <td>0.286683</td>\n",
       "      <td>0.380964</td>\n",
       "      <td>-0.076003</td>\n",
       "      <td>0.292313</td>\n",
       "      <td>0.340586</td>\n",
       "      <td>0.101893</td>\n",
       "      <td>0.029479</td>\n",
       "      <td>-1.296461</td>\n",
       "      <td>0.297939</td>\n",
       "      <td>-0.762034</td>\n",
       "      <td>0.622917</td>\n",
       "      <td>-0.419828</td>\n",
       "      <td>-1.274002</td>\n",
       "      <td>-1.431297</td>\n",
       "      <td>-1.389151</td>\n",
       "      <td>1.831625</td>\n",
       "      <td>-0.354603</td>\n",
       "    </tr>\n",
       "    <tr>\n",
       "      <th>4</th>\n",
       "      <td>-0.279609</td>\n",
       "      <td>-0.443700</td>\n",
       "      <td>-0.415475</td>\n",
       "      <td>0.518250</td>\n",
       "      <td>0.177805</td>\n",
       "      <td>0.172673</td>\n",
       "      <td>0.270902</td>\n",
       "      <td>-0.054583</td>\n",
       "      <td>-0.322297</td>\n",
       "      <td>0.836300</td>\n",
       "      <td>-1.296461</td>\n",
       "      <td>0.297939</td>\n",
       "      <td>1.312278</td>\n",
       "      <td>0.622917</td>\n",
       "      <td>-0.419828</td>\n",
       "      <td>0.784928</td>\n",
       "      <td>0.698667</td>\n",
       "      <td>-1.389151</td>\n",
       "      <td>1.831625</td>\n",
       "      <td>-0.354603</td>\n",
       "    </tr>\n",
       "  </tbody>\n",
       "</table>\n",
       "</div>"
      ],
      "text/plain": [
       "     minutes   n_steps  n_ingredients  calories  total fat (PDV)  sugar (PDV)  \\\n",
       "0   5.559186 -0.443700      -0.685611  0.434183         0.547184     0.630236   \n",
       "1  11.673320 -0.270086       0.935206 -0.029121        -0.154636     0.704839   \n",
       "2  -0.129793  0.077143       0.665070 -0.038670         0.066991    -0.190394   \n",
       "3  -0.170284 -0.790930      -0.415475  0.286683         0.380964    -0.076003   \n",
       "4  -0.279609 -0.443700      -0.415475  0.518250         0.177805     0.172673   \n",
       "\n",
       "   sodium (PDV)  protein (PDV)  saturated fat (PDV)  carbohydrates (PDV)  \\\n",
       "0     -0.221550      -0.625384             0.950273             0.490520   \n",
       "1      0.410074      -0.537569            -0.216249             0.298419   \n",
       "2      0.388663       0.406448             0.075381            -0.239461   \n",
       "3      0.292313       0.340586             0.101893             0.029479   \n",
       "4      0.270902      -0.054583            -0.322297             0.836300   \n",
       "\n",
       "   gluten_free  nut_free  lactose_free  egg_free     vegan    veggie  \\\n",
       "0     0.771330 -3.356390     -0.762034 -1.605351 -0.419828  0.784928   \n",
       "1     0.771330  0.297939      1.312278  0.622917 -0.419828 -1.274002   \n",
       "2     0.771330  0.297939     -0.762034  0.622917 -0.419828 -1.274002   \n",
       "3    -1.296461  0.297939     -0.762034  0.622917 -0.419828 -1.274002   \n",
       "4    -1.296461  0.297939      1.312278  0.622917 -0.419828  0.784928   \n",
       "\n",
       "       fish  low_calories  normal_calories  high_calories  \n",
       "0  0.698667     -1.389151         1.831625      -0.354603  \n",
       "1 -1.431297     -1.389151         1.831625      -0.354603  \n",
       "2 -1.431297     -1.389151         1.831625      -0.354603  \n",
       "3 -1.431297     -1.389151         1.831625      -0.354603  \n",
       "4  0.698667     -1.389151         1.831625      -0.354603  "
      ]
     },
     "execution_count": 52,
     "metadata": {},
     "output_type": "execute_result"
    }
   ],
   "source": [
    "df_med_entero.head()"
   ]
  },
  {
   "cell_type": "code",
   "execution_count": 53,
   "id": "f9f6dc3a",
   "metadata": {},
   "outputs": [
    {
     "name": "stderr",
     "output_type": "stream",
     "text": [
      "/Users/alfens/.pyenv/versions/3.8.12/envs/lewagon/lib/python3.8/site-packages/pandas/core/frame.py:4906: SettingWithCopyWarning: \n",
      "A value is trying to be set on a copy of a slice from a DataFrame\n",
      "\n",
      "See the caveats in the documentation: https://pandas.pydata.org/pandas-docs/stable/user_guide/indexing.html#returning-a-view-versus-a-copy\n",
      "  return super().drop(\n"
     ]
    }
   ],
   "source": [
    "df_med.drop(columns = ['gluten_free', 'nut_free', 'lactose_free',\n",
    "       'egg_free', 'vegan', 'veggie', 'fish', 'low_calories',\n",
    "       'normal_calories', 'high_calories', 'calories'], inplace = True)"
   ]
  },
  {
   "cell_type": "code",
   "execution_count": 54,
   "id": "04199dfc",
   "metadata": {},
   "outputs": [
    {
     "data": {
      "text/html": [
       "<div>\n",
       "<style scoped>\n",
       "    .dataframe tbody tr th:only-of-type {\n",
       "        vertical-align: middle;\n",
       "    }\n",
       "\n",
       "    .dataframe tbody tr th {\n",
       "        vertical-align: top;\n",
       "    }\n",
       "\n",
       "    .dataframe thead th {\n",
       "        text-align: right;\n",
       "    }\n",
       "</style>\n",
       "<table border=\"1\" class=\"dataframe\">\n",
       "  <thead>\n",
       "    <tr style=\"text-align: right;\">\n",
       "      <th></th>\n",
       "      <th>minutes</th>\n",
       "      <th>n_steps</th>\n",
       "      <th>n_ingredients</th>\n",
       "      <th>total fat (PDV)</th>\n",
       "      <th>sugar (PDV)</th>\n",
       "      <th>sodium (PDV)</th>\n",
       "      <th>protein (PDV)</th>\n",
       "      <th>saturated fat (PDV)</th>\n",
       "      <th>carbohydrates (PDV)</th>\n",
       "    </tr>\n",
       "  </thead>\n",
       "  <tbody>\n",
       "    <tr>\n",
       "      <th>8</th>\n",
       "      <td>5.559186</td>\n",
       "      <td>-0.443700</td>\n",
       "      <td>-0.685611</td>\n",
       "      <td>0.547184</td>\n",
       "      <td>0.630236</td>\n",
       "      <td>-0.221550</td>\n",
       "      <td>-0.625384</td>\n",
       "      <td>0.950273</td>\n",
       "      <td>0.490520</td>\n",
       "    </tr>\n",
       "    <tr>\n",
       "      <th>9</th>\n",
       "      <td>11.673320</td>\n",
       "      <td>-0.270086</td>\n",
       "      <td>0.935206</td>\n",
       "      <td>-0.154636</td>\n",
       "      <td>0.704839</td>\n",
       "      <td>0.410074</td>\n",
       "      <td>-0.537569</td>\n",
       "      <td>-0.216249</td>\n",
       "      <td>0.298419</td>\n",
       "    </tr>\n",
       "    <tr>\n",
       "      <th>26</th>\n",
       "      <td>-0.129793</td>\n",
       "      <td>0.077143</td>\n",
       "      <td>0.665070</td>\n",
       "      <td>0.066991</td>\n",
       "      <td>-0.190394</td>\n",
       "      <td>0.388663</td>\n",
       "      <td>0.406448</td>\n",
       "      <td>0.075381</td>\n",
       "      <td>-0.239461</td>\n",
       "    </tr>\n",
       "    <tr>\n",
       "      <th>33</th>\n",
       "      <td>-0.170284</td>\n",
       "      <td>-0.790930</td>\n",
       "      <td>-0.415475</td>\n",
       "      <td>0.380964</td>\n",
       "      <td>-0.076003</td>\n",
       "      <td>0.292313</td>\n",
       "      <td>0.340586</td>\n",
       "      <td>0.101893</td>\n",
       "      <td>0.029479</td>\n",
       "    </tr>\n",
       "    <tr>\n",
       "      <th>34</th>\n",
       "      <td>-0.279609</td>\n",
       "      <td>-0.443700</td>\n",
       "      <td>-0.415475</td>\n",
       "      <td>0.177805</td>\n",
       "      <td>0.172673</td>\n",
       "      <td>0.270902</td>\n",
       "      <td>-0.054583</td>\n",
       "      <td>-0.322297</td>\n",
       "      <td>0.836300</td>\n",
       "    </tr>\n",
       "  </tbody>\n",
       "</table>\n",
       "</div>"
      ],
      "text/plain": [
       "      minutes   n_steps  n_ingredients  total fat (PDV)  sugar (PDV)  \\\n",
       "8    5.559186 -0.443700      -0.685611         0.547184     0.630236   \n",
       "9   11.673320 -0.270086       0.935206        -0.154636     0.704839   \n",
       "26  -0.129793  0.077143       0.665070         0.066991    -0.190394   \n",
       "33  -0.170284 -0.790930      -0.415475         0.380964    -0.076003   \n",
       "34  -0.279609 -0.443700      -0.415475         0.177805     0.172673   \n",
       "\n",
       "    sodium (PDV)  protein (PDV)  saturated fat (PDV)  carbohydrates (PDV)  \n",
       "8      -0.221550      -0.625384             0.950273             0.490520  \n",
       "9       0.410074      -0.537569            -0.216249             0.298419  \n",
       "26      0.388663       0.406448             0.075381            -0.239461  \n",
       "33      0.292313       0.340586             0.101893             0.029479  \n",
       "34      0.270902      -0.054583            -0.322297             0.836300  "
      ]
     },
     "execution_count": 54,
     "metadata": {},
     "output_type": "execute_result"
    }
   ],
   "source": [
    "df_med.head()"
   ]
  },
  {
   "cell_type": "code",
   "execution_count": 55,
   "id": "d1e2ec7b",
   "metadata": {},
   "outputs": [
    {
     "data": {
      "image/png": "[encoded data removed]",
      "text/plain": [
       "<Figure size 576x396 with 2 Axes>"
      ]
     },
     "metadata": {},
     "output_type": "display_data"
    }
   ],
   "source": [
    "kmeans_med = KMeans()\n",
    "elbow_visualizer = KElbowVisualizer(kmeans_med, n_clusters = (1,51))\n",
    "elbow_visualizer.fit(df_med)\n",
    "elbow_visualizer.show();"
   ]
  },
  {
   "cell_type": "code",
   "execution_count": 56,
   "id": "b463cec3",
   "metadata": {},
   "outputs": [
    {
     "data": {
      "text/html": [
       "<style>#sk-container-id-1 {color: black;background-color: white;}#sk-container-id-1 pre{padding: 0;}#sk-container-id-1 div.sk-toggleable {background-color: white;}#sk-container-id-1 label.sk-toggleable__label {cursor: pointer;display: block;width: 100%;margin-bottom: 0;padding: 0.3em;box-sizing: border-box;text-align: center;}#sk-container-id-1 label.sk-toggleable__label-arrow:before {content: \"▸\";float: left;margin-right: 0.25em;color: #696969;}#sk-container-id-1 label.sk-toggleable__label-arrow:hover:before {color: black;}#sk-container-id-1 div.sk-estimator:hover label.sk-toggleable__label-arrow:before {color: black;}#sk-container-id-1 div.sk-toggleable__content {max-height: 0;max-width: 0;overflow: hidden;text-align: left;background-color: #f0f8ff;}#sk-container-id-1 div.sk-toggleable__content pre {margin: 0.2em;color: black;border-radius: 0.25em;background-color: #f0f8ff;}#sk-container-id-1 input.sk-toggleable__control:checked~div.sk-toggleable__content {max-height: 200px;max-width: 100%;overflow: auto;}#sk-container-id-1 input.sk-toggleable__control:checked~label.sk-toggleable__label-arrow:before {content: \"▾\";}#sk-container-id-1 div.sk-estimator input.sk-toggleable__control:checked~label.sk-toggleable__label {background-color: #d4ebff;}#sk-container-id-1 div.sk-label input.sk-toggleable__control:checked~label.sk-toggleable__label {background-color: #d4ebff;}#sk-container-id-1 input.sk-hidden--visually {border: 0;clip: rect(1px 1px 1px 1px);clip: rect(1px, 1px, 1px, 1px);height: 1px;margin: -1px;overflow: hidden;padding: 0;position: absolute;width: 1px;}#sk-container-id-1 div.sk-estimator {font-family: monospace;background-color: #f0f8ff;border: 1px dotted black;border-radius: 0.25em;box-sizing: border-box;margin-bottom: 0.5em;}#sk-container-id-1 div.sk-estimator:hover {background-color: #d4ebff;}#sk-container-id-1 div.sk-parallel-item::after {content: \"\";width: 100%;border-bottom: 1px solid gray;flex-grow: 1;}#sk-container-id-1 div.sk-label:hover label.sk-toggleable__label {background-color: #d4ebff;}#sk-container-id-1 div.sk-serial::before {content: \"\";position: absolute;border-left: 1px solid gray;box-sizing: border-box;top: 0;bottom: 0;left: 50%;z-index: 0;}#sk-container-id-1 div.sk-serial {display: flex;flex-direction: column;align-items: center;background-color: white;padding-right: 0.2em;padding-left: 0.2em;position: relative;}#sk-container-id-1 div.sk-item {position: relative;z-index: 1;}#sk-container-id-1 div.sk-parallel {display: flex;align-items: stretch;justify-content: center;background-color: white;position: relative;}#sk-container-id-1 div.sk-item::before, #sk-container-id-1 div.sk-parallel-item::before {content: \"\";position: absolute;border-left: 1px solid gray;box-sizing: border-box;top: 0;bottom: 0;left: 50%;z-index: -1;}#sk-container-id-1 div.sk-parallel-item {display: flex;flex-direction: column;z-index: 1;position: relative;background-color: white;}#sk-container-id-1 div.sk-parallel-item:first-child::after {align-self: flex-end;width: 50%;}#sk-container-id-1 div.sk-parallel-item:last-child::after {align-self: flex-start;width: 50%;}#sk-container-id-1 div.sk-parallel-item:only-child::after {width: 0;}#sk-container-id-1 div.sk-dashed-wrapped {border: 1px dashed gray;margin: 0 0.4em 0.5em 0.4em;box-sizing: border-box;padding-bottom: 0.4em;background-color: white;}#sk-container-id-1 div.sk-label label {font-family: monospace;font-weight: bold;display: inline-block;line-height: 1.2em;}#sk-container-id-1 div.sk-label-container {text-align: center;}#sk-container-id-1 div.sk-container {/* jupyter's `normalize.less` sets `[hidden] { display: none; }` but bootstrap.min.css set `[hidden] { display: none !important; }` so we also need the `!important` here to be able to override the default hidden behavior on the sphinx rendered scikit-learn.org. See: https://github.com/scikit-learn/scikit-learn/issues/21755 */display: inline-block !important;position: relative;}#sk-container-id-1 div.sk-text-repr-fallback {display: none;}</style><div id=\"sk-container-id-1\" class=\"sk-top-container\"><div class=\"sk-text-repr-fallback\"><pre>KMeans(n_clusters=5)</pre><b>In a Jupyter environment, please rerun this cell to show the HTML representation or trust the notebook. <br />On GitHub, the HTML representation is unable to render, please try loading this page with nbviewer.org.</b></div><div class=\"sk-container\" hidden><div class=\"sk-item\"><div class=\"sk-estimator sk-toggleable\"><input class=\"sk-toggleable__control sk-hidden--visually\" id=\"sk-estimator-id-1\" type=\"checkbox\" checked><label for=\"sk-estimator-id-1\" class=\"sk-toggleable__label sk-toggleable__label-arrow\">KMeans</label><div class=\"sk-toggleable__content\"><pre>KMeans(n_clusters=5)</pre></div></div></div></div></div>"
      ],
      "text/plain": [
       "KMeans(n_clusters=5)"
      ]
     },
     "execution_count": 56,
     "metadata": {},
     "output_type": "execute_result"
    }
   ],
   "source": [
    "km_optimomed = KMeans(n_clusters = 5)\n",
    "km_optimomed.fit(df_med)"
   ]
  },
  {
   "cell_type": "code",
   "execution_count": 57,
   "id": "8d0412fb",
   "metadata": {},
   "outputs": [
    {
     "data": {
      "text/plain": [
       "['km_optimomed.sav']"
      ]
     },
     "execution_count": 57,
     "metadata": {},
     "output_type": "execute_result"
    }
   ],
   "source": [
    "joblib.dump(km_optimomed, 'km_optimomed.sav')"
   ]
  },
  {
   "cell_type": "code",
   "execution_count": 58,
   "id": "1736a4ae",
   "metadata": {},
   "outputs": [],
   "source": [
    "new_model = joblib.load('km_optimolow.sav')"
   ]
  },
  {
   "cell_type": "code",
   "execution_count": 59,
   "id": "e92398b2",
   "metadata": {},
   "outputs": [],
   "source": [
    "labels_optimo_med = km_optimomed.labels_"
   ]
  },
  {
   "cell_type": "code",
   "execution_count": 60,
   "id": "8ed42096",
   "metadata": {},
   "outputs": [
    {
     "data": {
      "text/html": [
       "<div>\n",
       "<style scoped>\n",
       "    .dataframe tbody tr th:only-of-type {\n",
       "        vertical-align: middle;\n",
       "    }\n",
       "\n",
       "    .dataframe tbody tr th {\n",
       "        vertical-align: top;\n",
       "    }\n",
       "\n",
       "    .dataframe thead th {\n",
       "        text-align: right;\n",
       "    }\n",
       "</style>\n",
       "<table border=\"1\" class=\"dataframe\">\n",
       "  <thead>\n",
       "    <tr style=\"text-align: right;\">\n",
       "      <th></th>\n",
       "      <th>minutes</th>\n",
       "      <th>n_steps</th>\n",
       "      <th>n_ingredients</th>\n",
       "      <th>calories</th>\n",
       "      <th>total fat (PDV)</th>\n",
       "      <th>sugar (PDV)</th>\n",
       "      <th>sodium (PDV)</th>\n",
       "      <th>protein (PDV)</th>\n",
       "      <th>saturated fat (PDV)</th>\n",
       "      <th>carbohydrates (PDV)</th>\n",
       "      <th>...</th>\n",
       "      <th>nut_free</th>\n",
       "      <th>lactose_free</th>\n",
       "      <th>egg_free</th>\n",
       "      <th>vegan</th>\n",
       "      <th>veggie</th>\n",
       "      <th>fish</th>\n",
       "      <th>low_calories</th>\n",
       "      <th>normal_calories</th>\n",
       "      <th>high_calories</th>\n",
       "      <th>label</th>\n",
       "    </tr>\n",
       "  </thead>\n",
       "  <tbody>\n",
       "    <tr>\n",
       "      <th>39713</th>\n",
       "      <td>0.619290</td>\n",
       "      <td>1.986903</td>\n",
       "      <td>0.394934</td>\n",
       "      <td>0.139524</td>\n",
       "      <td>0.030054</td>\n",
       "      <td>0.247276</td>\n",
       "      <td>-0.307194</td>\n",
       "      <td>-0.493661</td>\n",
       "      <td>0.406780</td>\n",
       "      <td>0.375259</td>\n",
       "      <td>...</td>\n",
       "      <td>0.297939</td>\n",
       "      <td>-0.762034</td>\n",
       "      <td>-1.605351</td>\n",
       "      <td>-0.419828</td>\n",
       "      <td>0.784928</td>\n",
       "      <td>0.698667</td>\n",
       "      <td>-1.389151</td>\n",
       "      <td>1.831625</td>\n",
       "      <td>-0.354603</td>\n",
       "      <td>2</td>\n",
       "    </tr>\n",
       "    <tr>\n",
       "      <th>39714</th>\n",
       "      <td>-0.109547</td>\n",
       "      <td>0.077143</td>\n",
       "      <td>0.935206</td>\n",
       "      <td>0.094677</td>\n",
       "      <td>-0.136167</td>\n",
       "      <td>0.605369</td>\n",
       "      <td>-0.135906</td>\n",
       "      <td>-0.515615</td>\n",
       "      <td>-0.401832</td>\n",
       "      <td>0.490520</td>\n",
       "      <td>...</td>\n",
       "      <td>-3.356390</td>\n",
       "      <td>1.312278</td>\n",
       "      <td>-1.605351</td>\n",
       "      <td>-0.419828</td>\n",
       "      <td>0.784928</td>\n",
       "      <td>0.698667</td>\n",
       "      <td>-1.389151</td>\n",
       "      <td>1.831625</td>\n",
       "      <td>-0.354603</td>\n",
       "      <td>3</td>\n",
       "    </tr>\n",
       "    <tr>\n",
       "      <th>39715</th>\n",
       "      <td>-0.069056</td>\n",
       "      <td>0.771601</td>\n",
       "      <td>1.205343</td>\n",
       "      <td>0.005495</td>\n",
       "      <td>0.399433</td>\n",
       "      <td>-0.264997</td>\n",
       "      <td>-0.232256</td>\n",
       "      <td>-0.230214</td>\n",
       "      <td>0.950273</td>\n",
       "      <td>-0.316301</td>\n",
       "      <td>...</td>\n",
       "      <td>0.297939</td>\n",
       "      <td>-0.762034</td>\n",
       "      <td>0.622917</td>\n",
       "      <td>-0.419828</td>\n",
       "      <td>-1.274002</td>\n",
       "      <td>0.698667</td>\n",
       "      <td>-1.389151</td>\n",
       "      <td>1.831625</td>\n",
       "      <td>-0.354603</td>\n",
       "      <td>3</td>\n",
       "    </tr>\n",
       "    <tr>\n",
       "      <th>39716</th>\n",
       "      <td>-0.129793</td>\n",
       "      <td>-0.617315</td>\n",
       "      <td>0.394934</td>\n",
       "      <td>0.254966</td>\n",
       "      <td>0.399433</td>\n",
       "      <td>-0.220235</td>\n",
       "      <td>-0.232256</td>\n",
       "      <td>1.328511</td>\n",
       "      <td>0.565851</td>\n",
       "      <td>-0.354721</td>\n",
       "      <td>...</td>\n",
       "      <td>0.297939</td>\n",
       "      <td>-0.762034</td>\n",
       "      <td>0.622917</td>\n",
       "      <td>-0.419828</td>\n",
       "      <td>0.784928</td>\n",
       "      <td>0.698667</td>\n",
       "      <td>-1.389151</td>\n",
       "      <td>1.831625</td>\n",
       "      <td>-0.354603</td>\n",
       "      <td>0</td>\n",
       "    </tr>\n",
       "    <tr>\n",
       "      <th>39717</th>\n",
       "      <td>-0.121694</td>\n",
       "      <td>0.597987</td>\n",
       "      <td>0.394934</td>\n",
       "      <td>0.005324</td>\n",
       "      <td>-0.431670</td>\n",
       "      <td>-0.235156</td>\n",
       "      <td>0.067498</td>\n",
       "      <td>-0.120445</td>\n",
       "      <td>-0.481368</td>\n",
       "      <td>0.452099</td>\n",
       "      <td>...</td>\n",
       "      <td>0.297939</td>\n",
       "      <td>1.312278</td>\n",
       "      <td>0.622917</td>\n",
       "      <td>-0.419828</td>\n",
       "      <td>-1.274002</td>\n",
       "      <td>0.698667</td>\n",
       "      <td>-1.389151</td>\n",
       "      <td>1.831625</td>\n",
       "      <td>-0.354603</td>\n",
       "      <td>3</td>\n",
       "    </tr>\n",
       "  </tbody>\n",
       "</table>\n",
       "<p>5 rows × 21 columns</p>\n",
       "</div>"
      ],
      "text/plain": [
       "        minutes   n_steps  n_ingredients  calories  total fat (PDV)  \\\n",
       "39713  0.619290  1.986903       0.394934  0.139524         0.030054   \n",
       "39714 -0.109547  0.077143       0.935206  0.094677        -0.136167   \n",
       "39715 -0.069056  0.771601       1.205343  0.005495         0.399433   \n",
       "39716 -0.129793 -0.617315       0.394934  0.254966         0.399433   \n",
       "39717 -0.121694  0.597987       0.394934  0.005324        -0.431670   \n",
       "\n",
       "       sugar (PDV)  sodium (PDV)  protein (PDV)  saturated fat (PDV)  \\\n",
       "39713     0.247276     -0.307194      -0.493661             0.406780   \n",
       "39714     0.605369     -0.135906      -0.515615            -0.401832   \n",
       "39715    -0.264997     -0.232256      -0.230214             0.950273   \n",
       "39716    -0.220235     -0.232256       1.328511             0.565851   \n",
       "39717    -0.235156      0.067498      -0.120445            -0.481368   \n",
       "\n",
       "       carbohydrates (PDV)  ...  nut_free  lactose_free  egg_free     vegan  \\\n",
       "39713             0.375259  ...  0.297939     -0.762034 -1.605351 -0.419828   \n",
       "39714             0.490520  ... -3.356390      1.312278 -1.605351 -0.419828   \n",
       "39715            -0.316301  ...  0.297939     -0.762034  0.622917 -0.419828   \n",
       "39716            -0.354721  ...  0.297939     -0.762034  0.622917 -0.419828   \n",
       "39717             0.452099  ...  0.297939      1.312278  0.622917 -0.419828   \n",
       "\n",
       "         veggie      fish  low_calories  normal_calories  high_calories  label  \n",
       "39713  0.784928  0.698667     -1.389151         1.831625      -0.354603      2  \n",
       "39714  0.784928  0.698667     -1.389151         1.831625      -0.354603      3  \n",
       "39715 -1.274002  0.698667     -1.389151         1.831625      -0.354603      3  \n",
       "39716  0.784928  0.698667     -1.389151         1.831625      -0.354603      0  \n",
       "39717 -1.274002  0.698667     -1.389151         1.831625      -0.354603      3  \n",
       "\n",
       "[5 rows x 21 columns]"
      ]
     },
     "execution_count": 60,
     "metadata": {},
     "output_type": "execute_result"
    }
   ],
   "source": [
    "\n",
    "data_labeled_med = pd.concat([df_med_entero,pd.DataFrame(labels_optimo_med)],axis=1, join = 'inner').rename(columns={0:\"label\"})\n",
    "data_labeled_med.tail()"
   ]
  },
  {
   "cell_type": "code",
   "execution_count": 61,
   "id": "64064d15",
   "metadata": {},
   "outputs": [
    {
     "data": {
      "text/plain": [
       "39718"
      ]
     },
     "execution_count": 61,
     "metadata": {},
     "output_type": "execute_result"
    }
   ],
   "source": [
    "len(data_labeled_med)"
   ]
  },
  {
   "cell_type": "code",
   "execution_count": 62,
   "id": "d20b9f82",
   "metadata": {
    "scrolled": true
   },
   "outputs": [
    {
     "data": {
      "text/plain": [
       "0    12348\n",
       "1    11682\n",
       "3    10795\n",
       "2     4545\n",
       "4      348\n",
       "Name: label, dtype: int64"
      ]
     },
     "execution_count": 62,
     "metadata": {},
     "output_type": "execute_result"
    }
   ],
   "source": [
    "data_labeled_med.label.value_counts()"
   ]
  },
  {
   "cell_type": "code",
   "execution_count": 63,
   "id": "c0949163",
   "metadata": {},
   "outputs": [
    {
     "data": {
      "text/html": [
       "<div>\n",
       "<style scoped>\n",
       "    .dataframe tbody tr th:only-of-type {\n",
       "        vertical-align: middle;\n",
       "    }\n",
       "\n",
       "    .dataframe tbody tr th {\n",
       "        vertical-align: top;\n",
       "    }\n",
       "\n",
       "    .dataframe thead th {\n",
       "        text-align: right;\n",
       "    }\n",
       "</style>\n",
       "<table border=\"1\" class=\"dataframe\">\n",
       "  <thead>\n",
       "    <tr style=\"text-align: right;\">\n",
       "      <th></th>\n",
       "      <th>minutes</th>\n",
       "      <th>n_steps</th>\n",
       "      <th>n_ingredients</th>\n",
       "      <th>calories</th>\n",
       "      <th>total fat (PDV)</th>\n",
       "      <th>sugar (PDV)</th>\n",
       "      <th>sodium (PDV)</th>\n",
       "      <th>protein (PDV)</th>\n",
       "      <th>saturated fat (PDV)</th>\n",
       "      <th>carbohydrates (PDV)</th>\n",
       "      <th>gluten_free</th>\n",
       "      <th>nut_free</th>\n",
       "      <th>lactose_free</th>\n",
       "      <th>egg_free</th>\n",
       "      <th>vegan</th>\n",
       "      <th>veggie</th>\n",
       "      <th>fish</th>\n",
       "      <th>low_calories</th>\n",
       "      <th>normal_calories</th>\n",
       "      <th>high_calories</th>\n",
       "    </tr>\n",
       "    <tr>\n",
       "      <th>label</th>\n",
       "      <th></th>\n",
       "      <th></th>\n",
       "      <th></th>\n",
       "      <th></th>\n",
       "      <th></th>\n",
       "      <th></th>\n",
       "      <th></th>\n",
       "      <th></th>\n",
       "      <th></th>\n",
       "      <th></th>\n",
       "      <th></th>\n",
       "      <th></th>\n",
       "      <th></th>\n",
       "      <th></th>\n",
       "      <th></th>\n",
       "      <th></th>\n",
       "      <th></th>\n",
       "      <th></th>\n",
       "      <th></th>\n",
       "      <th></th>\n",
       "    </tr>\n",
       "  </thead>\n",
       "  <tbody>\n",
       "    <tr>\n",
       "      <th>0</th>\n",
       "      <td>-0.007307</td>\n",
       "      <td>-0.294129</td>\n",
       "      <td>-0.353650</td>\n",
       "      <td>0.201812</td>\n",
       "      <td>0.275674</td>\n",
       "      <td>-0.229308</td>\n",
       "      <td>0.153985</td>\n",
       "      <td>0.889777</td>\n",
       "      <td>0.269824</td>\n",
       "      <td>-0.183900</td>\n",
       "      <td>-0.045538</td>\n",
       "      <td>0.200573</td>\n",
       "      <td>-0.038511</td>\n",
       "      <td>0.214545</td>\n",
       "      <td>-0.277108</td>\n",
       "      <td>-0.711748</td>\n",
       "      <td>-0.659211</td>\n",
       "      <td>-1.389151</td>\n",
       "      <td>1.831625</td>\n",
       "      <td>-0.354603</td>\n",
       "    </tr>\n",
       "    <tr>\n",
       "      <th>1</th>\n",
       "      <td>-0.125261</td>\n",
       "      <td>-0.257662</td>\n",
       "      <td>-0.427106</td>\n",
       "      <td>0.150766</td>\n",
       "      <td>0.071203</td>\n",
       "      <td>0.225097</td>\n",
       "      <td>-0.055645</td>\n",
       "      <td>-0.303101</td>\n",
       "      <td>0.092890</td>\n",
       "      <td>0.312696</td>\n",
       "      <td>0.030557</td>\n",
       "      <td>-0.117795</td>\n",
       "      <td>-0.175360</td>\n",
       "      <td>-0.053651</td>\n",
       "      <td>0.043054</td>\n",
       "      <td>0.484601</td>\n",
       "      <td>0.428638</td>\n",
       "      <td>-1.389151</td>\n",
       "      <td>1.831625</td>\n",
       "      <td>-0.354603</td>\n",
       "    </tr>\n",
       "    <tr>\n",
       "      <th>2</th>\n",
       "      <td>0.052323</td>\n",
       "      <td>2.321909</td>\n",
       "      <td>1.119577</td>\n",
       "      <td>0.198486</td>\n",
       "      <td>0.214698</td>\n",
       "      <td>0.028434</td>\n",
       "      <td>0.037101</td>\n",
       "      <td>0.217287</td>\n",
       "      <td>0.275585</td>\n",
       "      <td>0.089472</td>\n",
       "      <td>-0.143594</td>\n",
       "      <td>-0.102469</td>\n",
       "      <td>-0.371360</td>\n",
       "      <td>-0.463517</td>\n",
       "      <td>-0.316265</td>\n",
       "      <td>-0.175453</td>\n",
       "      <td>-0.200182</td>\n",
       "      <td>-1.389151</td>\n",
       "      <td>1.831625</td>\n",
       "      <td>-0.354603</td>\n",
       "    </tr>\n",
       "    <tr>\n",
       "      <th>3</th>\n",
       "      <td>-0.028445</td>\n",
       "      <td>0.214169</td>\n",
       "      <td>1.228040</td>\n",
       "      <td>0.180071</td>\n",
       "      <td>0.156145</td>\n",
       "      <td>-0.130634</td>\n",
       "      <td>0.101580</td>\n",
       "      <td>0.481384</td>\n",
       "      <td>0.114520</td>\n",
       "      <td>0.032131</td>\n",
       "      <td>-0.227607</td>\n",
       "      <td>-0.049044</td>\n",
       "      <td>-0.112358</td>\n",
       "      <td>0.003254</td>\n",
       "      <td>-0.272148</td>\n",
       "      <td>-0.622087</td>\n",
       "      <td>-0.594504</td>\n",
       "      <td>-1.389151</td>\n",
       "      <td>1.831625</td>\n",
       "      <td>-0.354603</td>\n",
       "    </tr>\n",
       "    <tr>\n",
       "      <th>4</th>\n",
       "      <td>8.158461</td>\n",
       "      <td>0.543608</td>\n",
       "      <td>0.167492</td>\n",
       "      <td>0.203541</td>\n",
       "      <td>0.174037</td>\n",
       "      <td>0.233956</td>\n",
       "      <td>0.830911</td>\n",
       "      <td>0.385377</td>\n",
       "      <td>0.120939</td>\n",
       "      <td>0.073088</td>\n",
       "      <td>-0.137785</td>\n",
       "      <td>0.119423</td>\n",
       "      <td>0.447981</td>\n",
       "      <td>0.161896</td>\n",
       "      <td>0.216203</td>\n",
       "      <td>-0.102542</td>\n",
       "      <td>-0.133733</td>\n",
       "      <td>-1.389151</td>\n",
       "      <td>1.831625</td>\n",
       "      <td>-0.354603</td>\n",
       "    </tr>\n",
       "  </tbody>\n",
       "</table>\n",
       "</div>"
      ],
      "text/plain": [
       "        minutes   n_steps  n_ingredients  calories  total fat (PDV)  \\\n",
       "label                                                                 \n",
       "0     -0.007307 -0.294129      -0.353650  0.201812         0.275674   \n",
       "1     -0.125261 -0.257662      -0.427106  0.150766         0.071203   \n",
       "2      0.052323  2.321909       1.119577  0.198486         0.214698   \n",
       "3     -0.028445  0.214169       1.228040  0.180071         0.156145   \n",
       "4      8.158461  0.543608       0.167492  0.203541         0.174037   \n",
       "\n",
       "       sugar (PDV)  sodium (PDV)  protein (PDV)  saturated fat (PDV)  \\\n",
       "label                                                                  \n",
       "0        -0.229308      0.153985       0.889777             0.269824   \n",
       "1         0.225097     -0.055645      -0.303101             0.092890   \n",
       "2         0.028434      0.037101       0.217287             0.275585   \n",
       "3        -0.130634      0.101580       0.481384             0.114520   \n",
       "4         0.233956      0.830911       0.385377             0.120939   \n",
       "\n",
       "       carbohydrates (PDV)  gluten_free  nut_free  lactose_free  egg_free  \\\n",
       "label                                                                       \n",
       "0                -0.183900    -0.045538  0.200573     -0.038511  0.214545   \n",
       "1                 0.312696     0.030557 -0.117795     -0.175360 -0.053651   \n",
       "2                 0.089472    -0.143594 -0.102469     -0.371360 -0.463517   \n",
       "3                 0.032131    -0.227607 -0.049044     -0.112358  0.003254   \n",
       "4                 0.073088    -0.137785  0.119423      0.447981  0.161896   \n",
       "\n",
       "          vegan    veggie      fish  low_calories  normal_calories  \\\n",
       "label                                                                \n",
       "0     -0.277108 -0.711748 -0.659211     -1.389151         1.831625   \n",
       "1      0.043054  0.484601  0.428638     -1.389151         1.831625   \n",
       "2     -0.316265 -0.175453 -0.200182     -1.389151         1.831625   \n",
       "3     -0.272148 -0.622087 -0.594504     -1.389151         1.831625   \n",
       "4      0.216203 -0.102542 -0.133733     -1.389151         1.831625   \n",
       "\n",
       "       high_calories  \n",
       "label                 \n",
       "0          -0.354603  \n",
       "1          -0.354603  \n",
       "2          -0.354603  \n",
       "3          -0.354603  \n",
       "4          -0.354603  "
      ]
     },
     "execution_count": 63,
     "metadata": {},
     "output_type": "execute_result"
    }
   ],
   "source": [
    "predict_med = data_labeled_med.groupby('label').mean()\n",
    "predict_med"
   ]
  },
  {
   "cell_type": "code",
   "execution_count": 64,
   "id": "4ccb27d6",
   "metadata": {},
   "outputs": [],
   "source": [
    "predict_med.drop(columns = ['gluten_free', 'nut_free', 'lactose_free',\n",
    "       'egg_free', 'vegan', 'veggie', 'fish', 'low_calories',\n",
    "       'normal_calories', 'high_calories','calories'], inplace = True)"
   ]
  },
  {
   "cell_type": "code",
   "execution_count": 65,
   "id": "13f64a23",
   "metadata": {},
   "outputs": [
    {
     "data": {
      "text/html": [
       "<div>\n",
       "<style scoped>\n",
       "    .dataframe tbody tr th:only-of-type {\n",
       "        vertical-align: middle;\n",
       "    }\n",
       "\n",
       "    .dataframe tbody tr th {\n",
       "        vertical-align: top;\n",
       "    }\n",
       "\n",
       "    .dataframe thead th {\n",
       "        text-align: right;\n",
       "    }\n",
       "</style>\n",
       "<table border=\"1\" class=\"dataframe\">\n",
       "  <thead>\n",
       "    <tr style=\"text-align: right;\">\n",
       "      <th></th>\n",
       "      <th>minutes</th>\n",
       "      <th>n_steps</th>\n",
       "      <th>n_ingredients</th>\n",
       "      <th>total fat (PDV)</th>\n",
       "      <th>sugar (PDV)</th>\n",
       "      <th>sodium (PDV)</th>\n",
       "      <th>protein (PDV)</th>\n",
       "      <th>saturated fat (PDV)</th>\n",
       "      <th>carbohydrates (PDV)</th>\n",
       "    </tr>\n",
       "    <tr>\n",
       "      <th>label</th>\n",
       "      <th></th>\n",
       "      <th></th>\n",
       "      <th></th>\n",
       "      <th></th>\n",
       "      <th></th>\n",
       "      <th></th>\n",
       "      <th></th>\n",
       "      <th></th>\n",
       "      <th></th>\n",
       "    </tr>\n",
       "  </thead>\n",
       "  <tbody>\n",
       "    <tr>\n",
       "      <th>0</th>\n",
       "      <td>-0.007307</td>\n",
       "      <td>-0.294129</td>\n",
       "      <td>-0.353650</td>\n",
       "      <td>0.275674</td>\n",
       "      <td>-0.229308</td>\n",
       "      <td>0.153985</td>\n",
       "      <td>0.889777</td>\n",
       "      <td>0.269824</td>\n",
       "      <td>-0.183900</td>\n",
       "    </tr>\n",
       "    <tr>\n",
       "      <th>1</th>\n",
       "      <td>-0.125261</td>\n",
       "      <td>-0.257662</td>\n",
       "      <td>-0.427106</td>\n",
       "      <td>0.071203</td>\n",
       "      <td>0.225097</td>\n",
       "      <td>-0.055645</td>\n",
       "      <td>-0.303101</td>\n",
       "      <td>0.092890</td>\n",
       "      <td>0.312696</td>\n",
       "    </tr>\n",
       "    <tr>\n",
       "      <th>2</th>\n",
       "      <td>0.052323</td>\n",
       "      <td>2.321909</td>\n",
       "      <td>1.119577</td>\n",
       "      <td>0.214698</td>\n",
       "      <td>0.028434</td>\n",
       "      <td>0.037101</td>\n",
       "      <td>0.217287</td>\n",
       "      <td>0.275585</td>\n",
       "      <td>0.089472</td>\n",
       "    </tr>\n",
       "    <tr>\n",
       "      <th>3</th>\n",
       "      <td>-0.028445</td>\n",
       "      <td>0.214169</td>\n",
       "      <td>1.228040</td>\n",
       "      <td>0.156145</td>\n",
       "      <td>-0.130634</td>\n",
       "      <td>0.101580</td>\n",
       "      <td>0.481384</td>\n",
       "      <td>0.114520</td>\n",
       "      <td>0.032131</td>\n",
       "    </tr>\n",
       "    <tr>\n",
       "      <th>4</th>\n",
       "      <td>8.158461</td>\n",
       "      <td>0.543608</td>\n",
       "      <td>0.167492</td>\n",
       "      <td>0.174037</td>\n",
       "      <td>0.233956</td>\n",
       "      <td>0.830911</td>\n",
       "      <td>0.385377</td>\n",
       "      <td>0.120939</td>\n",
       "      <td>0.073088</td>\n",
       "    </tr>\n",
       "  </tbody>\n",
       "</table>\n",
       "</div>"
      ],
      "text/plain": [
       "        minutes   n_steps  n_ingredients  total fat (PDV)  sugar (PDV)  \\\n",
       "label                                                                    \n",
       "0     -0.007307 -0.294129      -0.353650         0.275674    -0.229308   \n",
       "1     -0.125261 -0.257662      -0.427106         0.071203     0.225097   \n",
       "2      0.052323  2.321909       1.119577         0.214698     0.028434   \n",
       "3     -0.028445  0.214169       1.228040         0.156145    -0.130634   \n",
       "4      8.158461  0.543608       0.167492         0.174037     0.233956   \n",
       "\n",
       "       sodium (PDV)  protein (PDV)  saturated fat (PDV)  carbohydrates (PDV)  \n",
       "label                                                                         \n",
       "0          0.153985       0.889777             0.269824            -0.183900  \n",
       "1         -0.055645      -0.303101             0.092890             0.312696  \n",
       "2          0.037101       0.217287             0.275585             0.089472  \n",
       "3          0.101580       0.481384             0.114520             0.032131  \n",
       "4          0.830911       0.385377             0.120939             0.073088  "
      ]
     },
     "execution_count": 65,
     "metadata": {},
     "output_type": "execute_result"
    }
   ],
   "source": [
    "predict_med.head()"
   ]
  },
  {
   "cell_type": "code",
   "execution_count": 66,
   "id": "6828a26b",
   "metadata": {},
   "outputs": [],
   "source": [
    "predict_med.to_csv('predict_med.csv')"
   ]
  },
  {
   "cell_type": "code",
   "execution_count": 67,
   "id": "5ecc8c66",
   "metadata": {},
   "outputs": [],
   "source": [
    "scaler = MinMaxScaler()\n",
    "scaled_med = scaler.fit_transform(predict_med)"
   ]
  },
  {
   "cell_type": "code",
   "execution_count": 68,
   "id": "71fc6497",
   "metadata": {},
   "outputs": [
    {
     "data": {
      "text/html": [
       "<div>\n",
       "<style scoped>\n",
       "    .dataframe tbody tr th:only-of-type {\n",
       "        vertical-align: middle;\n",
       "    }\n",
       "\n",
       "    .dataframe tbody tr th {\n",
       "        vertical-align: top;\n",
       "    }\n",
       "\n",
       "    .dataframe thead tr th {\n",
       "        text-align: left;\n",
       "    }\n",
       "</style>\n",
       "<table border=\"1\" class=\"dataframe\">\n",
       "  <thead>\n",
       "    <tr>\n",
       "      <th></th>\n",
       "      <th>minutes</th>\n",
       "      <th>n_steps</th>\n",
       "      <th>n_ingredients</th>\n",
       "      <th>total fat (PDV)</th>\n",
       "      <th>sugar (PDV)</th>\n",
       "      <th>sodium (PDV)</th>\n",
       "      <th>protein (PDV)</th>\n",
       "      <th>saturated fat (PDV)</th>\n",
       "      <th>carbohydrates (PDV)</th>\n",
       "    </tr>\n",
       "  </thead>\n",
       "  <tbody>\n",
       "    <tr>\n",
       "      <th>0</th>\n",
       "      <td>0.142393</td>\n",
       "      <td>0.000000</td>\n",
       "      <td>0.443802</td>\n",
       "      <td>10.000000</td>\n",
       "      <td>0.000000</td>\n",
       "      <td>2.364544</td>\n",
       "      <td>10.000000</td>\n",
       "      <td>9.684662</td>\n",
       "      <td>0.000000</td>\n",
       "    </tr>\n",
       "    <tr>\n",
       "      <th>1</th>\n",
       "      <td>0.000000</td>\n",
       "      <td>0.139399</td>\n",
       "      <td>0.000000</td>\n",
       "      <td>0.000000</td>\n",
       "      <td>9.808767</td>\n",
       "      <td>0.000000</td>\n",
       "      <td>0.000000</td>\n",
       "      <td>0.000000</td>\n",
       "      <td>10.000000</td>\n",
       "    </tr>\n",
       "    <tr>\n",
       "      <th>2</th>\n",
       "      <td>0.214377</td>\n",
       "      <td>10.000000</td>\n",
       "      <td>9.344692</td>\n",
       "      <td>7.017896</td>\n",
       "      <td>5.563619</td>\n",
       "      <td>1.046143</td>\n",
       "      <td>4.362461</td>\n",
       "      <td>10.000000</td>\n",
       "      <td>5.504915</td>\n",
       "    </tr>\n",
       "    <tr>\n",
       "      <th>3</th>\n",
       "      <td>0.116875</td>\n",
       "      <td>1.943007</td>\n",
       "      <td>10.000000</td>\n",
       "      <td>4.154257</td>\n",
       "      <td>2.129978</td>\n",
       "      <td>1.773441</td>\n",
       "      <td>6.576409</td>\n",
       "      <td>1.183949</td>\n",
       "      <td>4.350229</td>\n",
       "    </tr>\n",
       "    <tr>\n",
       "      <th>4</th>\n",
       "      <td>10.000000</td>\n",
       "      <td>3.202310</td>\n",
       "      <td>3.592420</td>\n",
       "      <td>5.029281</td>\n",
       "      <td>10.000000</td>\n",
       "      <td>10.000000</td>\n",
       "      <td>5.771576</td>\n",
       "      <td>1.535282</td>\n",
       "      <td>5.174993</td>\n",
       "    </tr>\n",
       "  </tbody>\n",
       "</table>\n",
       "</div>"
      ],
      "text/plain": [
       "     minutes    n_steps n_ingredients total fat (PDV) sugar (PDV)  \\\n",
       "0   0.142393   0.000000      0.443802       10.000000    0.000000   \n",
       "1   0.000000   0.139399      0.000000        0.000000    9.808767   \n",
       "2   0.214377  10.000000      9.344692        7.017896    5.563619   \n",
       "3   0.116875   1.943007     10.000000        4.154257    2.129978   \n",
       "4  10.000000   3.202310      3.592420        5.029281   10.000000   \n",
       "\n",
       "  sodium (PDV) protein (PDV) saturated fat (PDV) carbohydrates (PDV)  \n",
       "0     2.364544     10.000000            9.684662            0.000000  \n",
       "1     0.000000      0.000000            0.000000           10.000000  \n",
       "2     1.046143      4.362461           10.000000            5.504915  \n",
       "3     1.773441      6.576409            1.183949            4.350229  \n",
       "4    10.000000      5.771576            1.535282            5.174993  "
      ]
     },
     "execution_count": 68,
     "metadata": {},
     "output_type": "execute_result"
    }
   ],
   "source": [
    "scaled_med = pd.DataFrame(scaled_med, columns = [['minutes', 'n_steps', 'n_ingredients', 'total fat (PDV)',\n",
    "       'sugar (PDV)', 'sodium (PDV)', 'protein (PDV)', 'saturated fat (PDV)',\n",
    "       'carbohydrates (PDV)']])\n",
    "scaled_med = scaled_med.applymap(lambda x: x*10)\n",
    "scaled_med.head()"
   ]
  },
  {
   "cell_type": "markdown",
   "id": "fa5d6fe0",
   "metadata": {},
   "source": [
    "#### HIGH CALORIES"
   ]
  },
  {
   "cell_type": "code",
   "execution_count": 69,
   "id": "532935b1",
   "metadata": {},
   "outputs": [
    {
     "data": {
      "text/plain": [
       "(19320, 20)"
      ]
     },
     "execution_count": 69,
     "metadata": {},
     "output_type": "execute_result"
    }
   ],
   "source": [
    "df_high = df2[df2['high_calories']> 0.5]\n",
    "df_high.shape"
   ]
  },
  {
   "cell_type": "code",
   "execution_count": 70,
   "id": "fdb81cef",
   "metadata": {},
   "outputs": [],
   "source": [
    "df_h_entero = df_high.copy().reset_index(drop = True)"
   ]
  },
  {
   "cell_type": "code",
   "execution_count": 71,
   "id": "2eb0b3a4",
   "metadata": {},
   "outputs": [
    {
     "data": {
      "text/plain": [
       "(19320, 20)"
      ]
     },
     "execution_count": 71,
     "metadata": {},
     "output_type": "execute_result"
    }
   ],
   "source": [
    "df_h_entero.shape"
   ]
  },
  {
   "cell_type": "code",
   "execution_count": 72,
   "id": "17e3e328",
   "metadata": {},
   "outputs": [
    {
     "name": "stderr",
     "output_type": "stream",
     "text": [
      "/Users/alfens/.pyenv/versions/3.8.12/envs/lewagon/lib/python3.8/site-packages/pandas/core/frame.py:4906: SettingWithCopyWarning: \n",
      "A value is trying to be set on a copy of a slice from a DataFrame\n",
      "\n",
      "See the caveats in the documentation: https://pandas.pydata.org/pandas-docs/stable/user_guide/indexing.html#returning-a-view-versus-a-copy\n",
      "  return super().drop(\n"
     ]
    }
   ],
   "source": [
    "df_high.drop(columns = ['gluten_free', 'nut_free', 'lactose_free',\n",
    "       'egg_free', 'vegan', 'veggie', 'fish', 'low_calories',\n",
    "       'normal_calories', 'high_calories','calories'], inplace = True)"
   ]
  },
  {
   "cell_type": "code",
   "execution_count": 73,
   "id": "3ac8ca3a",
   "metadata": {},
   "outputs": [
    {
     "data": {
      "text/html": [
       "<div>\n",
       "<style scoped>\n",
       "    .dataframe tbody tr th:only-of-type {\n",
       "        vertical-align: middle;\n",
       "    }\n",
       "\n",
       "    .dataframe tbody tr th {\n",
       "        vertical-align: top;\n",
       "    }\n",
       "\n",
       "    .dataframe thead th {\n",
       "        text-align: right;\n",
       "    }\n",
       "</style>\n",
       "<table border=\"1\" class=\"dataframe\">\n",
       "  <thead>\n",
       "    <tr style=\"text-align: right;\">\n",
       "      <th></th>\n",
       "      <th>minutes</th>\n",
       "      <th>n_steps</th>\n",
       "      <th>n_ingredients</th>\n",
       "      <th>total fat (PDV)</th>\n",
       "      <th>sugar (PDV)</th>\n",
       "      <th>sodium (PDV)</th>\n",
       "      <th>protein (PDV)</th>\n",
       "      <th>saturated fat (PDV)</th>\n",
       "      <th>carbohydrates (PDV)</th>\n",
       "    </tr>\n",
       "  </thead>\n",
       "  <tbody>\n",
       "    <tr>\n",
       "      <th>5</th>\n",
       "      <td>0.133399</td>\n",
       "      <td>-0.096471</td>\n",
       "      <td>3.366432</td>\n",
       "      <td>0.861156</td>\n",
       "      <td>1.520496</td>\n",
       "      <td>2.615406</td>\n",
       "      <td>1.262649</td>\n",
       "      <td>0.539339</td>\n",
       "      <td>0.797880</td>\n",
       "    </tr>\n",
       "    <tr>\n",
       "      <th>6</th>\n",
       "      <td>0.376344</td>\n",
       "      <td>-0.443700</td>\n",
       "      <td>-0.955747</td>\n",
       "      <td>4.019346</td>\n",
       "      <td>6.135919</td>\n",
       "      <td>0.859705</td>\n",
       "      <td>1.943220</td>\n",
       "      <td>5.112635</td>\n",
       "      <td>7.867167</td>\n",
       "    </tr>\n",
       "    <tr>\n",
       "      <th>7</th>\n",
       "      <td>-0.069056</td>\n",
       "      <td>0.250758</td>\n",
       "      <td>-0.145338</td>\n",
       "      <td>2.283265</td>\n",
       "      <td>4.494659</td>\n",
       "      <td>0.816883</td>\n",
       "      <td>0.516217</td>\n",
       "      <td>3.508667</td>\n",
       "      <td>4.716724</td>\n",
       "    </tr>\n",
       "    <tr>\n",
       "      <th>19</th>\n",
       "      <td>-0.271511</td>\n",
       "      <td>1.639674</td>\n",
       "      <td>0.935206</td>\n",
       "      <td>3.409871</td>\n",
       "      <td>0.476057</td>\n",
       "      <td>0.377957</td>\n",
       "      <td>-0.427799</td>\n",
       "      <td>1.493766</td>\n",
       "      <td>0.528940</td>\n",
       "    </tr>\n",
       "    <tr>\n",
       "      <th>20</th>\n",
       "      <td>-0.251266</td>\n",
       "      <td>-0.617315</td>\n",
       "      <td>-1.225883</td>\n",
       "      <td>3.262119</td>\n",
       "      <td>-0.339599</td>\n",
       "      <td>0.238786</td>\n",
       "      <td>-0.361938</td>\n",
       "      <td>4.927052</td>\n",
       "      <td>-0.546822</td>\n",
       "    </tr>\n",
       "  </tbody>\n",
       "</table>\n",
       "</div>"
      ],
      "text/plain": [
       "     minutes   n_steps  n_ingredients  total fat (PDV)  sugar (PDV)  \\\n",
       "5   0.133399 -0.096471       3.366432         0.861156     1.520496   \n",
       "6   0.376344 -0.443700      -0.955747         4.019346     6.135919   \n",
       "7  -0.069056  0.250758      -0.145338         2.283265     4.494659   \n",
       "19 -0.271511  1.639674       0.935206         3.409871     0.476057   \n",
       "20 -0.251266 -0.617315      -1.225883         3.262119    -0.339599   \n",
       "\n",
       "    sodium (PDV)  protein (PDV)  saturated fat (PDV)  carbohydrates (PDV)  \n",
       "5       2.615406       1.262649             0.539339             0.797880  \n",
       "6       0.859705       1.943220             5.112635             7.867167  \n",
       "7       0.816883       0.516217             3.508667             4.716724  \n",
       "19      0.377957      -0.427799             1.493766             0.528940  \n",
       "20      0.238786      -0.361938             4.927052            -0.546822  "
      ]
     },
     "execution_count": 73,
     "metadata": {},
     "output_type": "execute_result"
    }
   ],
   "source": [
    "df_high.head()"
   ]
  },
  {
   "cell_type": "code",
   "execution_count": 74,
   "id": "0dcd4d6d",
   "metadata": {
    "scrolled": true
   },
   "outputs": [
    {
     "data": {
      "image/png": "[encoded data removed]",
      "text/plain": [
       "<Figure size 576x396 with 2 Axes>"
      ]
     },
     "metadata": {},
     "output_type": "display_data"
    }
   ],
   "source": [
    "kmeanshigh = KMeans()\n",
    "elbow_visualizer = KElbowVisualizer(kmeanshigh, n_clusters = (1,51))\n",
    "elbow_visualizer.fit(df_high)\n",
    "elbow_visualizer.show();"
   ]
  },
  {
   "cell_type": "code",
   "execution_count": 75,
   "id": "e39416f3",
   "metadata": {},
   "outputs": [
    {
     "data": {
      "text/html": [
       "<style>#sk-container-id-2 {color: black;background-color: white;}#sk-container-id-2 pre{padding: 0;}#sk-container-id-2 div.sk-toggleable {background-color: white;}#sk-container-id-2 label.sk-toggleable__label {cursor: pointer;display: block;width: 100%;margin-bottom: 0;padding: 0.3em;box-sizing: border-box;text-align: center;}#sk-container-id-2 label.sk-toggleable__label-arrow:before {content: \"▸\";float: left;margin-right: 0.25em;color: #696969;}#sk-container-id-2 label.sk-toggleable__label-arrow:hover:before {color: black;}#sk-container-id-2 div.sk-estimator:hover label.sk-toggleable__label-arrow:before {color: black;}#sk-container-id-2 div.sk-toggleable__content {max-height: 0;max-width: 0;overflow: hidden;text-align: left;background-color: #f0f8ff;}#sk-container-id-2 div.sk-toggleable__content pre {margin: 0.2em;color: black;border-radius: 0.25em;background-color: #f0f8ff;}#sk-container-id-2 input.sk-toggleable__control:checked~div.sk-toggleable__content {max-height: 200px;max-width: 100%;overflow: auto;}#sk-container-id-2 input.sk-toggleable__control:checked~label.sk-toggleable__label-arrow:before {content: \"▾\";}#sk-container-id-2 div.sk-estimator input.sk-toggleable__control:checked~label.sk-toggleable__label {background-color: #d4ebff;}#sk-container-id-2 div.sk-label input.sk-toggleable__control:checked~label.sk-toggleable__label {background-color: #d4ebff;}#sk-container-id-2 input.sk-hidden--visually {border: 0;clip: rect(1px 1px 1px 1px);clip: rect(1px, 1px, 1px, 1px);height: 1px;margin: -1px;overflow: hidden;padding: 0;position: absolute;width: 1px;}#sk-container-id-2 div.sk-estimator {font-family: monospace;background-color: #f0f8ff;border: 1px dotted black;border-radius: 0.25em;box-sizing: border-box;margin-bottom: 0.5em;}#sk-container-id-2 div.sk-estimator:hover {background-color: #d4ebff;}#sk-container-id-2 div.sk-parallel-item::after {content: \"\";width: 100%;border-bottom: 1px solid gray;flex-grow: 1;}#sk-container-id-2 div.sk-label:hover label.sk-toggleable__label {background-color: #d4ebff;}#sk-container-id-2 div.sk-serial::before {content: \"\";position: absolute;border-left: 1px solid gray;box-sizing: border-box;top: 0;bottom: 0;left: 50%;z-index: 0;}#sk-container-id-2 div.sk-serial {display: flex;flex-direction: column;align-items: center;background-color: white;padding-right: 0.2em;padding-left: 0.2em;position: relative;}#sk-container-id-2 div.sk-item {position: relative;z-index: 1;}#sk-container-id-2 div.sk-parallel {display: flex;align-items: stretch;justify-content: center;background-color: white;position: relative;}#sk-container-id-2 div.sk-item::before, #sk-container-id-2 div.sk-parallel-item::before {content: \"\";position: absolute;border-left: 1px solid gray;box-sizing: border-box;top: 0;bottom: 0;left: 50%;z-index: -1;}#sk-container-id-2 div.sk-parallel-item {display: flex;flex-direction: column;z-index: 1;position: relative;background-color: white;}#sk-container-id-2 div.sk-parallel-item:first-child::after {align-self: flex-end;width: 50%;}#sk-container-id-2 div.sk-parallel-item:last-child::after {align-self: flex-start;width: 50%;}#sk-container-id-2 div.sk-parallel-item:only-child::after {width: 0;}#sk-container-id-2 div.sk-dashed-wrapped {border: 1px dashed gray;margin: 0 0.4em 0.5em 0.4em;box-sizing: border-box;padding-bottom: 0.4em;background-color: white;}#sk-container-id-2 div.sk-label label {font-family: monospace;font-weight: bold;display: inline-block;line-height: 1.2em;}#sk-container-id-2 div.sk-label-container {text-align: center;}#sk-container-id-2 div.sk-container {/* jupyter's `normalize.less` sets `[hidden] { display: none; }` but bootstrap.min.css set `[hidden] { display: none !important; }` so we also need the `!important` here to be able to override the default hidden behavior on the sphinx rendered scikit-learn.org. See: https://github.com/scikit-learn/scikit-learn/issues/21755 */display: inline-block !important;position: relative;}#sk-container-id-2 div.sk-text-repr-fallback {display: none;}</style><div id=\"sk-container-id-2\" class=\"sk-top-container\"><div class=\"sk-text-repr-fallback\"><pre>KMeans(n_clusters=5)</pre><b>In a Jupyter environment, please rerun this cell to show the HTML representation or trust the notebook. <br />On GitHub, the HTML representation is unable to render, please try loading this page with nbviewer.org.</b></div><div class=\"sk-container\" hidden><div class=\"sk-item\"><div class=\"sk-estimator sk-toggleable\"><input class=\"sk-toggleable__control sk-hidden--visually\" id=\"sk-estimator-id-2\" type=\"checkbox\" checked><label for=\"sk-estimator-id-2\" class=\"sk-toggleable__label sk-toggleable__label-arrow\">KMeans</label><div class=\"sk-toggleable__content\"><pre>KMeans(n_clusters=5)</pre></div></div></div></div></div>"
      ],
      "text/plain": [
       "KMeans(n_clusters=5)"
      ]
     },
     "execution_count": 75,
     "metadata": {},
     "output_type": "execute_result"
    }
   ],
   "source": [
    "km_optimo_h = KMeans(n_clusters = 5)\n",
    "km_optimo_h.fit(df_high)"
   ]
  },
  {
   "cell_type": "code",
   "execution_count": 76,
   "id": "07dbaa85",
   "metadata": {},
   "outputs": [
    {
     "data": {
      "text/plain": [
       "['km_optimo_h.sav']"
      ]
     },
     "execution_count": 76,
     "metadata": {},
     "output_type": "execute_result"
    }
   ],
   "source": [
    "joblib.dump(km_optimo_h, 'km_optimo_h.sav')"
   ]
  },
  {
   "cell_type": "code",
   "execution_count": 77,
   "id": "13eaf694",
   "metadata": {},
   "outputs": [],
   "source": [
    "new_model = joblib.load('km_optimo_h.sav')"
   ]
  },
  {
   "cell_type": "code",
   "execution_count": 78,
   "id": "1a6b685a",
   "metadata": {},
   "outputs": [
    {
     "data": {
      "text/html": [
       "<style>#sk-container-id-3 {color: black;background-color: white;}#sk-container-id-3 pre{padding: 0;}#sk-container-id-3 div.sk-toggleable {background-color: white;}#sk-container-id-3 label.sk-toggleable__label {cursor: pointer;display: block;width: 100%;margin-bottom: 0;padding: 0.3em;box-sizing: border-box;text-align: center;}#sk-container-id-3 label.sk-toggleable__label-arrow:before {content: \"▸\";float: left;margin-right: 0.25em;color: #696969;}#sk-container-id-3 label.sk-toggleable__label-arrow:hover:before {color: black;}#sk-container-id-3 div.sk-estimator:hover label.sk-toggleable__label-arrow:before {color: black;}#sk-container-id-3 div.sk-toggleable__content {max-height: 0;max-width: 0;overflow: hidden;text-align: left;background-color: #f0f8ff;}#sk-container-id-3 div.sk-toggleable__content pre {margin: 0.2em;color: black;border-radius: 0.25em;background-color: #f0f8ff;}#sk-container-id-3 input.sk-toggleable__control:checked~div.sk-toggleable__content {max-height: 200px;max-width: 100%;overflow: auto;}#sk-container-id-3 input.sk-toggleable__control:checked~label.sk-toggleable__label-arrow:before {content: \"▾\";}#sk-container-id-3 div.sk-estimator input.sk-toggleable__control:checked~label.sk-toggleable__label {background-color: #d4ebff;}#sk-container-id-3 div.sk-label input.sk-toggleable__control:checked~label.sk-toggleable__label {background-color: #d4ebff;}#sk-container-id-3 input.sk-hidden--visually {border: 0;clip: rect(1px 1px 1px 1px);clip: rect(1px, 1px, 1px, 1px);height: 1px;margin: -1px;overflow: hidden;padding: 0;position: absolute;width: 1px;}#sk-container-id-3 div.sk-estimator {font-family: monospace;background-color: #f0f8ff;border: 1px dotted black;border-radius: 0.25em;box-sizing: border-box;margin-bottom: 0.5em;}#sk-container-id-3 div.sk-estimator:hover {background-color: #d4ebff;}#sk-container-id-3 div.sk-parallel-item::after {content: \"\";width: 100%;border-bottom: 1px solid gray;flex-grow: 1;}#sk-container-id-3 div.sk-label:hover label.sk-toggleable__label {background-color: #d4ebff;}#sk-container-id-3 div.sk-serial::before {content: \"\";position: absolute;border-left: 1px solid gray;box-sizing: border-box;top: 0;bottom: 0;left: 50%;z-index: 0;}#sk-container-id-3 div.sk-serial {display: flex;flex-direction: column;align-items: center;background-color: white;padding-right: 0.2em;padding-left: 0.2em;position: relative;}#sk-container-id-3 div.sk-item {position: relative;z-index: 1;}#sk-container-id-3 div.sk-parallel {display: flex;align-items: stretch;justify-content: center;background-color: white;position: relative;}#sk-container-id-3 div.sk-item::before, #sk-container-id-3 div.sk-parallel-item::before {content: \"\";position: absolute;border-left: 1px solid gray;box-sizing: border-box;top: 0;bottom: 0;left: 50%;z-index: -1;}#sk-container-id-3 div.sk-parallel-item {display: flex;flex-direction: column;z-index: 1;position: relative;background-color: white;}#sk-container-id-3 div.sk-parallel-item:first-child::after {align-self: flex-end;width: 50%;}#sk-container-id-3 div.sk-parallel-item:last-child::after {align-self: flex-start;width: 50%;}#sk-container-id-3 div.sk-parallel-item:only-child::after {width: 0;}#sk-container-id-3 div.sk-dashed-wrapped {border: 1px dashed gray;margin: 0 0.4em 0.5em 0.4em;box-sizing: border-box;padding-bottom: 0.4em;background-color: white;}#sk-container-id-3 div.sk-label label {font-family: monospace;font-weight: bold;display: inline-block;line-height: 1.2em;}#sk-container-id-3 div.sk-label-container {text-align: center;}#sk-container-id-3 div.sk-container {/* jupyter's `normalize.less` sets `[hidden] { display: none; }` but bootstrap.min.css set `[hidden] { display: none !important; }` so we also need the `!important` here to be able to override the default hidden behavior on the sphinx rendered scikit-learn.org. See: https://github.com/scikit-learn/scikit-learn/issues/21755 */display: inline-block !important;position: relative;}#sk-container-id-3 div.sk-text-repr-fallback {display: none;}</style><div id=\"sk-container-id-3\" class=\"sk-top-container\"><div class=\"sk-text-repr-fallback\"><pre>KMeans(n_clusters=5)</pre><b>In a Jupyter environment, please rerun this cell to show the HTML representation or trust the notebook. <br />On GitHub, the HTML representation is unable to render, please try loading this page with nbviewer.org.</b></div><div class=\"sk-container\" hidden><div class=\"sk-item\"><div class=\"sk-estimator sk-toggleable\"><input class=\"sk-toggleable__control sk-hidden--visually\" id=\"sk-estimator-id-3\" type=\"checkbox\" checked><label for=\"sk-estimator-id-3\" class=\"sk-toggleable__label sk-toggleable__label-arrow\">KMeans</label><div class=\"sk-toggleable__content\"><pre>KMeans(n_clusters=5)</pre></div></div></div></div></div>"
      ],
      "text/plain": [
       "KMeans(n_clusters=5)"
      ]
     },
     "execution_count": 78,
     "metadata": {},
     "output_type": "execute_result"
    }
   ],
   "source": [
    "new_model"
   ]
  },
  {
   "cell_type": "code",
   "execution_count": 79,
   "id": "5c73cd25",
   "metadata": {},
   "outputs": [],
   "source": [
    "labels_optimo_h = km_optimo_h.labels_"
   ]
  },
  {
   "cell_type": "code",
   "execution_count": 80,
   "id": "d014a1ec",
   "metadata": {
    "scrolled": true
   },
   "outputs": [
    {
     "data": {
      "text/html": [
       "<div>\n",
       "<style scoped>\n",
       "    .dataframe tbody tr th:only-of-type {\n",
       "        vertical-align: middle;\n",
       "    }\n",
       "\n",
       "    .dataframe tbody tr th {\n",
       "        vertical-align: top;\n",
       "    }\n",
       "\n",
       "    .dataframe thead th {\n",
       "        text-align: right;\n",
       "    }\n",
       "</style>\n",
       "<table border=\"1\" class=\"dataframe\">\n",
       "  <thead>\n",
       "    <tr style=\"text-align: right;\">\n",
       "      <th></th>\n",
       "      <th>minutes</th>\n",
       "      <th>n_steps</th>\n",
       "      <th>n_ingredients</th>\n",
       "      <th>calories</th>\n",
       "      <th>total fat (PDV)</th>\n",
       "      <th>sugar (PDV)</th>\n",
       "      <th>sodium (PDV)</th>\n",
       "      <th>protein (PDV)</th>\n",
       "      <th>saturated fat (PDV)</th>\n",
       "      <th>carbohydrates (PDV)</th>\n",
       "      <th>...</th>\n",
       "      <th>nut_free</th>\n",
       "      <th>lactose_free</th>\n",
       "      <th>egg_free</th>\n",
       "      <th>vegan</th>\n",
       "      <th>veggie</th>\n",
       "      <th>fish</th>\n",
       "      <th>low_calories</th>\n",
       "      <th>normal_calories</th>\n",
       "      <th>high_calories</th>\n",
       "      <th>label</th>\n",
       "    </tr>\n",
       "  </thead>\n",
       "  <tbody>\n",
       "    <tr>\n",
       "      <th>0</th>\n",
       "      <td>0.133399</td>\n",
       "      <td>-0.096471</td>\n",
       "      <td>3.366432</td>\n",
       "      <td>1.074318</td>\n",
       "      <td>0.861156</td>\n",
       "      <td>1.520496</td>\n",
       "      <td>2.615406</td>\n",
       "      <td>1.262649</td>\n",
       "      <td>0.539339</td>\n",
       "      <td>0.797880</td>\n",
       "      <td>...</td>\n",
       "      <td>0.297939</td>\n",
       "      <td>1.312278</td>\n",
       "      <td>0.622917</td>\n",
       "      <td>-0.419828</td>\n",
       "      <td>-1.274002</td>\n",
       "      <td>-1.431297</td>\n",
       "      <td>-1.389151</td>\n",
       "      <td>-0.545963</td>\n",
       "      <td>2.820052</td>\n",
       "      <td>1</td>\n",
       "    </tr>\n",
       "    <tr>\n",
       "      <th>1</th>\n",
       "      <td>0.376344</td>\n",
       "      <td>-0.443700</td>\n",
       "      <td>-0.955747</td>\n",
       "      <td>6.464985</td>\n",
       "      <td>4.019346</td>\n",
       "      <td>6.135919</td>\n",
       "      <td>0.859705</td>\n",
       "      <td>1.943220</td>\n",
       "      <td>5.112635</td>\n",
       "      <td>7.867167</td>\n",
       "      <td>...</td>\n",
       "      <td>0.297939</td>\n",
       "      <td>-0.762034</td>\n",
       "      <td>0.622917</td>\n",
       "      <td>-0.419828</td>\n",
       "      <td>0.784928</td>\n",
       "      <td>0.698667</td>\n",
       "      <td>-1.389151</td>\n",
       "      <td>-0.545963</td>\n",
       "      <td>2.820052</td>\n",
       "      <td>2</td>\n",
       "    </tr>\n",
       "    <tr>\n",
       "      <th>2</th>\n",
       "      <td>-0.069056</td>\n",
       "      <td>0.250758</td>\n",
       "      <td>-0.145338</td>\n",
       "      <td>3.734098</td>\n",
       "      <td>2.283265</td>\n",
       "      <td>4.494659</td>\n",
       "      <td>0.816883</td>\n",
       "      <td>0.516217</td>\n",
       "      <td>3.508667</td>\n",
       "      <td>4.716724</td>\n",
       "      <td>...</td>\n",
       "      <td>0.297939</td>\n",
       "      <td>-0.762034</td>\n",
       "      <td>-1.605351</td>\n",
       "      <td>-0.419828</td>\n",
       "      <td>0.784928</td>\n",
       "      <td>0.698667</td>\n",
       "      <td>-1.389151</td>\n",
       "      <td>-0.545963</td>\n",
       "      <td>2.820052</td>\n",
       "      <td>3</td>\n",
       "    </tr>\n",
       "    <tr>\n",
       "      <th>3</th>\n",
       "      <td>-0.271511</td>\n",
       "      <td>1.639674</td>\n",
       "      <td>0.935206</td>\n",
       "      <td>2.018661</td>\n",
       "      <td>3.409871</td>\n",
       "      <td>0.476057</td>\n",
       "      <td>0.377957</td>\n",
       "      <td>-0.427799</td>\n",
       "      <td>1.493766</td>\n",
       "      <td>0.528940</td>\n",
       "      <td>...</td>\n",
       "      <td>0.297939</td>\n",
       "      <td>-0.762034</td>\n",
       "      <td>-1.605351</td>\n",
       "      <td>-0.419828</td>\n",
       "      <td>0.784928</td>\n",
       "      <td>0.698667</td>\n",
       "      <td>-1.389151</td>\n",
       "      <td>-0.545963</td>\n",
       "      <td>2.820052</td>\n",
       "      <td>1</td>\n",
       "    </tr>\n",
       "    <tr>\n",
       "      <th>4</th>\n",
       "      <td>-0.251266</td>\n",
       "      <td>-0.617315</td>\n",
       "      <td>-1.225883</td>\n",
       "      <td>1.382789</td>\n",
       "      <td>3.262119</td>\n",
       "      <td>-0.339599</td>\n",
       "      <td>0.238786</td>\n",
       "      <td>-0.361938</td>\n",
       "      <td>4.927052</td>\n",
       "      <td>-0.546822</td>\n",
       "      <td>...</td>\n",
       "      <td>0.297939</td>\n",
       "      <td>-0.762034</td>\n",
       "      <td>-1.605351</td>\n",
       "      <td>-0.419828</td>\n",
       "      <td>0.784928</td>\n",
       "      <td>0.698667</td>\n",
       "      <td>-1.389151</td>\n",
       "      <td>-0.545963</td>\n",
       "      <td>2.820052</td>\n",
       "      <td>1</td>\n",
       "    </tr>\n",
       "  </tbody>\n",
       "</table>\n",
       "<p>5 rows × 21 columns</p>\n",
       "</div>"
      ],
      "text/plain": [
       "    minutes   n_steps  n_ingredients  calories  total fat (PDV)  sugar (PDV)  \\\n",
       "0  0.133399 -0.096471       3.366432  1.074318         0.861156     1.520496   \n",
       "1  0.376344 -0.443700      -0.955747  6.464985         4.019346     6.135919   \n",
       "2 -0.069056  0.250758      -0.145338  3.734098         2.283265     4.494659   \n",
       "3 -0.271511  1.639674       0.935206  2.018661         3.409871     0.476057   \n",
       "4 -0.251266 -0.617315      -1.225883  1.382789         3.262119    -0.339599   \n",
       "\n",
       "   sodium (PDV)  protein (PDV)  saturated fat (PDV)  carbohydrates (PDV)  ...  \\\n",
       "0      2.615406       1.262649             0.539339             0.797880  ...   \n",
       "1      0.859705       1.943220             5.112635             7.867167  ...   \n",
       "2      0.816883       0.516217             3.508667             4.716724  ...   \n",
       "3      0.377957      -0.427799             1.493766             0.528940  ...   \n",
       "4      0.238786      -0.361938             4.927052            -0.546822  ...   \n",
       "\n",
       "   nut_free  lactose_free  egg_free     vegan    veggie      fish  \\\n",
       "0  0.297939      1.312278  0.622917 -0.419828 -1.274002 -1.431297   \n",
       "1  0.297939     -0.762034  0.622917 -0.419828  0.784928  0.698667   \n",
       "2  0.297939     -0.762034 -1.605351 -0.419828  0.784928  0.698667   \n",
       "3  0.297939     -0.762034 -1.605351 -0.419828  0.784928  0.698667   \n",
       "4  0.297939     -0.762034 -1.605351 -0.419828  0.784928  0.698667   \n",
       "\n",
       "   low_calories  normal_calories  high_calories  label  \n",
       "0     -1.389151        -0.545963       2.820052      1  \n",
       "1     -1.389151        -0.545963       2.820052      2  \n",
       "2     -1.389151        -0.545963       2.820052      3  \n",
       "3     -1.389151        -0.545963       2.820052      1  \n",
       "4     -1.389151        -0.545963       2.820052      1  \n",
       "\n",
       "[5 rows x 21 columns]"
      ]
     },
     "execution_count": 80,
     "metadata": {},
     "output_type": "execute_result"
    }
   ],
   "source": [
    "data_labeled_h = pd.concat([df_h_entero,pd.DataFrame(labels_optimo_h)],axis=1, join = 'inner').rename(columns={0:\"label\"})\n",
    "data_labeled_h.head()"
   ]
  },
  {
   "cell_type": "code",
   "execution_count": 81,
   "id": "5da2a7af",
   "metadata": {},
   "outputs": [
    {
     "data": {
      "text/plain": [
       "1    14618\n",
       "3     2556\n",
       "0     1331\n",
       "2      799\n",
       "4       16\n",
       "Name: label, dtype: int64"
      ]
     },
     "execution_count": 81,
     "metadata": {},
     "output_type": "execute_result"
    }
   ],
   "source": [
    "data_labeled_h.label.value_counts()"
   ]
  },
  {
   "cell_type": "code",
   "execution_count": 82,
   "id": "3e4b3553",
   "metadata": {
    "scrolled": true
   },
   "outputs": [
    {
     "data": {
      "text/html": [
       "<div>\n",
       "<style scoped>\n",
       "    .dataframe tbody tr th:only-of-type {\n",
       "        vertical-align: middle;\n",
       "    }\n",
       "\n",
       "    .dataframe tbody tr th {\n",
       "        vertical-align: top;\n",
       "    }\n",
       "\n",
       "    .dataframe thead th {\n",
       "        text-align: right;\n",
       "    }\n",
       "</style>\n",
       "<table border=\"1\" class=\"dataframe\">\n",
       "  <thead>\n",
       "    <tr style=\"text-align: right;\">\n",
       "      <th></th>\n",
       "      <th>minutes</th>\n",
       "      <th>n_steps</th>\n",
       "      <th>n_ingredients</th>\n",
       "      <th>calories</th>\n",
       "      <th>total fat (PDV)</th>\n",
       "      <th>sugar (PDV)</th>\n",
       "      <th>sodium (PDV)</th>\n",
       "      <th>protein (PDV)</th>\n",
       "      <th>saturated fat (PDV)</th>\n",
       "      <th>carbohydrates (PDV)</th>\n",
       "      <th>gluten_free</th>\n",
       "      <th>nut_free</th>\n",
       "      <th>lactose_free</th>\n",
       "      <th>egg_free</th>\n",
       "      <th>vegan</th>\n",
       "      <th>veggie</th>\n",
       "      <th>fish</th>\n",
       "      <th>low_calories</th>\n",
       "      <th>normal_calories</th>\n",
       "      <th>high_calories</th>\n",
       "    </tr>\n",
       "    <tr>\n",
       "      <th>label</th>\n",
       "      <th></th>\n",
       "      <th></th>\n",
       "      <th></th>\n",
       "      <th></th>\n",
       "      <th></th>\n",
       "      <th></th>\n",
       "      <th></th>\n",
       "      <th></th>\n",
       "      <th></th>\n",
       "      <th></th>\n",
       "      <th></th>\n",
       "      <th></th>\n",
       "      <th></th>\n",
       "      <th></th>\n",
       "      <th></th>\n",
       "      <th></th>\n",
       "      <th></th>\n",
       "      <th></th>\n",
       "      <th></th>\n",
       "      <th></th>\n",
       "    </tr>\n",
       "  </thead>\n",
       "  <tbody>\n",
       "    <tr>\n",
       "      <th>0</th>\n",
       "      <td>0.299466</td>\n",
       "      <td>0.284411</td>\n",
       "      <td>0.045441</td>\n",
       "      <td>4.466621</td>\n",
       "      <td>5.686713</td>\n",
       "      <td>0.624063</td>\n",
       "      <td>1.523116</td>\n",
       "      <td>4.311962</td>\n",
       "      <td>5.286934</td>\n",
       "      <td>1.407693</td>\n",
       "      <td>0.003870</td>\n",
       "      <td>0.009656</td>\n",
       "      <td>-0.116831</td>\n",
       "      <td>-0.068499</td>\n",
       "      <td>-0.200908</td>\n",
       "      <td>-0.157137</td>\n",
       "      <td>-0.191085</td>\n",
       "      <td>-1.389151</td>\n",
       "      <td>-0.545963</td>\n",
       "      <td>2.820052</td>\n",
       "    </tr>\n",
       "    <tr>\n",
       "      <th>1</th>\n",
       "      <td>0.144429</td>\n",
       "      <td>0.348599</td>\n",
       "      <td>0.306065</td>\n",
       "      <td>1.120514</td>\n",
       "      <td>1.165721</td>\n",
       "      <td>0.097744</td>\n",
       "      <td>0.364881</td>\n",
       "      <td>1.169923</td>\n",
       "      <td>0.958022</td>\n",
       "      <td>0.559827</td>\n",
       "      <td>-0.198062</td>\n",
       "      <td>0.004703</td>\n",
       "      <td>-0.056643</td>\n",
       "      <td>0.049768</td>\n",
       "      <td>-0.151114</td>\n",
       "      <td>-0.293975</td>\n",
       "      <td>-0.310072</td>\n",
       "      <td>-1.389151</td>\n",
       "      <td>-0.545963</td>\n",
       "      <td>2.820052</td>\n",
       "    </tr>\n",
       "    <tr>\n",
       "      <th>2</th>\n",
       "      <td>0.115363</td>\n",
       "      <td>0.376569</td>\n",
       "      <td>0.087946</td>\n",
       "      <td>8.252112</td>\n",
       "      <td>6.585258</td>\n",
       "      <td>9.527640</td>\n",
       "      <td>1.303360</td>\n",
       "      <td>2.054748</td>\n",
       "      <td>7.094852</td>\n",
       "      <td>8.602389</td>\n",
       "      <td>0.349490</td>\n",
       "      <td>-0.703685</td>\n",
       "      <td>-0.479055</td>\n",
       "      <td>-0.902568</td>\n",
       "      <td>-0.240992</td>\n",
       "      <td>0.777197</td>\n",
       "      <td>0.690670</td>\n",
       "      <td>-1.389151</td>\n",
       "      <td>-0.545963</td>\n",
       "      <td>2.820052</td>\n",
       "    </tr>\n",
       "    <tr>\n",
       "      <th>3</th>\n",
       "      <td>0.238003</td>\n",
       "      <td>0.039717</td>\n",
       "      <td>-0.139737</td>\n",
       "      <td>3.410902</td>\n",
       "      <td>1.703430</td>\n",
       "      <td>4.306665</td>\n",
       "      <td>0.743264</td>\n",
       "      <td>0.815103</td>\n",
       "      <td>1.426496</td>\n",
       "      <td>4.531643</td>\n",
       "      <td>0.102291</td>\n",
       "      <td>-0.465524</td>\n",
       "      <td>0.027601</td>\n",
       "      <td>-0.564446</td>\n",
       "      <td>0.142497</td>\n",
       "      <td>0.749485</td>\n",
       "      <td>0.665334</td>\n",
       "      <td>-1.389151</td>\n",
       "      <td>-0.545963</td>\n",
       "      <td>2.820052</td>\n",
       "    </tr>\n",
       "    <tr>\n",
       "      <th>4</th>\n",
       "      <td>1.001423</td>\n",
       "      <td>-0.118173</td>\n",
       "      <td>-0.567426</td>\n",
       "      <td>3.489049</td>\n",
       "      <td>0.641837</td>\n",
       "      <td>6.009095</td>\n",
       "      <td>61.700387</td>\n",
       "      <td>4.059025</td>\n",
       "      <td>0.287476</td>\n",
       "      <td>4.918429</td>\n",
       "      <td>-0.004092</td>\n",
       "      <td>0.297939</td>\n",
       "      <td>1.052989</td>\n",
       "      <td>0.622917</td>\n",
       "      <td>1.331270</td>\n",
       "      <td>0.270195</td>\n",
       "      <td>0.299299</td>\n",
       "      <td>-1.389151</td>\n",
       "      <td>-0.545963</td>\n",
       "      <td>2.820052</td>\n",
       "    </tr>\n",
       "  </tbody>\n",
       "</table>\n",
       "</div>"
      ],
      "text/plain": [
       "        minutes   n_steps  n_ingredients  calories  total fat (PDV)  \\\n",
       "label                                                                 \n",
       "0      0.299466  0.284411       0.045441  4.466621         5.686713   \n",
       "1      0.144429  0.348599       0.306065  1.120514         1.165721   \n",
       "2      0.115363  0.376569       0.087946  8.252112         6.585258   \n",
       "3      0.238003  0.039717      -0.139737  3.410902         1.703430   \n",
       "4      1.001423 -0.118173      -0.567426  3.489049         0.641837   \n",
       "\n",
       "       sugar (PDV)  sodium (PDV)  protein (PDV)  saturated fat (PDV)  \\\n",
       "label                                                                  \n",
       "0         0.624063      1.523116       4.311962             5.286934   \n",
       "1         0.097744      0.364881       1.169923             0.958022   \n",
       "2         9.527640      1.303360       2.054748             7.094852   \n",
       "3         4.306665      0.743264       0.815103             1.426496   \n",
       "4         6.009095     61.700387       4.059025             0.287476   \n",
       "\n",
       "       carbohydrates (PDV)  gluten_free  nut_free  lactose_free  egg_free  \\\n",
       "label                                                                       \n",
       "0                 1.407693     0.003870  0.009656     -0.116831 -0.068499   \n",
       "1                 0.559827    -0.198062  0.004703     -0.056643  0.049768   \n",
       "2                 8.602389     0.349490 -0.703685     -0.479055 -0.902568   \n",
       "3                 4.531643     0.102291 -0.465524      0.027601 -0.564446   \n",
       "4                 4.918429    -0.004092  0.297939      1.052989  0.622917   \n",
       "\n",
       "          vegan    veggie      fish  low_calories  normal_calories  \\\n",
       "label                                                                \n",
       "0     -0.200908 -0.157137 -0.191085     -1.389151        -0.545963   \n",
       "1     -0.151114 -0.293975 -0.310072     -1.389151        -0.545963   \n",
       "2     -0.240992  0.777197  0.690670     -1.389151        -0.545963   \n",
       "3      0.142497  0.749485  0.665334     -1.389151        -0.545963   \n",
       "4      1.331270  0.270195  0.299299     -1.389151        -0.545963   \n",
       "\n",
       "       high_calories  \n",
       "label                 \n",
       "0           2.820052  \n",
       "1           2.820052  \n",
       "2           2.820052  \n",
       "3           2.820052  \n",
       "4           2.820052  "
      ]
     },
     "execution_count": 82,
     "metadata": {},
     "output_type": "execute_result"
    }
   ],
   "source": [
    "predict_high = data_labeled_h.groupby('label').mean()\n",
    "predict_high"
   ]
  },
  {
   "cell_type": "code",
   "execution_count": 83,
   "id": "c2d5bb27",
   "metadata": {
    "collapsed": true
   },
   "outputs": [
    {
     "data": {
      "text/html": [
       "<div>\n",
       "<style scoped>\n",
       "    .dataframe tbody tr th:only-of-type {\n",
       "        vertical-align: middle;\n",
       "    }\n",
       "\n",
       "    .dataframe tbody tr th {\n",
       "        vertical-align: top;\n",
       "    }\n",
       "\n",
       "    .dataframe thead th {\n",
       "        text-align: right;\n",
       "    }\n",
       "</style>\n",
       "<table border=\"1\" class=\"dataframe\">\n",
       "  <thead>\n",
       "    <tr style=\"text-align: right;\">\n",
       "      <th></th>\n",
       "      <th>minutes</th>\n",
       "      <th>n_steps</th>\n",
       "      <th>n_ingredients</th>\n",
       "      <th>total fat (PDV)</th>\n",
       "      <th>sugar (PDV)</th>\n",
       "      <th>sodium (PDV)</th>\n",
       "      <th>protein (PDV)</th>\n",
       "      <th>saturated fat (PDV)</th>\n",
       "      <th>carbohydrates (PDV)</th>\n",
       "    </tr>\n",
       "    <tr>\n",
       "      <th>label</th>\n",
       "      <th></th>\n",
       "      <th></th>\n",
       "      <th></th>\n",
       "      <th></th>\n",
       "      <th></th>\n",
       "      <th></th>\n",
       "      <th></th>\n",
       "      <th></th>\n",
       "      <th></th>\n",
       "    </tr>\n",
       "  </thead>\n",
       "  <tbody>\n",
       "    <tr>\n",
       "      <th>0</th>\n",
       "      <td>0.299466</td>\n",
       "      <td>0.284411</td>\n",
       "      <td>0.045441</td>\n",
       "      <td>5.686713</td>\n",
       "      <td>0.624063</td>\n",
       "      <td>1.523116</td>\n",
       "      <td>4.311962</td>\n",
       "      <td>5.286934</td>\n",
       "      <td>1.407693</td>\n",
       "    </tr>\n",
       "    <tr>\n",
       "      <th>1</th>\n",
       "      <td>0.144429</td>\n",
       "      <td>0.348599</td>\n",
       "      <td>0.306065</td>\n",
       "      <td>1.165721</td>\n",
       "      <td>0.097744</td>\n",
       "      <td>0.364881</td>\n",
       "      <td>1.169923</td>\n",
       "      <td>0.958022</td>\n",
       "      <td>0.559827</td>\n",
       "    </tr>\n",
       "    <tr>\n",
       "      <th>2</th>\n",
       "      <td>0.115363</td>\n",
       "      <td>0.376569</td>\n",
       "      <td>0.087946</td>\n",
       "      <td>6.585258</td>\n",
       "      <td>9.527640</td>\n",
       "      <td>1.303360</td>\n",
       "      <td>2.054748</td>\n",
       "      <td>7.094852</td>\n",
       "      <td>8.602389</td>\n",
       "    </tr>\n",
       "    <tr>\n",
       "      <th>3</th>\n",
       "      <td>0.238003</td>\n",
       "      <td>0.039717</td>\n",
       "      <td>-0.139737</td>\n",
       "      <td>1.703430</td>\n",
       "      <td>4.306665</td>\n",
       "      <td>0.743264</td>\n",
       "      <td>0.815103</td>\n",
       "      <td>1.426496</td>\n",
       "      <td>4.531643</td>\n",
       "    </tr>\n",
       "    <tr>\n",
       "      <th>4</th>\n",
       "      <td>1.001423</td>\n",
       "      <td>-0.118173</td>\n",
       "      <td>-0.567426</td>\n",
       "      <td>0.641837</td>\n",
       "      <td>6.009095</td>\n",
       "      <td>61.700387</td>\n",
       "      <td>4.059025</td>\n",
       "      <td>0.287476</td>\n",
       "      <td>4.918429</td>\n",
       "    </tr>\n",
       "  </tbody>\n",
       "</table>\n",
       "</div>"
      ],
      "text/plain": [
       "        minutes   n_steps  n_ingredients  total fat (PDV)  sugar (PDV)  \\\n",
       "label                                                                    \n",
       "0      0.299466  0.284411       0.045441         5.686713     0.624063   \n",
       "1      0.144429  0.348599       0.306065         1.165721     0.097744   \n",
       "2      0.115363  0.376569       0.087946         6.585258     9.527640   \n",
       "3      0.238003  0.039717      -0.139737         1.703430     4.306665   \n",
       "4      1.001423 -0.118173      -0.567426         0.641837     6.009095   \n",
       "\n",
       "       sodium (PDV)  protein (PDV)  saturated fat (PDV)  carbohydrates (PDV)  \n",
       "label                                                                         \n",
       "0          1.523116       4.311962             5.286934             1.407693  \n",
       "1          0.364881       1.169923             0.958022             0.559827  \n",
       "2          1.303360       2.054748             7.094852             8.602389  \n",
       "3          0.743264       0.815103             1.426496             4.531643  \n",
       "4         61.700387       4.059025             0.287476             4.918429  "
      ]
     },
     "execution_count": 83,
     "metadata": {},
     "output_type": "execute_result"
    }
   ],
   "source": [
    "predict_high.drop(columns = ['gluten_free', 'nut_free', 'lactose_free',\n",
    "       'egg_free', 'vegan', 'veggie', 'fish', 'low_calories',\n",
    "       'normal_calories', 'high_calories','calories'], inplace = True)\n",
    "\n",
    "predict_high.head()"
   ]
  },
  {
   "cell_type": "code",
   "execution_count": 84,
   "id": "3332f0ed",
   "metadata": {},
   "outputs": [],
   "source": [
    "predict_high.to_csv('predict_high.csv')"
   ]
  },
  {
   "cell_type": "code",
   "execution_count": 85,
   "id": "8ac4c9af",
   "metadata": {},
   "outputs": [],
   "source": [
    "scaler = MinMaxScaler()\n",
    "scaled_h = scaler.fit_transform(predict_high)\n"
   ]
  },
  {
   "cell_type": "code",
   "execution_count": 86,
   "id": "d0d5d6a6",
   "metadata": {},
   "outputs": [
    {
     "data": {
      "text/html": [
       "<div>\n",
       "<style scoped>\n",
       "    .dataframe tbody tr th:only-of-type {\n",
       "        vertical-align: middle;\n",
       "    }\n",
       "\n",
       "    .dataframe tbody tr th {\n",
       "        vertical-align: top;\n",
       "    }\n",
       "\n",
       "    .dataframe thead tr th {\n",
       "        text-align: left;\n",
       "    }\n",
       "</style>\n",
       "<table border=\"1\" class=\"dataframe\">\n",
       "  <thead>\n",
       "    <tr>\n",
       "      <th></th>\n",
       "      <th>minutes</th>\n",
       "      <th>n_steps</th>\n",
       "      <th>n_ingredients</th>\n",
       "      <th>total fat (PDV)</th>\n",
       "      <th>sugar (PDV)</th>\n",
       "      <th>sodium (PDV)</th>\n",
       "      <th>protein (PDV)</th>\n",
       "      <th>saturated fat (PDV)</th>\n",
       "      <th>carbohydrates (PDV)</th>\n",
       "    </tr>\n",
       "  </thead>\n",
       "  <tbody>\n",
       "    <tr>\n",
       "      <th>0</th>\n",
       "      <td>2.077777</td>\n",
       "      <td>8.137261</td>\n",
       "      <td>7.016300</td>\n",
       "      <td>8.488168</td>\n",
       "      <td>0.558139</td>\n",
       "      <td>0.188836</td>\n",
       "      <td>10.000000</td>\n",
       "      <td>7.344177</td>\n",
       "      <td>1.054224</td>\n",
       "    </tr>\n",
       "    <tr>\n",
       "      <th>1</th>\n",
       "      <td>0.328044</td>\n",
       "      <td>9.434654</td>\n",
       "      <td>10.000000</td>\n",
       "      <td>0.881451</td>\n",
       "      <td>0.000000</td>\n",
       "      <td>0.000000</td>\n",
       "      <td>1.014682</td>\n",
       "      <td>0.985029</td>\n",
       "      <td>0.000000</td>\n",
       "    </tr>\n",
       "    <tr>\n",
       "      <th>2</th>\n",
       "      <td>0.000000</td>\n",
       "      <td>10.000000</td>\n",
       "      <td>7.502901</td>\n",
       "      <td>10.000000</td>\n",
       "      <td>10.000000</td>\n",
       "      <td>0.153007</td>\n",
       "      <td>3.545023</td>\n",
       "      <td>10.000000</td>\n",
       "      <td>10.000000</td>\n",
       "    </tr>\n",
       "    <tr>\n",
       "      <th>3</th>\n",
       "      <td>1.384112</td>\n",
       "      <td>3.191364</td>\n",
       "      <td>4.896319</td>\n",
       "      <td>1.786164</td>\n",
       "      <td>4.463381</td>\n",
       "      <td>0.061691</td>\n",
       "      <td>0.000000</td>\n",
       "      <td>1.673214</td>\n",
       "      <td>4.938496</td>\n",
       "    </tr>\n",
       "    <tr>\n",
       "      <th>4</th>\n",
       "      <td>10.000000</td>\n",
       "      <td>0.000000</td>\n",
       "      <td>0.000000</td>\n",
       "      <td>0.000000</td>\n",
       "      <td>6.268734</td>\n",
       "      <td>10.000000</td>\n",
       "      <td>9.276672</td>\n",
       "      <td>0.000000</td>\n",
       "      <td>5.419420</td>\n",
       "    </tr>\n",
       "  </tbody>\n",
       "</table>\n",
       "</div>"
      ],
      "text/plain": [
       "     minutes    n_steps n_ingredients total fat (PDV) sugar (PDV)  \\\n",
       "0   2.077777   8.137261      7.016300        8.488168    0.558139   \n",
       "1   0.328044   9.434654     10.000000        0.881451    0.000000   \n",
       "2   0.000000  10.000000      7.502901       10.000000   10.000000   \n",
       "3   1.384112   3.191364      4.896319        1.786164    4.463381   \n",
       "4  10.000000   0.000000      0.000000        0.000000    6.268734   \n",
       "\n",
       "  sodium (PDV) protein (PDV) saturated fat (PDV) carbohydrates (PDV)  \n",
       "0     0.188836     10.000000            7.344177            1.054224  \n",
       "1     0.000000      1.014682            0.985029            0.000000  \n",
       "2     0.153007      3.545023           10.000000           10.000000  \n",
       "3     0.061691      0.000000            1.673214            4.938496  \n",
       "4    10.000000      9.276672            0.000000            5.419420  "
      ]
     },
     "execution_count": 86,
     "metadata": {},
     "output_type": "execute_result"
    }
   ],
   "source": [
    "scaled_h= pd.DataFrame(scaled_h, columns = [['minutes', 'n_steps', 'n_ingredients', 'total fat (PDV)',\n",
    "       'sugar (PDV)', 'sodium (PDV)', 'protein (PDV)', 'saturated fat (PDV)',\n",
    "       'carbohydrates (PDV)']])\n",
    "scaled_h = scaled_h.applymap(lambda x: x*10)\n",
    "scaled_h.head()"
   ]
  },
  {
   "cell_type": "markdown",
   "id": "3aa480f4",
   "metadata": {
    "heading_collapsed": true
   },
   "source": [
    "### KMeans"
   ]
  },
  {
   "cell_type": "code",
   "execution_count": 87,
   "id": "293e0a7c",
   "metadata": {
    "hidden": true
   },
   "outputs": [],
   "source": [
    "#df2 = pd.read_csv('ss_data.csv')\n",
    "#df2.shape"
   ]
  },
  {
   "cell_type": "code",
   "execution_count": 88,
   "id": "14f8168f",
   "metadata": {
    "hidden": true,
    "scrolled": true
   },
   "outputs": [],
   "source": [
    "#wcss = []\n",
    "#clusters = list(range(1, 50))\n",
    "\n",
    "#for k in clusters:\n",
    "    #km_elbow = KMeans(n_clusters = k).fit(df2)\n",
    "    #wcss.append(km_elbow.inertia_)\n",
    "#wcss"
   ]
  },
  {
   "cell_type": "markdown",
   "id": "edb32db8",
   "metadata": {
    "hidden": true
   },
   "source": [
    "Ploteamos el elbow method"
   ]
  },
  {
   "cell_type": "code",
   "execution_count": 89,
   "id": "2e934750",
   "metadata": {
    "hidden": true
   },
   "outputs": [],
   "source": [
    "#plt.plot(clusters, wcss)\n",
    "#plt.xlabel('k cluster number')"
   ]
  },
  {
   "cell_type": "markdown",
   "id": "ae2e095b",
   "metadata": {
    "hidden": true
   },
   "source": [
    "Ploteamos con elbow_visualizer"
   ]
  },
  {
   "cell_type": "code",
   "execution_count": 90,
   "id": "e0a99f10",
   "metadata": {
    "hidden": true
   },
   "outputs": [],
   "source": [
    "#kmeans = KMeans()\n",
    "#elbow_visualizer = KElbowVisualizer(kmeans, n_clusters = (1,51))\n",
    "#elbow_visualizer.fit(df2)\n",
    "#elbow_visualizer.show();"
   ]
  },
  {
   "cell_type": "markdown",
   "id": "b428497d",
   "metadata": {
    "hidden": true
   },
   "source": [
    "Fitteamos y vemos los labels"
   ]
  },
  {
   "cell_type": "markdown",
   "id": "5af1c3d5",
   "metadata": {
    "hidden": true
   },
   "source": [
    "km_optimo = KMeans(n_clusters = 6)\n",
    "km_optimo.fit(df2)\n",
    "labels_optimo = km_optimo.labels_\n",
    "data_labeled_kmeans = pd.concat([df2,pd.Series(labels_optimo)],axis=1).rename(columns={0:\"label\"})\n",
    "data_labeled_kmeans.head()"
   ]
  },
  {
   "cell_type": "markdown",
   "id": "32bab62e",
   "metadata": {
    "hidden": true
   },
   "source": [
    "km_optimo = KMeans(n_clusters = 6)\n",
    "km_optimo.fit(df2)\n",
    "labels_optimo = km_optimo.labels_"
   ]
  },
  {
   "cell_type": "markdown",
   "id": "ee36ffc4",
   "metadata": {
    "hidden": true
   },
   "source": [
    "data_labeled_kmeans = pd.concat([df2,pd.Series(labels_optimo)],axis=1).rename(columns={0:\"label\"})\n",
    "data_labeled_kmeans.head()"
   ]
  },
  {
   "cell_type": "markdown",
   "id": "7ceaf697",
   "metadata": {
    "hidden": true
   },
   "source": [
    "data_labeled_kmeans.label.value_counts()"
   ]
  },
  {
   "cell_type": "markdown",
   "id": "fa5b60c0",
   "metadata": {
    "hidden": true
   },
   "source": [
    "agrup = data_labeled_kmeans.groupby('label').mean()\n",
    "agrup"
   ]
  },
  {
   "cell_type": "code",
   "execution_count": null,
   "id": "61fcd3d3",
   "metadata": {
    "hidden": true
   },
   "outputs": [],
   "source": []
  },
  {
   "cell_type": "markdown",
   "id": "3e7f06f8",
   "metadata": {
    "heading_collapsed": true
   },
   "source": [
    "### KMeans sin dummies"
   ]
  },
  {
   "cell_type": "markdown",
   "id": "4e0659cb",
   "metadata": {
    "hidden": true
   },
   "source": []
  },
  {
   "cell_type": "markdown",
   "id": "c45323cc",
   "metadata": {
    "hidden": true
   },
   "source": [
    "df3.columns"
   ]
  },
  {
   "cell_type": "markdown",
   "id": "2df90103",
   "metadata": {
    "hidden": true
   },
   "source": [
    "df3 = df2.copy()"
   ]
  },
  {
   "cell_type": "markdown",
   "id": "d3174548",
   "metadata": {
    "hidden": true
   },
   "source": [
    "df_todo = df2.copy()"
   ]
  },
  {
   "cell_type": "markdown",
   "id": "d11800b8",
   "metadata": {
    "hidden": true
   },
   "source": [
    "df3.drop(columns = ['gluten_free', 'nut_free', 'lactose_free',\n",
    "       'egg_free', 'vegan', 'veggie', 'fish', 'low_calories',\n",
    "       'normal_calories', 'high_calories'], inplace = True)"
   ]
  },
  {
   "cell_type": "markdown",
   "id": "0078b5cb",
   "metadata": {
    "hidden": true
   },
   "source": [
    "df3.head()"
   ]
  },
  {
   "cell_type": "markdown",
   "id": "7a5ab2a8",
   "metadata": {
    "hidden": true
   },
   "source": [
    "kmeans = KMeans()\n",
    "elbow_visualizer = KElbowVisualizer(kmeans, n_clusters = (1,51))\n",
    "elbow_visualizer.fit(df3)\n",
    "elbow_visualizer.show();"
   ]
  },
  {
   "cell_type": "markdown",
   "id": "b79d6bec",
   "metadata": {
    "hidden": true
   },
   "source": [
    "km_optimo = KMeans(n_clusters = 6)\n",
    "km_optimo.fit(df3)\n",
    "labels_optimo = km_optimo.labels_"
   ]
  },
  {
   "cell_type": "markdown",
   "id": "12378bc0",
   "metadata": {
    "hidden": true
   },
   "source": [
    "data_labeled_kmeans = pd.concat([df_todo,pd.Series(labels_optimo)],axis=1).rename(columns={0:\"label\"})\n",
    "data_labeled_kmeans.head()"
   ]
  },
  {
   "cell_type": "markdown",
   "id": "eb0a2978",
   "metadata": {
    "hidden": true
   },
   "source": [
    "data_labeled_kmeans.label.value_counts()"
   ]
  },
  {
   "cell_type": "markdown",
   "id": "c095904c",
   "metadata": {
    "hidden": true
   },
   "source": [
    "agrup = data_labeled_kmeans.groupby('label').mean()\n",
    "agrup"
   ]
  },
  {
   "cell_type": "markdown",
   "id": "03e172e3",
   "metadata": {
    "heading_collapsed": true
   },
   "source": [
    "### PCA"
   ]
  },
  {
   "cell_type": "code",
   "execution_count": 91,
   "id": "81aa7eed",
   "metadata": {
    "hidden": true
   },
   "outputs": [],
   "source": [
    "#df2.shape"
   ]
  },
  {
   "cell_type": "code",
   "execution_count": 92,
   "id": "67775503",
   "metadata": {
    "hidden": true
   },
   "outputs": [],
   "source": [
    "#pca = PCA()"
   ]
  },
  {
   "cell_type": "code",
   "execution_count": 93,
   "id": "54510625",
   "metadata": {
    "hidden": true
   },
   "outputs": [],
   "source": [
    "#pca.fit(df2)"
   ]
  },
  {
   "cell_type": "code",
   "execution_count": 94,
   "id": "763462c5",
   "metadata": {
    "hidden": true
   },
   "outputs": [],
   "source": [
    "#columnas = df2.columns"
   ]
  },
  {
   "cell_type": "markdown",
   "id": "f4649469",
   "metadata": {
    "hidden": true
   },
   "source": [
    "COMPONENTS"
   ]
  },
  {
   "cell_type": "code",
   "execution_count": 95,
   "id": "eac67b4a",
   "metadata": {
    "hidden": true,
    "scrolled": true
   },
   "outputs": [],
   "source": [
    "# Access our 20 PCs \n",
    "#W = pca.components_\n",
    "\n",
    "# Print PCs as COLUMNS\n",
    "#W = pd.DataFrame(W.T,\n",
    "                 #index=columnas,\n",
    "                 #columns=[f'PC{i}' for i in range(1, 21)])\n",
    "#W"
   ]
  },
  {
   "cell_type": "markdown",
   "id": "905cc9cf",
   "metadata": {
    "hidden": true
   },
   "source": [
    "Projection on our dataset"
   ]
  },
  {
   "cell_type": "code",
   "execution_count": 96,
   "id": "0f805a03",
   "metadata": {
    "hidden": true
   },
   "outputs": [],
   "source": [
    "#df2p = pca.transform(df2)\n",
    "#df2p = pd.DataFrame(df2p, columns=[f'PC{i}' for i in range(1, 21)])\n",
    "#df2p.head()"
   ]
  },
  {
   "cell_type": "markdown",
   "id": "e4287a6f",
   "metadata": {
    "hidden": true
   },
   "source": [
    "HEATMAP"
   ]
  },
  {
   "cell_type": "code",
   "execution_count": 97,
   "id": "0efc2a93",
   "metadata": {
    "hidden": true
   },
   "outputs": [],
   "source": [
    "#sns.heatmap(df2p.corr(), cmap='coolwarm');"
   ]
  },
  {
   "cell_type": "code",
   "execution_count": 98,
   "id": "0cce3969",
   "metadata": {
    "hidden": true
   },
   "outputs": [],
   "source": [
    "#X_reconstructed = pca3.inverse_transform(centroides)"
   ]
  },
  {
   "cell_type": "markdown",
   "id": "cba8ace9",
   "metadata": {
    "hidden": true
   },
   "source": [
    "Ploteamos con elbow visualizer"
   ]
  },
  {
   "cell_type": "code",
   "execution_count": 99,
   "id": "18d5455d",
   "metadata": {
    "hidden": true
   },
   "outputs": [],
   "source": [
    "#kmeans = KMeans()\n",
    "#elbow_visualizer = KElbowVisualizer(kmeans, n_clusters = (1,51))\n",
    "#elbow_visualizer.fit(df2p)\n",
    "#elbow_visualizer.show();"
   ]
  },
  {
   "cell_type": "code",
   "execution_count": 100,
   "id": "f586de2f",
   "metadata": {
    "hidden": true
   },
   "outputs": [],
   "source": [
    "#km_optimo = KMeans(n_clusters = 6)\n",
    "#km_optimo.fit(df2p)\n",
    "#labels_optimo = km_optimo.labels_"
   ]
  },
  {
   "cell_type": "code",
   "execution_count": 101,
   "id": "939ed703",
   "metadata": {
    "hidden": true
   },
   "outputs": [],
   "source": [
    "#data_labeled_kmeans = pd.concat([df2p,pd.Series(labels_optimo)],axis=1).rename(columns={0:\"label\"})\n",
    "#data_labeled_kmeans.head()"
   ]
  },
  {
   "cell_type": "code",
   "execution_count": 102,
   "id": "52b5acff",
   "metadata": {
    "hidden": true
   },
   "outputs": [],
   "source": [
    "#data_labeled_kmeans.label.value_counts()"
   ]
  },
  {
   "cell_type": "markdown",
   "id": "f13761e2",
   "metadata": {
    "heading_collapsed": true
   },
   "source": [
    "## LOG DATA"
   ]
  },
  {
   "cell_type": "markdown",
   "id": "b06715fb",
   "metadata": {
    "hidden": true
   },
   "source": [
    "df = pd.read_csv('log_data.csv')\n",
    "df.head()"
   ]
  },
  {
   "cell_type": "markdown",
   "id": "7f982c8e",
   "metadata": {
    "hidden": true
   },
   "source": [
    "df_low = df[df['normal_calories']> 0]\n",
    "df_low.shape"
   ]
  },
  {
   "cell_type": "markdown",
   "id": "902a1ec7",
   "metadata": {
    "hidden": true
   },
   "source": [
    "scaler = StandardScaler()"
   ]
  },
  {
   "cell_type": "markdown",
   "id": "0f16df59",
   "metadata": {
    "hidden": true
   },
   "source": [
    "df_low = scaler.fit_transform(df_low)"
   ]
  },
  {
   "cell_type": "markdown",
   "id": "5b8b4096",
   "metadata": {
    "hidden": true
   },
   "source": [
    "df_low = pd.DataFrame(df_low, columns = [['minutes', 'n_steps', 'n_ingredients', 'calories', 'total fat (PDV)',\n",
    "       'sugar (PDV)', 'sodium (PDV)', 'protein (PDV)', 'saturated fat (PDV)',\n",
    "       'carbohydrates (PDV)', 'gluten_free', 'nut_free', 'lactose_free',\n",
    "       'egg_free', 'vegan', 'veggie', 'fish', 'low_calories',\n",
    "       'normal_calories', 'high_calories']])"
   ]
  },
  {
   "cell_type": "markdown",
   "id": "b76691b5",
   "metadata": {
    "hidden": true
   },
   "source": [
    "df_low_entero = df_low.copy().reset_index(drop = True)"
   ]
  },
  {
   "cell_type": "markdown",
   "id": "ad1b270f",
   "metadata": {
    "hidden": true
   },
   "source": [
    "df_low_entero.head()"
   ]
  },
  {
   "cell_type": "markdown",
   "id": "cfb6b288",
   "metadata": {
    "hidden": true
   },
   "source": [
    "df_low.drop(columns = ['gluten_free', 'nut_free', 'lactose_free',\n",
    "      'egg_free', 'vegan', 'veggie', 'fish', 'low_calories',\n",
    "       'normal_calories', 'high_calories'], inplace = True)"
   ]
  },
  {
   "cell_type": "markdown",
   "id": "aac2717e",
   "metadata": {
    "hidden": true
   },
   "source": [
    "kmeans = KMeans()\n",
    "elbow_visualizer = KElbowVisualizer(kmeans, n_clusters = (1,51))\n",
    "elbow_visualizer.fit(df_low)\n",
    "elbow_visualizer.show();"
   ]
  },
  {
   "cell_type": "markdown",
   "id": "e9bd841f",
   "metadata": {
    "hidden": true
   },
   "source": [
    "km_optimo = KMeans(n_clusters = 4)\n",
    "km_optimo.fit(df_low)"
   ]
  },
  {
   "cell_type": "markdown",
   "id": "447bc3e1",
   "metadata": {
    "hidden": true
   },
   "source": [
    "labels_optimo = km_optimo.labels_"
   ]
  },
  {
   "cell_type": "markdown",
   "id": "e307c3b9",
   "metadata": {
    "hidden": true
   },
   "source": [
    "\n",
    "data_labeled_kmeans = pd.concat([df_low_entero,pd.DataFrame(labels_optimo)],axis=1, join = 'inner').rename(columns={0:\"label\"})\n",
    "data_labeled_kmeans.tail()"
   ]
  },
  {
   "cell_type": "markdown",
   "id": "933a0bae",
   "metadata": {
    "hidden": true
   },
   "source": [
    "data_labeled_kmeans.label.value_counts()"
   ]
  },
  {
   "cell_type": "markdown",
   "id": "37ebf6f6",
   "metadata": {
    "heading_collapsed": true
   },
   "source": [
    "## PREDICT RANKING:"
   ]
  },
  {
   "cell_type": "code",
   "execution_count": 103,
   "id": "44e40ad9",
   "metadata": {
    "hidden": true,
    "scrolled": true
   },
   "outputs": [
    {
     "name": "stdout",
     "output_type": "stream",
     "text": [
      "Enter your choice: 1\n",
      "Low Calorie\n",
      "[1]\n"
     ]
    },
    {
     "name": "stderr",
     "output_type": "stream",
     "text": [
      "/Users/alfens/.pyenv/versions/3.8.12/envs/lewagon/lib/python3.8/site-packages/sklearn/base.py:450: UserWarning: X does not have valid feature names, but KMeans was fitted with feature names\n",
      "  warnings.warn(\n"
     ]
    }
   ],
   "source": [
    "\n",
    "def prediccion(a,b,c,d,e,f,g,h,i,predict_df, modelo):\n",
    "\n",
    "    values = []\n",
    "    values.append(predict_df.minutes[a])\n",
    "    values.append(predict_df.n_steps[b])\n",
    "    values.append(predict_df.n_ingredients[c])\n",
    "    values.append(predict_df['total fat (PDV)'][d])\n",
    "    values.append(predict_df['sugar (PDV)'][e])\n",
    "    values.append(predict_df['sodium (PDV)'][f])\n",
    "    values.append(predict_df['protein (PDV)'][g])\n",
    "    values.append(predict_df['saturated fat (PDV)'][h])\n",
    "    values.append(predict_df['carbohydrates (PDV)'][i])\n",
    "    pred = modelo.predict(np.array([values]))\n",
    "    print(pred)\n",
    "        \n",
    "    return pred\n",
    "\n",
    "\n",
    "choice = int(input(\"Enter your choice: \"))\n",
    "if choice == 1:\n",
    "    print(\"Low Calorie\")\n",
    "    prediccion(1,4,2,1,3,3,1,0,0,predict_low, km_optimolow)\n",
    "elif choice == 2:\n",
    "    print(\"Medium Calorie\")\n",
    "    prediccion(1,1,1,1,1,1,1,1,1,predict_med,km_optimomed)\n",
    "elif choice == 3:\n",
    "    print(\"High Calorie\")\n",
    "    prediccion(2,2,2,2,2,2,2,2,2,predict_high,km_optimo_h)\n",
    "else: \n",
    "     print(\"Invalid choice\")\n",
    "\n"
   ]
  },
  {
   "cell_type": "code",
   "execution_count": null,
   "id": "584f9641",
   "metadata": {
    "hidden": true
   },
   "outputs": [],
   "source": []
  },
  {
   "cell_type": "markdown",
   "id": "42a14269",
   "metadata": {},
   "source": [
    "## FILTRADO DE DF"
   ]
  },
  {
   "cell_type": "code",
   "execution_count": 138,
   "id": "77a6fc4c",
   "metadata": {},
   "outputs": [
    {
     "data": {
      "text/html": [
       "<div>\n",
       "<style scoped>\n",
       "    .dataframe tbody tr th:only-of-type {\n",
       "        vertical-align: middle;\n",
       "    }\n",
       "\n",
       "    .dataframe tbody tr th {\n",
       "        vertical-align: top;\n",
       "    }\n",
       "\n",
       "    .dataframe thead th {\n",
       "        text-align: right;\n",
       "    }\n",
       "</style>\n",
       "<table border=\"1\" class=\"dataframe\">\n",
       "  <thead>\n",
       "    <tr style=\"text-align: right;\">\n",
       "      <th></th>\n",
       "      <th>name</th>\n",
       "      <th>minutes</th>\n",
       "      <th>n_steps</th>\n",
       "      <th>steps</th>\n",
       "      <th>ingredients</th>\n",
       "      <th>n_ingredients</th>\n",
       "      <th>calories</th>\n",
       "      <th>total fat (PDV)</th>\n",
       "      <th>sugar (PDV)</th>\n",
       "      <th>sodium (PDV)</th>\n",
       "      <th>...</th>\n",
       "      <th>gluten_free</th>\n",
       "      <th>nut_free</th>\n",
       "      <th>lactose_free</th>\n",
       "      <th>egg_free</th>\n",
       "      <th>vegan</th>\n",
       "      <th>veggie</th>\n",
       "      <th>fish</th>\n",
       "      <th>low_calories</th>\n",
       "      <th>normal_calories</th>\n",
       "      <th>high_calories</th>\n",
       "    </tr>\n",
       "  </thead>\n",
       "  <tbody>\n",
       "    <tr>\n",
       "      <th>0</th>\n",
       "      <td>arriba   baked winter squash mexican style</td>\n",
       "      <td>-0.129793</td>\n",
       "      <td>0.077143</td>\n",
       "      <td>['make a choice and proceed with recipe', 'dep...</td>\n",
       "      <td>winter squash mexican seasoning mixed spice ho...</td>\n",
       "      <td>-0.685611</td>\n",
       "      <td>51.5</td>\n",
       "      <td>-0.671766</td>\n",
       "      <td>-0.294838</td>\n",
       "      <td>-0.328605</td>\n",
       "      <td>...</td>\n",
       "      <td>1</td>\n",
       "      <td>1</td>\n",
       "      <td>0</td>\n",
       "      <td>1</td>\n",
       "      <td>0</td>\n",
       "      <td>1</td>\n",
       "      <td>1</td>\n",
       "      <td>1.0</td>\n",
       "      <td>0.0</td>\n",
       "      <td>0.0</td>\n",
       "    </tr>\n",
       "    <tr>\n",
       "      <th>1</th>\n",
       "      <td>a bit different  breakfast pizza</td>\n",
       "      <td>-0.231020</td>\n",
       "      <td>-0.270086</td>\n",
       "      <td>['preheat oven to 425 degrees f', 'press dough...</td>\n",
       "      <td>prepared pizza crust sausage patty eggs milk s...</td>\n",
       "      <td>-0.955747</td>\n",
       "      <td>173.4</td>\n",
       "      <td>-0.339325</td>\n",
       "      <td>-0.359493</td>\n",
       "      <td>-0.146612</td>\n",
       "      <td>...</td>\n",
       "      <td>1</td>\n",
       "      <td>1</td>\n",
       "      <td>0</td>\n",
       "      <td>0</td>\n",
       "      <td>0</td>\n",
       "      <td>1</td>\n",
       "      <td>1</td>\n",
       "      <td>1.0</td>\n",
       "      <td>0.0</td>\n",
       "      <td>0.0</td>\n",
       "    </tr>\n",
       "    <tr>\n",
       "      <th>2</th>\n",
       "      <td>all in the kitchen  chili</td>\n",
       "      <td>0.173889</td>\n",
       "      <td>-0.790930</td>\n",
       "      <td>['brown ground beef in large pot', 'add choppe...</td>\n",
       "      <td>ground beef yellow onions diced tomatoes tomat...</td>\n",
       "      <td>0.935206</td>\n",
       "      <td>269.8</td>\n",
       "      <td>-0.265450</td>\n",
       "      <td>-0.200341</td>\n",
       "      <td>0.185258</td>\n",
       "      <td>...</td>\n",
       "      <td>1</td>\n",
       "      <td>1</td>\n",
       "      <td>0</td>\n",
       "      <td>1</td>\n",
       "      <td>0</td>\n",
       "      <td>0</td>\n",
       "      <td>0</td>\n",
       "      <td>1.0</td>\n",
       "      <td>0.0</td>\n",
       "      <td>0.0</td>\n",
       "    </tr>\n",
       "    <tr>\n",
       "      <th>3</th>\n",
       "      <td>alouette  potatoes</td>\n",
       "      <td>-0.170284</td>\n",
       "      <td>0.077143</td>\n",
       "      <td>['place potatoes in a large pot of lightly sal...</td>\n",
       "      <td>spreadable cheese with garlic and herbs new po...</td>\n",
       "      <td>0.394934</td>\n",
       "      <td>368.1</td>\n",
       "      <td>-0.357794</td>\n",
       "      <td>-0.309758</td>\n",
       "      <td>-0.307194</td>\n",
       "      <td>...</td>\n",
       "      <td>0</td>\n",
       "      <td>1</td>\n",
       "      <td>0</td>\n",
       "      <td>1</td>\n",
       "      <td>0</td>\n",
       "      <td>1</td>\n",
       "      <td>1</td>\n",
       "      <td>1.0</td>\n",
       "      <td>0.0</td>\n",
       "      <td>0.0</td>\n",
       "    </tr>\n",
       "    <tr>\n",
       "      <th>4</th>\n",
       "      <td>aww  marinated olives</td>\n",
       "      <td>-0.291756</td>\n",
       "      <td>-1.138159</td>\n",
       "      <td>['toast the fennel seeds and lightly crush the...</td>\n",
       "      <td>fennel seeds green olives ripe olives garlic p...</td>\n",
       "      <td>-0.145338</td>\n",
       "      <td>380.7</td>\n",
       "      <td>0.307088</td>\n",
       "      <td>-0.324679</td>\n",
       "      <td>-0.071673</td>\n",
       "      <td>...</td>\n",
       "      <td>1</td>\n",
       "      <td>1</td>\n",
       "      <td>1</td>\n",
       "      <td>1</td>\n",
       "      <td>1</td>\n",
       "      <td>1</td>\n",
       "      <td>1</td>\n",
       "      <td>1.0</td>\n",
       "      <td>0.0</td>\n",
       "      <td>0.0</td>\n",
       "    </tr>\n",
       "  </tbody>\n",
       "</table>\n",
       "<p>5 rows × 23 columns</p>\n",
       "</div>"
      ],
      "text/plain": [
       "                                         name   minutes   n_steps  \\\n",
       "0  arriba   baked winter squash mexican style -0.129793  0.077143   \n",
       "1            a bit different  breakfast pizza -0.231020 -0.270086   \n",
       "2                   all in the kitchen  chili  0.173889 -0.790930   \n",
       "3                          alouette  potatoes -0.170284  0.077143   \n",
       "4                       aww  marinated olives -0.291756 -1.138159   \n",
       "\n",
       "                                               steps  \\\n",
       "0  ['make a choice and proceed with recipe', 'dep...   \n",
       "1  ['preheat oven to 425 degrees f', 'press dough...   \n",
       "2  ['brown ground beef in large pot', 'add choppe...   \n",
       "3  ['place potatoes in a large pot of lightly sal...   \n",
       "4  ['toast the fennel seeds and lightly crush the...   \n",
       "\n",
       "                                         ingredients  n_ingredients  calories  \\\n",
       "0  winter squash mexican seasoning mixed spice ho...      -0.685611      51.5   \n",
       "1  prepared pizza crust sausage patty eggs milk s...      -0.955747     173.4   \n",
       "2  ground beef yellow onions diced tomatoes tomat...       0.935206     269.8   \n",
       "3  spreadable cheese with garlic and herbs new po...       0.394934     368.1   \n",
       "4  fennel seeds green olives ripe olives garlic p...      -0.145338     380.7   \n",
       "\n",
       "   total fat (PDV)  sugar (PDV)  sodium (PDV)  ...  gluten_free  nut_free  \\\n",
       "0        -0.671766    -0.294838     -0.328605  ...            1         1   \n",
       "1        -0.339325    -0.359493     -0.146612  ...            1         1   \n",
       "2        -0.265450    -0.200341      0.185258  ...            1         1   \n",
       "3        -0.357794    -0.309758     -0.307194  ...            0         1   \n",
       "4         0.307088    -0.324679     -0.071673  ...            1         1   \n",
       "\n",
       "   lactose_free  egg_free  vegan  veggie  fish  low_calories  normal_calories  \\\n",
       "0             0         1      0       1     1           1.0              0.0   \n",
       "1             0         0      0       1     1           1.0              0.0   \n",
       "2             0         1      0       0     0           1.0              0.0   \n",
       "3             0         1      0       1     1           1.0              0.0   \n",
       "4             1         1      1       1     1           1.0              0.0   \n",
       "\n",
       "   high_calories  \n",
       "0            0.0  \n",
       "1            0.0  \n",
       "2            0.0  \n",
       "3            0.0  \n",
       "4            0.0  \n",
       "\n",
       "[5 rows x 23 columns]"
      ]
     },
     "execution_count": 138,
     "metadata": {},
     "output_type": "execute_result"
    }
   ],
   "source": [
    "df_filt = pd.read_csv('/Users/alfens/code/Alfens/WeekmealsWebsite/data/ss_data_full.csv')\n",
    "df_filt.head()"
   ]
  },
  {
   "cell_type": "code",
   "execution_count": 139,
   "id": "4d47c746",
   "metadata": {},
   "outputs": [],
   "source": [
    "def user_choice(calories, gluten, nut, lactose, egg, vegan, veggie, fish):\n",
    "    import pandas as pd\n",
    "    df = pd.read_csv('/Users/alfens/code/Alfens/WeekmealsWebsite/data/ss_data_full.csv')\n",
    "    df2 = df.copy()\n",
    "    if calories == 1:\n",
    "        df2= df2[df2['low_calories'] == 1.0]\n",
    "    elif calories == 2: \n",
    "        df2= df2[df2['normal_calories'] == 1.0]\n",
    "    elif calories == 3: \n",
    "        df2= df2[df2['high_calories'] == 1.0]\n",
    "    if gluten == 1:\n",
    "        df2 = df2[df2['gluten_free'] == gluten]\n",
    "    if nut == 1:\n",
    "        df2 = df2[df2['nut_free'] == nut]  \n",
    "    if lactose == 1:\n",
    "        df2 = df2[df2['lactose_free'] == lactose]\n",
    "    if egg == 1:\n",
    "        df2 = df2[df2['egg_free'] == egg]\n",
    "    if vegan == 1:\n",
    "        df2 = df2[df2['vegan'] == vegan]\n",
    "    if veggie == 1:\n",
    "        df2 = df2[df2['veggie'] == veggie]\n",
    "    if fish == 1:\n",
    "        df2 = df2[df2['fish'] == fish]\n",
    "    return df2.reset_index(drop=True)"
   ]
  },
  {
   "cell_type": "code",
   "execution_count": 140,
   "id": "902efd85",
   "metadata": {},
   "outputs": [
    {
     "data": {
      "text/html": [
       "<div>\n",
       "<style scoped>\n",
       "    .dataframe tbody tr th:only-of-type {\n",
       "        vertical-align: middle;\n",
       "    }\n",
       "\n",
       "    .dataframe tbody tr th {\n",
       "        vertical-align: top;\n",
       "    }\n",
       "\n",
       "    .dataframe thead th {\n",
       "        text-align: right;\n",
       "    }\n",
       "</style>\n",
       "<table border=\"1\" class=\"dataframe\">\n",
       "  <thead>\n",
       "    <tr style=\"text-align: right;\">\n",
       "      <th></th>\n",
       "      <th>name</th>\n",
       "      <th>minutes</th>\n",
       "      <th>n_steps</th>\n",
       "      <th>steps</th>\n",
       "      <th>ingredients</th>\n",
       "      <th>n_ingredients</th>\n",
       "      <th>calories</th>\n",
       "      <th>total fat (PDV)</th>\n",
       "      <th>sugar (PDV)</th>\n",
       "      <th>sodium (PDV)</th>\n",
       "      <th>...</th>\n",
       "      <th>gluten_free</th>\n",
       "      <th>nut_free</th>\n",
       "      <th>lactose_free</th>\n",
       "      <th>egg_free</th>\n",
       "      <th>vegan</th>\n",
       "      <th>veggie</th>\n",
       "      <th>fish</th>\n",
       "      <th>low_calories</th>\n",
       "      <th>normal_calories</th>\n",
       "      <th>high_calories</th>\n",
       "    </tr>\n",
       "  </thead>\n",
       "  <tbody>\n",
       "    <tr>\n",
       "      <th>0</th>\n",
       "      <td>arriba   baked winter squash mexican style</td>\n",
       "      <td>-0.129793</td>\n",
       "      <td>0.077143</td>\n",
       "      <td>['make a choice and proceed with recipe', 'dep...</td>\n",
       "      <td>winter squash mexican seasoning mixed spice ho...</td>\n",
       "      <td>-0.685611</td>\n",
       "      <td>51.5</td>\n",
       "      <td>-0.671766</td>\n",
       "      <td>-0.294838</td>\n",
       "      <td>-0.328605</td>\n",
       "      <td>...</td>\n",
       "      <td>1</td>\n",
       "      <td>1</td>\n",
       "      <td>0</td>\n",
       "      <td>1</td>\n",
       "      <td>0</td>\n",
       "      <td>1</td>\n",
       "      <td>1</td>\n",
       "      <td>1.0</td>\n",
       "      <td>0.0</td>\n",
       "      <td>0.0</td>\n",
       "    </tr>\n",
       "    <tr>\n",
       "      <th>1</th>\n",
       "      <td>a bit different  breakfast pizza</td>\n",
       "      <td>-0.231020</td>\n",
       "      <td>-0.270086</td>\n",
       "      <td>['preheat oven to 425 degrees f', 'press dough...</td>\n",
       "      <td>prepared pizza crust sausage patty eggs milk s...</td>\n",
       "      <td>-0.955747</td>\n",
       "      <td>173.4</td>\n",
       "      <td>-0.339325</td>\n",
       "      <td>-0.359493</td>\n",
       "      <td>-0.146612</td>\n",
       "      <td>...</td>\n",
       "      <td>1</td>\n",
       "      <td>1</td>\n",
       "      <td>0</td>\n",
       "      <td>0</td>\n",
       "      <td>0</td>\n",
       "      <td>1</td>\n",
       "      <td>1</td>\n",
       "      <td>1.0</td>\n",
       "      <td>0.0</td>\n",
       "      <td>0.0</td>\n",
       "    </tr>\n",
       "    <tr>\n",
       "      <th>2</th>\n",
       "      <td>all in the kitchen  chili</td>\n",
       "      <td>0.173889</td>\n",
       "      <td>-0.790930</td>\n",
       "      <td>['brown ground beef in large pot', 'add choppe...</td>\n",
       "      <td>ground beef yellow onions diced tomatoes tomat...</td>\n",
       "      <td>0.935206</td>\n",
       "      <td>269.8</td>\n",
       "      <td>-0.265450</td>\n",
       "      <td>-0.200341</td>\n",
       "      <td>0.185258</td>\n",
       "      <td>...</td>\n",
       "      <td>1</td>\n",
       "      <td>1</td>\n",
       "      <td>0</td>\n",
       "      <td>1</td>\n",
       "      <td>0</td>\n",
       "      <td>0</td>\n",
       "      <td>0</td>\n",
       "      <td>1.0</td>\n",
       "      <td>0.0</td>\n",
       "      <td>0.0</td>\n",
       "    </tr>\n",
       "    <tr>\n",
       "      <th>3</th>\n",
       "      <td>alouette  potatoes</td>\n",
       "      <td>-0.170284</td>\n",
       "      <td>0.077143</td>\n",
       "      <td>['place potatoes in a large pot of lightly sal...</td>\n",
       "      <td>spreadable cheese with garlic and herbs new po...</td>\n",
       "      <td>0.394934</td>\n",
       "      <td>368.1</td>\n",
       "      <td>-0.357794</td>\n",
       "      <td>-0.309758</td>\n",
       "      <td>-0.307194</td>\n",
       "      <td>...</td>\n",
       "      <td>0</td>\n",
       "      <td>1</td>\n",
       "      <td>0</td>\n",
       "      <td>1</td>\n",
       "      <td>0</td>\n",
       "      <td>1</td>\n",
       "      <td>1</td>\n",
       "      <td>1.0</td>\n",
       "      <td>0.0</td>\n",
       "      <td>0.0</td>\n",
       "    </tr>\n",
       "    <tr>\n",
       "      <th>4</th>\n",
       "      <td>aww  marinated olives</td>\n",
       "      <td>-0.291756</td>\n",
       "      <td>-1.138159</td>\n",
       "      <td>['toast the fennel seeds and lightly crush the...</td>\n",
       "      <td>fennel seeds green olives ripe olives garlic p...</td>\n",
       "      <td>-0.145338</td>\n",
       "      <td>380.7</td>\n",
       "      <td>0.307088</td>\n",
       "      <td>-0.324679</td>\n",
       "      <td>-0.071673</td>\n",
       "      <td>...</td>\n",
       "      <td>1</td>\n",
       "      <td>1</td>\n",
       "      <td>1</td>\n",
       "      <td>1</td>\n",
       "      <td>1</td>\n",
       "      <td>1</td>\n",
       "      <td>1</td>\n",
       "      <td>1.0</td>\n",
       "      <td>0.0</td>\n",
       "      <td>0.0</td>\n",
       "    </tr>\n",
       "  </tbody>\n",
       "</table>\n",
       "<p>5 rows × 23 columns</p>\n",
       "</div>"
      ],
      "text/plain": [
       "                                         name   minutes   n_steps  \\\n",
       "0  arriba   baked winter squash mexican style -0.129793  0.077143   \n",
       "1            a bit different  breakfast pizza -0.231020 -0.270086   \n",
       "2                   all in the kitchen  chili  0.173889 -0.790930   \n",
       "3                          alouette  potatoes -0.170284  0.077143   \n",
       "4                       aww  marinated olives -0.291756 -1.138159   \n",
       "\n",
       "                                               steps  \\\n",
       "0  ['make a choice and proceed with recipe', 'dep...   \n",
       "1  ['preheat oven to 425 degrees f', 'press dough...   \n",
       "2  ['brown ground beef in large pot', 'add choppe...   \n",
       "3  ['place potatoes in a large pot of lightly sal...   \n",
       "4  ['toast the fennel seeds and lightly crush the...   \n",
       "\n",
       "                                         ingredients  n_ingredients  calories  \\\n",
       "0  winter squash mexican seasoning mixed spice ho...      -0.685611      51.5   \n",
       "1  prepared pizza crust sausage patty eggs milk s...      -0.955747     173.4   \n",
       "2  ground beef yellow onions diced tomatoes tomat...       0.935206     269.8   \n",
       "3  spreadable cheese with garlic and herbs new po...       0.394934     368.1   \n",
       "4  fennel seeds green olives ripe olives garlic p...      -0.145338     380.7   \n",
       "\n",
       "   total fat (PDV)  sugar (PDV)  sodium (PDV)  ...  gluten_free  nut_free  \\\n",
       "0        -0.671766    -0.294838     -0.328605  ...            1         1   \n",
       "1        -0.339325    -0.359493     -0.146612  ...            1         1   \n",
       "2        -0.265450    -0.200341      0.185258  ...            1         1   \n",
       "3        -0.357794    -0.309758     -0.307194  ...            0         1   \n",
       "4         0.307088    -0.324679     -0.071673  ...            1         1   \n",
       "\n",
       "   lactose_free  egg_free  vegan  veggie  fish  low_calories  normal_calories  \\\n",
       "0             0         1      0       1     1           1.0              0.0   \n",
       "1             0         0      0       1     1           1.0              0.0   \n",
       "2             0         1      0       0     0           1.0              0.0   \n",
       "3             0         1      0       1     1           1.0              0.0   \n",
       "4             1         1      1       1     1           1.0              0.0   \n",
       "\n",
       "   high_calories  \n",
       "0            0.0  \n",
       "1            0.0  \n",
       "2            0.0  \n",
       "3            0.0  \n",
       "4            0.0  \n",
       "\n",
       "[5 rows x 23 columns]"
      ]
     },
     "execution_count": 140,
     "metadata": {},
     "output_type": "execute_result"
    }
   ],
   "source": [
    "user_choice(1,0,1,0,0,0,0,0).head()"
   ]
  },
  {
   "cell_type": "markdown",
   "id": "472e643e",
   "metadata": {},
   "source": [
    "## Pasarle platos random al usuario"
   ]
  },
  {
   "cell_type": "code",
   "execution_count": 141,
   "id": "4c417870",
   "metadata": {},
   "outputs": [],
   "source": [
    "tabla_user = user_choice(1,0,1,0,0,0,0,0)"
   ]
  },
  {
   "cell_type": "code",
   "execution_count": 142,
   "id": "73b64c7b",
   "metadata": {},
   "outputs": [
    {
     "data": {
      "text/plain": [
       "(105055, 23)"
      ]
     },
     "execution_count": 142,
     "metadata": {},
     "output_type": "execute_result"
    }
   ],
   "source": [
    "tabla_user.shape"
   ]
  },
  {
   "cell_type": "code",
   "execution_count": 143,
   "id": "bf62e711",
   "metadata": {},
   "outputs": [],
   "source": [
    "tabla_user_completa = tabla_user.copy()"
   ]
  },
  {
   "cell_type": "code",
   "execution_count": 144,
   "id": "edb2bafe",
   "metadata": {},
   "outputs": [
    {
     "data": {
      "text/plain": [
       "(105055, 23)"
      ]
     },
     "execution_count": 144,
     "metadata": {},
     "output_type": "execute_result"
    }
   ],
   "source": [
    "tabla_user_completa.shape"
   ]
  },
  {
   "cell_type": "code",
   "execution_count": null,
   "id": "626dd33b",
   "metadata": {},
   "outputs": [],
   "source": [
    "pd.read_csv()"
   ]
  },
  {
   "cell_type": "code",
   "execution_count": 116,
   "id": "be990454",
   "metadata": {},
   "outputs": [
    {
     "data": {
      "text/html": [
       "<div>\n",
       "<style scoped>\n",
       "    .dataframe tbody tr th:only-of-type {\n",
       "        vertical-align: middle;\n",
       "    }\n",
       "\n",
       "    .dataframe tbody tr th {\n",
       "        vertical-align: top;\n",
       "    }\n",
       "\n",
       "    .dataframe thead th {\n",
       "        text-align: right;\n",
       "    }\n",
       "</style>\n",
       "<table border=\"1\" class=\"dataframe\">\n",
       "  <thead>\n",
       "    <tr style=\"text-align: right;\">\n",
       "      <th></th>\n",
       "      <th>name</th>\n",
       "      <th>steps</th>\n",
       "      <th>ingredients</th>\n",
       "    </tr>\n",
       "  </thead>\n",
       "  <tbody>\n",
       "    <tr>\n",
       "      <th>5420</th>\n",
       "      <td>bacon muffins</td>\n",
       "      <td>['grease 12 muffin cups', 'preheat oven to 400...</td>\n",
       "      <td>bacon flour baking powder sugar salt egg milk oil</td>\n",
       "    </tr>\n",
       "    <tr>\n",
       "      <th>77054</th>\n",
       "      <td>red onion trout</td>\n",
       "      <td>['heat oven to 350f', 'in a food processor , c...</td>\n",
       "      <td>trout fillets red onion kosher salt black pepp...</td>\n",
       "    </tr>\n",
       "    <tr>\n",
       "      <th>102057</th>\n",
       "      <td>welsh cakes</td>\n",
       "      <td>['rub the butter into the flour with a pinch o...</td>\n",
       "      <td>butter self raising flour golden caster sugar ...</td>\n",
       "    </tr>\n",
       "    <tr>\n",
       "      <th>79434</th>\n",
       "      <td>rosemary oven fries</td>\n",
       "      <td>['preheat oven to 425', 'scrub the potatoes', ...</td>\n",
       "      <td>potatoes oil dried rosemary salt and pepper</td>\n",
       "    </tr>\n",
       "    <tr>\n",
       "      <th>54429</th>\n",
       "      <td>lemon  chicken   green olive tagine</td>\n",
       "      <td>['heat the oil over a high heat in a heavy-bas...</td>\n",
       "      <td>olive oil chicken thigh fillets onions garlic ...</td>\n",
       "    </tr>\n",
       "    <tr>\n",
       "      <th>42873</th>\n",
       "      <td>green beans a la lemon</td>\n",
       "      <td>['melt 2 tablespoons of butter over medium hea...</td>\n",
       "      <td>butter parsley flakes onion flour salt garlic ...</td>\n",
       "    </tr>\n",
       "    <tr>\n",
       "      <th>14680</th>\n",
       "      <td>cajun cornbread stuffing</td>\n",
       "      <td>['fry bacon until crisp , remove from pan and ...</td>\n",
       "      <td>bacon garlic cloves onion celery green pepper ...</td>\n",
       "    </tr>\n",
       "    <tr>\n",
       "      <th>19392</th>\n",
       "      <td>chicken chipotle</td>\n",
       "      <td>['put the chicken breasts , onion , garlic clo...</td>\n",
       "      <td>boneless skinless chicken breasts yellow onion...</td>\n",
       "    </tr>\n",
       "    <tr>\n",
       "      <th>12836</th>\n",
       "      <td>breakfast sandwiches   oamc</td>\n",
       "      <td>['preheat oven to 350 degrees', 'whisk togethe...</td>\n",
       "      <td>egg whites egg salt and pepper yellow onion gr...</td>\n",
       "    </tr>\n",
       "    <tr>\n",
       "      <th>47306</th>\n",
       "      <td>home style scrambled eggs</td>\n",
       "      <td>['beat eggs , salt and water', 'melt butter in...</td>\n",
       "      <td>eggs salt water butter potatoes zucchini tomatoes</td>\n",
       "    </tr>\n",
       "  </tbody>\n",
       "</table>\n",
       "</div>"
      ],
      "text/plain": [
       "                                       name  \\\n",
       "5420                          bacon muffins   \n",
       "77054                       red onion trout   \n",
       "102057                          welsh cakes   \n",
       "79434                   rosemary oven fries   \n",
       "54429   lemon  chicken   green olive tagine   \n",
       "42873                green beans a la lemon   \n",
       "14680              cajun cornbread stuffing   \n",
       "19392                      chicken chipotle   \n",
       "12836           breakfast sandwiches   oamc   \n",
       "47306             home style scrambled eggs   \n",
       "\n",
       "                                                    steps  \\\n",
       "5420    ['grease 12 muffin cups', 'preheat oven to 400...   \n",
       "77054   ['heat oven to 350f', 'in a food processor , c...   \n",
       "102057  ['rub the butter into the flour with a pinch o...   \n",
       "79434   ['preheat oven to 425', 'scrub the potatoes', ...   \n",
       "54429   ['heat the oil over a high heat in a heavy-bas...   \n",
       "42873   ['melt 2 tablespoons of butter over medium hea...   \n",
       "14680   ['fry bacon until crisp , remove from pan and ...   \n",
       "19392   ['put the chicken breasts , onion , garlic clo...   \n",
       "12836   ['preheat oven to 350 degrees', 'whisk togethe...   \n",
       "47306   ['beat eggs , salt and water', 'melt butter in...   \n",
       "\n",
       "                                              ingredients  \n",
       "5420    bacon flour baking powder sugar salt egg milk oil  \n",
       "77054   trout fillets red onion kosher salt black pepp...  \n",
       "102057  butter self raising flour golden caster sugar ...  \n",
       "79434         potatoes oil dried rosemary salt and pepper  \n",
       "54429   olive oil chicken thigh fillets onions garlic ...  \n",
       "42873   butter parsley flakes onion flour salt garlic ...  \n",
       "14680   bacon garlic cloves onion celery green pepper ...  \n",
       "19392   boneless skinless chicken breasts yellow onion...  \n",
       "12836   egg whites egg salt and pepper yellow onion gr...  \n",
       "47306   eggs salt water butter potatoes zucchini tomatoes  "
      ]
     },
     "execution_count": 116,
     "metadata": {},
     "output_type": "execute_result"
    }
   ],
   "source": [
    "tabla_user = user_choice(1,0,1,0,0,0,0,0)[['name','steps','ingredients']].sample(10)\n",
    "tabla_user"
   ]
  },
  {
   "cell_type": "code",
   "execution_count": 117,
   "id": "152375d3",
   "metadata": {},
   "outputs": [],
   "source": [
    "plato_elegido = 4"
   ]
  },
  {
   "cell_type": "code",
   "execution_count": 118,
   "id": "d9aa8923",
   "metadata": {},
   "outputs": [
    {
     "data": {
      "text/html": [
       "<div>\n",
       "<style scoped>\n",
       "    .dataframe tbody tr th:only-of-type {\n",
       "        vertical-align: middle;\n",
       "    }\n",
       "\n",
       "    .dataframe tbody tr th {\n",
       "        vertical-align: top;\n",
       "    }\n",
       "\n",
       "    .dataframe thead th {\n",
       "        text-align: right;\n",
       "    }\n",
       "</style>\n",
       "<table border=\"1\" class=\"dataframe\">\n",
       "  <thead>\n",
       "    <tr style=\"text-align: right;\">\n",
       "      <th></th>\n",
       "      <th>name</th>\n",
       "      <th>steps</th>\n",
       "      <th>ingredients</th>\n",
       "    </tr>\n",
       "  </thead>\n",
       "  <tbody>\n",
       "    <tr>\n",
       "      <th>54429</th>\n",
       "      <td>lemon  chicken   green olive tagine</td>\n",
       "      <td>['heat the oil over a high heat in a heavy-bas...</td>\n",
       "      <td>olive oil chicken thigh fillets onions garlic ...</td>\n",
       "    </tr>\n",
       "  </tbody>\n",
       "</table>\n",
       "</div>"
      ],
      "text/plain": [
       "                                      name  \\\n",
       "54429  lemon  chicken   green olive tagine   \n",
       "\n",
       "                                                   steps  \\\n",
       "54429  ['heat the oil over a high heat in a heavy-bas...   \n",
       "\n",
       "                                             ingredients  \n",
       "54429  olive oil chicken thigh fillets onions garlic ...  "
      ]
     },
     "execution_count": 118,
     "metadata": {},
     "output_type": "execute_result"
    }
   ],
   "source": [
    "plato = pd.DataFrame(tabla_user.iloc[plato_elegido]).T\n",
    "plato"
   ]
  },
  {
   "cell_type": "code",
   "execution_count": 119,
   "id": "05486e08",
   "metadata": {},
   "outputs": [
    {
     "data": {
      "text/plain": [
       "54429"
      ]
     },
     "execution_count": 119,
     "metadata": {},
     "output_type": "execute_result"
    }
   ],
   "source": [
    "plato_index = int(plato.index[0])\n",
    "plato_index"
   ]
  },
  {
   "cell_type": "code",
   "execution_count": 120,
   "id": "9f8a6264",
   "metadata": {},
   "outputs": [
    {
     "data": {
      "text/html": [
       "<div>\n",
       "<style scoped>\n",
       "    .dataframe tbody tr th:only-of-type {\n",
       "        vertical-align: middle;\n",
       "    }\n",
       "\n",
       "    .dataframe tbody tr th {\n",
       "        vertical-align: top;\n",
       "    }\n",
       "\n",
       "    .dataframe thead th {\n",
       "        text-align: right;\n",
       "    }\n",
       "</style>\n",
       "<table border=\"1\" class=\"dataframe\">\n",
       "  <thead>\n",
       "    <tr style=\"text-align: right;\">\n",
       "      <th></th>\n",
       "      <th>name</th>\n",
       "      <th>minutes</th>\n",
       "      <th>n_steps</th>\n",
       "      <th>steps</th>\n",
       "      <th>ingredients</th>\n",
       "      <th>n_ingredients</th>\n",
       "      <th>calories</th>\n",
       "      <th>total fat (PDV)</th>\n",
       "      <th>sugar (PDV)</th>\n",
       "      <th>sodium (PDV)</th>\n",
       "      <th>...</th>\n",
       "      <th>gluten_free</th>\n",
       "      <th>nut_free</th>\n",
       "      <th>lactose_free</th>\n",
       "      <th>egg_free</th>\n",
       "      <th>vegan</th>\n",
       "      <th>veggie</th>\n",
       "      <th>fish</th>\n",
       "      <th>low_calories</th>\n",
       "      <th>normal_calories</th>\n",
       "      <th>high_calories</th>\n",
       "    </tr>\n",
       "  </thead>\n",
       "  <tbody>\n",
       "    <tr>\n",
       "      <th>54429</th>\n",
       "      <td>lemon  chicken   green olive tagine</td>\n",
       "      <td>-0.109547</td>\n",
       "      <td>0.250758</td>\n",
       "      <td>['heat the oil over a high heat in a heavy-bas...</td>\n",
       "      <td>olive oil chicken thigh fillets onions garlic ...</td>\n",
       "      <td>0.66507</td>\n",
       "      <td>402.5</td>\n",
       "      <td>-0.376263</td>\n",
       "      <td>-0.225209</td>\n",
       "      <td>-0.275078</td>\n",
       "      <td>...</td>\n",
       "      <td>0</td>\n",
       "      <td>1</td>\n",
       "      <td>1</td>\n",
       "      <td>1</td>\n",
       "      <td>0</td>\n",
       "      <td>0</td>\n",
       "      <td>0</td>\n",
       "      <td>1.0</td>\n",
       "      <td>0.0</td>\n",
       "      <td>0.0</td>\n",
       "    </tr>\n",
       "  </tbody>\n",
       "</table>\n",
       "<p>1 rows × 23 columns</p>\n",
       "</div>"
      ],
      "text/plain": [
       "                                      name   minutes   n_steps  \\\n",
       "54429  lemon  chicken   green olive tagine -0.109547  0.250758   \n",
       "\n",
       "                                                   steps  \\\n",
       "54429  ['heat the oil over a high heat in a heavy-bas...   \n",
       "\n",
       "                                             ingredients n_ingredients  \\\n",
       "54429  olive oil chicken thigh fillets onions garlic ...       0.66507   \n",
       "\n",
       "      calories total fat (PDV) sugar (PDV) sodium (PDV)  ... gluten_free  \\\n",
       "54429    402.5       -0.376263   -0.225209    -0.275078  ...           0   \n",
       "\n",
       "      nut_free lactose_free egg_free vegan veggie fish low_calories  \\\n",
       "54429        1            1        1     0      0    0          1.0   \n",
       "\n",
       "      normal_calories high_calories  \n",
       "54429             0.0           0.0  \n",
       "\n",
       "[1 rows x 23 columns]"
      ]
     },
     "execution_count": 120,
     "metadata": {},
     "output_type": "execute_result"
    }
   ],
   "source": [
    "plato_completo =  pd.DataFrame(tabla_user_completa.iloc[plato_index]).T\n",
    "plato_completo"
   ]
  },
  {
   "cell_type": "markdown",
   "id": "e5636f83",
   "metadata": {},
   "source": [
    "## KNN y devolverle el resultado"
   ]
  },
  {
   "cell_type": "markdown",
   "id": "af4e11d6",
   "metadata": {},
   "source": [
    "Entrenar el modelo"
   ]
  },
  {
   "cell_type": "code",
   "execution_count": 121,
   "id": "dacb4406",
   "metadata": {},
   "outputs": [
    {
     "data": {
      "text/html": [
       "<div>\n",
       "<style scoped>\n",
       "    .dataframe tbody tr th:only-of-type {\n",
       "        vertical-align: middle;\n",
       "    }\n",
       "\n",
       "    .dataframe tbody tr th {\n",
       "        vertical-align: top;\n",
       "    }\n",
       "\n",
       "    .dataframe thead th {\n",
       "        text-align: right;\n",
       "    }\n",
       "</style>\n",
       "<table border=\"1\" class=\"dataframe\">\n",
       "  <thead>\n",
       "    <tr style=\"text-align: right;\">\n",
       "      <th></th>\n",
       "      <th>name</th>\n",
       "      <th>minutes</th>\n",
       "      <th>n_steps</th>\n",
       "      <th>steps</th>\n",
       "      <th>ingredients</th>\n",
       "      <th>n_ingredients</th>\n",
       "      <th>calories</th>\n",
       "      <th>total fat (PDV)</th>\n",
       "      <th>sugar (PDV)</th>\n",
       "      <th>sodium (PDV)</th>\n",
       "      <th>...</th>\n",
       "      <th>gluten_free</th>\n",
       "      <th>nut_free</th>\n",
       "      <th>lactose_free</th>\n",
       "      <th>egg_free</th>\n",
       "      <th>vegan</th>\n",
       "      <th>veggie</th>\n",
       "      <th>fish</th>\n",
       "      <th>low_calories</th>\n",
       "      <th>normal_calories</th>\n",
       "      <th>high_calories</th>\n",
       "    </tr>\n",
       "  </thead>\n",
       "  <tbody>\n",
       "    <tr>\n",
       "      <th>0</th>\n",
       "      <td>arriba   baked winter squash mexican style</td>\n",
       "      <td>-0.129793</td>\n",
       "      <td>0.077143</td>\n",
       "      <td>['make a choice and proceed with recipe', 'dep...</td>\n",
       "      <td>winter squash mexican seasoning mixed spice ho...</td>\n",
       "      <td>-0.685611</td>\n",
       "      <td>51.5</td>\n",
       "      <td>-0.671766</td>\n",
       "      <td>-0.294838</td>\n",
       "      <td>-0.328605</td>\n",
       "      <td>...</td>\n",
       "      <td>1</td>\n",
       "      <td>1</td>\n",
       "      <td>0</td>\n",
       "      <td>1</td>\n",
       "      <td>0</td>\n",
       "      <td>1</td>\n",
       "      <td>1</td>\n",
       "      <td>1.0</td>\n",
       "      <td>0.0</td>\n",
       "      <td>0.0</td>\n",
       "    </tr>\n",
       "    <tr>\n",
       "      <th>1</th>\n",
       "      <td>a bit different  breakfast pizza</td>\n",
       "      <td>-0.231020</td>\n",
       "      <td>-0.270086</td>\n",
       "      <td>['preheat oven to 425 degrees f', 'press dough...</td>\n",
       "      <td>prepared pizza crust sausage patty eggs milk s...</td>\n",
       "      <td>-0.955747</td>\n",
       "      <td>173.4</td>\n",
       "      <td>-0.339325</td>\n",
       "      <td>-0.359493</td>\n",
       "      <td>-0.146612</td>\n",
       "      <td>...</td>\n",
       "      <td>1</td>\n",
       "      <td>1</td>\n",
       "      <td>0</td>\n",
       "      <td>0</td>\n",
       "      <td>0</td>\n",
       "      <td>1</td>\n",
       "      <td>1</td>\n",
       "      <td>1.0</td>\n",
       "      <td>0.0</td>\n",
       "      <td>0.0</td>\n",
       "    </tr>\n",
       "    <tr>\n",
       "      <th>2</th>\n",
       "      <td>all in the kitchen  chili</td>\n",
       "      <td>0.173889</td>\n",
       "      <td>-0.790930</td>\n",
       "      <td>['brown ground beef in large pot', 'add choppe...</td>\n",
       "      <td>ground beef yellow onions diced tomatoes tomat...</td>\n",
       "      <td>0.935206</td>\n",
       "      <td>269.8</td>\n",
       "      <td>-0.265450</td>\n",
       "      <td>-0.200341</td>\n",
       "      <td>0.185258</td>\n",
       "      <td>...</td>\n",
       "      <td>1</td>\n",
       "      <td>1</td>\n",
       "      <td>0</td>\n",
       "      <td>1</td>\n",
       "      <td>0</td>\n",
       "      <td>0</td>\n",
       "      <td>0</td>\n",
       "      <td>1.0</td>\n",
       "      <td>0.0</td>\n",
       "      <td>0.0</td>\n",
       "    </tr>\n",
       "    <tr>\n",
       "      <th>3</th>\n",
       "      <td>alouette  potatoes</td>\n",
       "      <td>-0.170284</td>\n",
       "      <td>0.077143</td>\n",
       "      <td>['place potatoes in a large pot of lightly sal...</td>\n",
       "      <td>spreadable cheese with garlic and herbs new po...</td>\n",
       "      <td>0.394934</td>\n",
       "      <td>368.1</td>\n",
       "      <td>-0.357794</td>\n",
       "      <td>-0.309758</td>\n",
       "      <td>-0.307194</td>\n",
       "      <td>...</td>\n",
       "      <td>0</td>\n",
       "      <td>1</td>\n",
       "      <td>0</td>\n",
       "      <td>1</td>\n",
       "      <td>0</td>\n",
       "      <td>1</td>\n",
       "      <td>1</td>\n",
       "      <td>1.0</td>\n",
       "      <td>0.0</td>\n",
       "      <td>0.0</td>\n",
       "    </tr>\n",
       "    <tr>\n",
       "      <th>4</th>\n",
       "      <td>aww  marinated olives</td>\n",
       "      <td>-0.291756</td>\n",
       "      <td>-1.138159</td>\n",
       "      <td>['toast the fennel seeds and lightly crush the...</td>\n",
       "      <td>fennel seeds green olives ripe olives garlic p...</td>\n",
       "      <td>-0.145338</td>\n",
       "      <td>380.7</td>\n",
       "      <td>0.307088</td>\n",
       "      <td>-0.324679</td>\n",
       "      <td>-0.071673</td>\n",
       "      <td>...</td>\n",
       "      <td>1</td>\n",
       "      <td>1</td>\n",
       "      <td>1</td>\n",
       "      <td>1</td>\n",
       "      <td>1</td>\n",
       "      <td>1</td>\n",
       "      <td>1</td>\n",
       "      <td>1.0</td>\n",
       "      <td>0.0</td>\n",
       "      <td>0.0</td>\n",
       "    </tr>\n",
       "  </tbody>\n",
       "</table>\n",
       "<p>5 rows × 23 columns</p>\n",
       "</div>"
      ],
      "text/plain": [
       "                                         name   minutes   n_steps  \\\n",
       "0  arriba   baked winter squash mexican style -0.129793  0.077143   \n",
       "1            a bit different  breakfast pizza -0.231020 -0.270086   \n",
       "2                   all in the kitchen  chili  0.173889 -0.790930   \n",
       "3                          alouette  potatoes -0.170284  0.077143   \n",
       "4                       aww  marinated olives -0.291756 -1.138159   \n",
       "\n",
       "                                               steps  \\\n",
       "0  ['make a choice and proceed with recipe', 'dep...   \n",
       "1  ['preheat oven to 425 degrees f', 'press dough...   \n",
       "2  ['brown ground beef in large pot', 'add choppe...   \n",
       "3  ['place potatoes in a large pot of lightly sal...   \n",
       "4  ['toast the fennel seeds and lightly crush the...   \n",
       "\n",
       "                                         ingredients  n_ingredients  calories  \\\n",
       "0  winter squash mexican seasoning mixed spice ho...      -0.685611      51.5   \n",
       "1  prepared pizza crust sausage patty eggs milk s...      -0.955747     173.4   \n",
       "2  ground beef yellow onions diced tomatoes tomat...       0.935206     269.8   \n",
       "3  spreadable cheese with garlic and herbs new po...       0.394934     368.1   \n",
       "4  fennel seeds green olives ripe olives garlic p...      -0.145338     380.7   \n",
       "\n",
       "   total fat (PDV)  sugar (PDV)  sodium (PDV)  ...  gluten_free  nut_free  \\\n",
       "0        -0.671766    -0.294838     -0.328605  ...            1         1   \n",
       "1        -0.339325    -0.359493     -0.146612  ...            1         1   \n",
       "2        -0.265450    -0.200341      0.185258  ...            1         1   \n",
       "3        -0.357794    -0.309758     -0.307194  ...            0         1   \n",
       "4         0.307088    -0.324679     -0.071673  ...            1         1   \n",
       "\n",
       "   lactose_free  egg_free  vegan  veggie  fish  low_calories  normal_calories  \\\n",
       "0             0         1      0       1     1           1.0              0.0   \n",
       "1             0         0      0       1     1           1.0              0.0   \n",
       "2             0         1      0       0     0           1.0              0.0   \n",
       "3             0         1      0       1     1           1.0              0.0   \n",
       "4             1         1      1       1     1           1.0              0.0   \n",
       "\n",
       "   high_calories  \n",
       "0            0.0  \n",
       "1            0.0  \n",
       "2            0.0  \n",
       "3            0.0  \n",
       "4            0.0  \n",
       "\n",
       "[5 rows x 23 columns]"
      ]
     },
     "execution_count": 121,
     "metadata": {},
     "output_type": "execute_result"
    }
   ],
   "source": [
    "tabla_user_completa.head()"
   ]
  },
  {
   "cell_type": "code",
   "execution_count": 122,
   "id": "da942bf6",
   "metadata": {
    "scrolled": true
   },
   "outputs": [
    {
     "data": {
      "text/plain": [
       "Index(['name', 'minutes', 'n_steps', 'steps', 'ingredients', 'n_ingredients',\n",
       "       'calories', 'total fat (PDV)', 'sugar (PDV)', 'sodium (PDV)',\n",
       "       'protein (PDV)', 'saturated fat (PDV)', 'carbohydrates (PDV)',\n",
       "       'gluten_free', 'nut_free', 'lactose_free', 'egg_free', 'vegan',\n",
       "       'veggie', 'fish', 'low_calories', 'normal_calories', 'high_calories'],\n",
       "      dtype='object')"
      ]
     },
     "execution_count": 122,
     "metadata": {},
     "output_type": "execute_result"
    }
   ],
   "source": [
    "tabla_user_completa.columns"
   ]
  },
  {
   "cell_type": "code",
   "execution_count": 123,
   "id": "e2a7319d",
   "metadata": {},
   "outputs": [],
   "source": [
    "# Define X and y\n",
    "X = tabla_user_completa.drop(columns=['name','steps','ingredients','gluten_free', 'nut_free', 'lactose_free', 'egg_free', 'vegan',\n",
    "       'veggie', 'fish', 'low_calories', 'normal_calories', 'high_calories']) #Remove non numerical features\n",
    "y = tabla_user_completa['calories']\n",
    "\n",
    "knn_model = KNeighborsRegressor().fit(X,y) # Instanciate and train model"
   ]
  },
  {
   "cell_type": "code",
   "execution_count": 124,
   "id": "12ef6ae1",
   "metadata": {},
   "outputs": [
    {
     "data": {
      "text/plain": [
       "['knn_model.sav']"
      ]
     },
     "execution_count": 124,
     "metadata": {},
     "output_type": "execute_result"
    }
   ],
   "source": [
    "joblib.dump(knn_model, 'knn_model.sav')"
   ]
  },
  {
   "cell_type": "markdown",
   "id": "f95e466e",
   "metadata": {},
   "source": [
    "Le pasamos el nuevo point. \"Since we are only concerned by the similarity of features between the songs, it doesn't matter which target it is fitted to\""
   ]
  },
  {
   "cell_type": "code",
   "execution_count": 127,
   "id": "919582a6",
   "metadata": {},
   "outputs": [
    {
     "data": {
      "text/plain": [
       "[54429, 77076, 31028, 77002, 101172, 20036, 86723, 70650]"
      ]
     },
     "execution_count": 127,
     "metadata": {},
     "output_type": "execute_result"
    }
   ],
   "source": [
    "# Pass song to model, ask for 11 closest points, and unpack the corresponding indices to a list\n",
    "ind_list = list(knn_model.kneighbors(plato_completo.drop(columns=['name','steps','ingredients','gluten_free', 'nut_free', 'lactose_free', 'egg_free', 'vegan',\n",
    "       'veggie', 'fish', 'low_calories', 'normal_calories', 'high_calories']),n_neighbors=8)[1][0])\n",
    "ind_list"
   ]
  },
  {
   "cell_type": "code",
   "execution_count": 129,
   "id": "2baec39b",
   "metadata": {
    "collapsed": true
   },
   "outputs": [
    {
     "data": {
      "text/html": [
       "<div>\n",
       "<style scoped>\n",
       "    .dataframe tbody tr th:only-of-type {\n",
       "        vertical-align: middle;\n",
       "    }\n",
       "\n",
       "    .dataframe tbody tr th {\n",
       "        vertical-align: top;\n",
       "    }\n",
       "\n",
       "    .dataframe thead th {\n",
       "        text-align: right;\n",
       "    }\n",
       "</style>\n",
       "<table border=\"1\" class=\"dataframe\">\n",
       "  <thead>\n",
       "    <tr style=\"text-align: right;\">\n",
       "      <th></th>\n",
       "      <th>name</th>\n",
       "      <th>minutes</th>\n",
       "      <th>n_steps</th>\n",
       "      <th>steps</th>\n",
       "      <th>ingredients</th>\n",
       "      <th>n_ingredients</th>\n",
       "      <th>calories</th>\n",
       "      <th>total fat (PDV)</th>\n",
       "      <th>sugar (PDV)</th>\n",
       "      <th>sodium (PDV)</th>\n",
       "      <th>...</th>\n",
       "      <th>gluten_free</th>\n",
       "      <th>nut_free</th>\n",
       "      <th>lactose_free</th>\n",
       "      <th>egg_free</th>\n",
       "      <th>vegan</th>\n",
       "      <th>veggie</th>\n",
       "      <th>fish</th>\n",
       "      <th>low_calories</th>\n",
       "      <th>normal_calories</th>\n",
       "      <th>high_calories</th>\n",
       "    </tr>\n",
       "  </thead>\n",
       "  <tbody>\n",
       "    <tr>\n",
       "      <th>70650</th>\n",
       "      <td>pesto shrimp with couscous with parchment paper</td>\n",
       "      <td>-0.214824</td>\n",
       "      <td>0.424372</td>\n",
       "      <td>['preheat oven to 425 degrees', 'put couscous ...</td>\n",
       "      <td>low sodium chicken broth couscous lemon zest r...</td>\n",
       "      <td>0.124798</td>\n",
       "      <td>401.9</td>\n",
       "      <td>-0.339325</td>\n",
       "      <td>-0.294838</td>\n",
       "      <td>-0.114495</td>\n",
       "      <td>...</td>\n",
       "      <td>1</td>\n",
       "      <td>1</td>\n",
       "      <td>1</td>\n",
       "      <td>1</td>\n",
       "      <td>0</td>\n",
       "      <td>0</td>\n",
       "      <td>0</td>\n",
       "      <td>1.0</td>\n",
       "      <td>0.0</td>\n",
       "      <td>0.0</td>\n",
       "    </tr>\n",
       "    <tr>\n",
       "      <th>86723</th>\n",
       "      <td>southerwestern pork tenderloin with corn salad</td>\n",
       "      <td>-0.170284</td>\n",
       "      <td>0.250758</td>\n",
       "      <td>['preheat oven to 400f', 'butterfly the tender...</td>\n",
       "      <td>pork tenderloin brown sugar chili powder groun...</td>\n",
       "      <td>0.124798</td>\n",
       "      <td>402.0</td>\n",
       "      <td>-0.283918</td>\n",
       "      <td>0.038388</td>\n",
       "      <td>-0.071673</td>\n",
       "      <td>...</td>\n",
       "      <td>1</td>\n",
       "      <td>1</td>\n",
       "      <td>1</td>\n",
       "      <td>1</td>\n",
       "      <td>0</td>\n",
       "      <td>0</td>\n",
       "      <td>0</td>\n",
       "      <td>1.0</td>\n",
       "      <td>0.0</td>\n",
       "      <td>0.0</td>\n",
       "    </tr>\n",
       "    <tr>\n",
       "      <th>77076</th>\n",
       "      <td>red pepper lemon shrimp</td>\n",
       "      <td>-0.271511</td>\n",
       "      <td>0.597987</td>\n",
       "      <td>['cook pasta in salted water till al dente', '...</td>\n",
       "      <td>pasta olive oil large shrimp crushed red peppe...</td>\n",
       "      <td>0.665070</td>\n",
       "      <td>402.3</td>\n",
       "      <td>-0.450139</td>\n",
       "      <td>-0.334626</td>\n",
       "      <td>-0.253667</td>\n",
       "      <td>...</td>\n",
       "      <td>0</td>\n",
       "      <td>1</td>\n",
       "      <td>0</td>\n",
       "      <td>1</td>\n",
       "      <td>0</td>\n",
       "      <td>0</td>\n",
       "      <td>1</td>\n",
       "      <td>1.0</td>\n",
       "      <td>0.0</td>\n",
       "      <td>0.0</td>\n",
       "    </tr>\n",
       "    <tr>\n",
       "      <th>31028</th>\n",
       "      <td>dijon chicken au gratin</td>\n",
       "      <td>-0.129793</td>\n",
       "      <td>-0.096471</td>\n",
       "      <td>['spread uncooked rice in lightly greased 13 x...</td>\n",
       "      <td>instant rice boneless skinless chicken breast ...</td>\n",
       "      <td>0.124798</td>\n",
       "      <td>402.4</td>\n",
       "      <td>-0.468608</td>\n",
       "      <td>-0.289864</td>\n",
       "      <td>-0.050262</td>\n",
       "      <td>...</td>\n",
       "      <td>0</td>\n",
       "      <td>1</td>\n",
       "      <td>0</td>\n",
       "      <td>1</td>\n",
       "      <td>0</td>\n",
       "      <td>0</td>\n",
       "      <td>0</td>\n",
       "      <td>1.0</td>\n",
       "      <td>0.0</td>\n",
       "      <td>0.0</td>\n",
       "    </tr>\n",
       "    <tr>\n",
       "      <th>20036</th>\n",
       "      <td>chicken pizzaioli</td>\n",
       "      <td>-0.222922</td>\n",
       "      <td>0.597987</td>\n",
       "      <td>['place chicken in a bowl and use a fork to po...</td>\n",
       "      <td>whole tomatoes garlic cloves pitted black oliv...</td>\n",
       "      <td>0.124798</td>\n",
       "      <td>402.4</td>\n",
       "      <td>-0.505546</td>\n",
       "      <td>-0.220235</td>\n",
       "      <td>-0.232256</td>\n",
       "      <td>...</td>\n",
       "      <td>1</td>\n",
       "      <td>1</td>\n",
       "      <td>1</td>\n",
       "      <td>1</td>\n",
       "      <td>0</td>\n",
       "      <td>0</td>\n",
       "      <td>0</td>\n",
       "      <td>1.0</td>\n",
       "      <td>0.0</td>\n",
       "      <td>0.0</td>\n",
       "    </tr>\n",
       "    <tr>\n",
       "      <th>54429</th>\n",
       "      <td>lemon  chicken   green olive tagine</td>\n",
       "      <td>-0.109547</td>\n",
       "      <td>0.250758</td>\n",
       "      <td>['heat the oil over a high heat in a heavy-bas...</td>\n",
       "      <td>olive oil chicken thigh fillets onions garlic ...</td>\n",
       "      <td>0.665070</td>\n",
       "      <td>402.5</td>\n",
       "      <td>-0.376263</td>\n",
       "      <td>-0.225209</td>\n",
       "      <td>-0.275078</td>\n",
       "      <td>...</td>\n",
       "      <td>0</td>\n",
       "      <td>1</td>\n",
       "      <td>1</td>\n",
       "      <td>1</td>\n",
       "      <td>0</td>\n",
       "      <td>0</td>\n",
       "      <td>0</td>\n",
       "      <td>1.0</td>\n",
       "      <td>0.0</td>\n",
       "      <td>0.0</td>\n",
       "    </tr>\n",
       "    <tr>\n",
       "      <th>101172</th>\n",
       "      <td>vietnamese chicken sandwich  food network maga...</td>\n",
       "      <td>-0.231020</td>\n",
       "      <td>-0.270086</td>\n",
       "      <td>['soak first 3 ingredients in ice water for 5 ...</td>\n",
       "      <td>red onion carrot radishes hoagie rolls mayonna...</td>\n",
       "      <td>0.935206</td>\n",
       "      <td>402.8</td>\n",
       "      <td>-0.173105</td>\n",
       "      <td>-0.220235</td>\n",
       "      <td>-0.103790</td>\n",
       "      <td>...</td>\n",
       "      <td>0</td>\n",
       "      <td>1</td>\n",
       "      <td>1</td>\n",
       "      <td>1</td>\n",
       "      <td>0</td>\n",
       "      <td>0</td>\n",
       "      <td>0</td>\n",
       "      <td>1.0</td>\n",
       "      <td>0.0</td>\n",
       "      <td>0.0</td>\n",
       "    </tr>\n",
       "    <tr>\n",
       "      <th>77002</th>\n",
       "      <td>red lentil soup with lime and cilantro</td>\n",
       "      <td>-0.069056</td>\n",
       "      <td>0.250758</td>\n",
       "      <td>['melt butter in soup pot over medium heat', '...</td>\n",
       "      <td>butter garlic cloves onion celery ribs red len...</td>\n",
       "      <td>0.394934</td>\n",
       "      <td>402.9</td>\n",
       "      <td>-0.357794</td>\n",
       "      <td>-0.309758</td>\n",
       "      <td>0.153142</td>\n",
       "      <td>...</td>\n",
       "      <td>1</td>\n",
       "      <td>1</td>\n",
       "      <td>0</td>\n",
       "      <td>1</td>\n",
       "      <td>0</td>\n",
       "      <td>0</td>\n",
       "      <td>0</td>\n",
       "      <td>1.0</td>\n",
       "      <td>0.0</td>\n",
       "      <td>0.0</td>\n",
       "    </tr>\n",
       "  </tbody>\n",
       "</table>\n",
       "<p>8 rows × 23 columns</p>\n",
       "</div>"
      ],
      "text/plain": [
       "                                                     name   minutes   n_steps  \\\n",
       "70650     pesto shrimp with couscous with parchment paper -0.214824  0.424372   \n",
       "86723      southerwestern pork tenderloin with corn salad -0.170284  0.250758   \n",
       "77076                             red pepper lemon shrimp -0.271511  0.597987   \n",
       "31028                             dijon chicken au gratin -0.129793 -0.096471   \n",
       "20036                                   chicken pizzaioli -0.222922  0.597987   \n",
       "54429                 lemon  chicken   green olive tagine -0.109547  0.250758   \n",
       "101172  vietnamese chicken sandwich  food network maga... -0.231020 -0.270086   \n",
       "77002              red lentil soup with lime and cilantro -0.069056  0.250758   \n",
       "\n",
       "                                                    steps  \\\n",
       "70650   ['preheat oven to 425 degrees', 'put couscous ...   \n",
       "86723   ['preheat oven to 400f', 'butterfly the tender...   \n",
       "77076   ['cook pasta in salted water till al dente', '...   \n",
       "31028   ['spread uncooked rice in lightly greased 13 x...   \n",
       "20036   ['place chicken in a bowl and use a fork to po...   \n",
       "54429   ['heat the oil over a high heat in a heavy-bas...   \n",
       "101172  ['soak first 3 ingredients in ice water for 5 ...   \n",
       "77002   ['melt butter in soup pot over medium heat', '...   \n",
       "\n",
       "                                              ingredients  n_ingredients  \\\n",
       "70650   low sodium chicken broth couscous lemon zest r...       0.124798   \n",
       "86723   pork tenderloin brown sugar chili powder groun...       0.124798   \n",
       "77076   pasta olive oil large shrimp crushed red peppe...       0.665070   \n",
       "31028   instant rice boneless skinless chicken breast ...       0.124798   \n",
       "20036   whole tomatoes garlic cloves pitted black oliv...       0.124798   \n",
       "54429   olive oil chicken thigh fillets onions garlic ...       0.665070   \n",
       "101172  red onion carrot radishes hoagie rolls mayonna...       0.935206   \n",
       "77002   butter garlic cloves onion celery ribs red len...       0.394934   \n",
       "\n",
       "        calories  total fat (PDV)  sugar (PDV)  sodium (PDV)  ...  \\\n",
       "70650      401.9        -0.339325    -0.294838     -0.114495  ...   \n",
       "86723      402.0        -0.283918     0.038388     -0.071673  ...   \n",
       "77076      402.3        -0.450139    -0.334626     -0.253667  ...   \n",
       "31028      402.4        -0.468608    -0.289864     -0.050262  ...   \n",
       "20036      402.4        -0.505546    -0.220235     -0.232256  ...   \n",
       "54429      402.5        -0.376263    -0.225209     -0.275078  ...   \n",
       "101172     402.8        -0.173105    -0.220235     -0.103790  ...   \n",
       "77002      402.9        -0.357794    -0.309758      0.153142  ...   \n",
       "\n",
       "        gluten_free  nut_free  lactose_free  egg_free  vegan  veggie  fish  \\\n",
       "70650             1         1             1         1      0       0     0   \n",
       "86723             1         1             1         1      0       0     0   \n",
       "77076             0         1             0         1      0       0     1   \n",
       "31028             0         1             0         1      0       0     0   \n",
       "20036             1         1             1         1      0       0     0   \n",
       "54429             0         1             1         1      0       0     0   \n",
       "101172            0         1             1         1      0       0     0   \n",
       "77002             1         1             0         1      0       0     0   \n",
       "\n",
       "        low_calories  normal_calories  high_calories  \n",
       "70650            1.0              0.0            0.0  \n",
       "86723            1.0              0.0            0.0  \n",
       "77076            1.0              0.0            0.0  \n",
       "31028            1.0              0.0            0.0  \n",
       "20036            1.0              0.0            0.0  \n",
       "54429            1.0              0.0            0.0  \n",
       "101172           1.0              0.0            0.0  \n",
       "77002            1.0              0.0            0.0  \n",
       "\n",
       "[8 rows x 23 columns]"
      ]
     },
     "execution_count": 129,
     "metadata": {},
     "output_type": "execute_result"
    }
   ],
   "source": [
    "# Filter original dataframe with indices list and sort by tempo\n",
    "recommendation = tabla_user_completa.iloc[ind_list, :].sort_values(by=\"calories\")\n",
    "recommendation"
   ]
  },
  {
   "cell_type": "code",
   "execution_count": 130,
   "id": "7113c5f0",
   "metadata": {},
   "outputs": [
    {
     "data": {
      "text/plain": [
       "(105055, 23)"
      ]
     },
     "execution_count": 130,
     "metadata": {},
     "output_type": "execute_result"
    }
   ],
   "source": [
    "tabla_user_completa.shape"
   ]
  },
  {
   "cell_type": "code",
   "execution_count": null,
   "id": "ba27b045",
   "metadata": {},
   "outputs": [],
   "source": []
  }
 ],
 "metadata": {
  "kernelspec": {
   "display_name": "Python 3 (ipykernel)",
   "language": "python",
   "name": "python3"
  },
  "language_info": {
   "codemirror_mode": {
    "name": "ipython",
    "version": 3
   },
   "file_extension": ".py",
   "mimetype": "text/x-python",
   "name": "python",
   "nbconvert_exporter": "python",
   "pygments_lexer": "ipython3",
   "version": "3.8.12"
  },
  "toc": {
   "base_numbering": 1,
   "nav_menu": {},
   "number_sections": true,
   "sideBar": true,
   "skip_h1_title": false,
   "title_cell": "Table of Contents",
   "title_sidebar": "Contents",
   "toc_cell": false,
   "toc_position": {},
   "toc_section_display": true,
   "toc_window_display": false
  }
 },
 "nbformat": 4,
 "nbformat_minor": 5
}
