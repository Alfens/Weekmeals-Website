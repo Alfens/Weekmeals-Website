{
 "cells": [
  {
   "cell_type": "code",
   "execution_count": 1,
   "id": "402d237f",
   "metadata": {},
   "outputs": [],
   "source": [
    "import pandas as pd\n",
    "import matplotlib.pyplot as plt\n",
    "import seaborn as sns\n",
    "import numpy as np\n",
    "from sklearn.preprocessing import OneHotEncoder\n",
    "from sklearn.preprocessing import RobustScaler"
   ]
  },
  {
   "cell_type": "code",
   "execution_count": 2,
   "id": "8df184ba",
   "metadata": {},
   "outputs": [
    {
     "data": {
      "text/html": [
       "<div>\n",
       "<style scoped>\n",
       "    .dataframe tbody tr th:only-of-type {\n",
       "        vertical-align: middle;\n",
       "    }\n",
       "\n",
       "    .dataframe tbody tr th {\n",
       "        vertical-align: top;\n",
       "    }\n",
       "\n",
       "    .dataframe thead th {\n",
       "        text-align: right;\n",
       "    }\n",
       "</style>\n",
       "<table border=\"1\" class=\"dataframe\">\n",
       "  <thead>\n",
       "    <tr style=\"text-align: right;\">\n",
       "      <th></th>\n",
       "      <th>name</th>\n",
       "      <th>id</th>\n",
       "      <th>minutes</th>\n",
       "      <th>contributor_id</th>\n",
       "      <th>submitted</th>\n",
       "      <th>tags</th>\n",
       "      <th>nutrition</th>\n",
       "      <th>n_steps</th>\n",
       "      <th>steps</th>\n",
       "      <th>description</th>\n",
       "      <th>ingredients</th>\n",
       "      <th>n_ingredients</th>\n",
       "    </tr>\n",
       "  </thead>\n",
       "  <tbody>\n",
       "    <tr>\n",
       "      <th>0</th>\n",
       "      <td>arriba   baked winter squash mexican style</td>\n",
       "      <td>137739</td>\n",
       "      <td>55</td>\n",
       "      <td>47892</td>\n",
       "      <td>2005-09-16</td>\n",
       "      <td>['60-minutes-or-less', 'time-to-make', 'course...</td>\n",
       "      <td>[51.5, 0.0, 13.0, 0.0, 2.0, 0.0, 4.0]</td>\n",
       "      <td>11</td>\n",
       "      <td>['make a choice and proceed with recipe', 'dep...</td>\n",
       "      <td>autumn is my favorite time of year to cook! th...</td>\n",
       "      <td>['winter squash', 'mexican seasoning', 'mixed ...</td>\n",
       "      <td>7</td>\n",
       "    </tr>\n",
       "    <tr>\n",
       "      <th>1</th>\n",
       "      <td>a bit different  breakfast pizza</td>\n",
       "      <td>31490</td>\n",
       "      <td>30</td>\n",
       "      <td>26278</td>\n",
       "      <td>2002-06-17</td>\n",
       "      <td>['30-minutes-or-less', 'time-to-make', 'course...</td>\n",
       "      <td>[173.4, 18.0, 0.0, 17.0, 22.0, 35.0, 1.0]</td>\n",
       "      <td>9</td>\n",
       "      <td>['preheat oven to 425 degrees f', 'press dough...</td>\n",
       "      <td>this recipe calls for the crust to be prebaked...</td>\n",
       "      <td>['prepared pizza crust', 'sausage patty', 'egg...</td>\n",
       "      <td>6</td>\n",
       "    </tr>\n",
       "    <tr>\n",
       "      <th>2</th>\n",
       "      <td>all in the kitchen  chili</td>\n",
       "      <td>112140</td>\n",
       "      <td>130</td>\n",
       "      <td>196586</td>\n",
       "      <td>2005-02-25</td>\n",
       "      <td>['time-to-make', 'course', 'preparation', 'mai...</td>\n",
       "      <td>[269.8, 22.0, 32.0, 48.0, 39.0, 27.0, 5.0]</td>\n",
       "      <td>6</td>\n",
       "      <td>['brown ground beef in large pot', 'add choppe...</td>\n",
       "      <td>this modified version of 'mom's' chili was a h...</td>\n",
       "      <td>['ground beef', 'yellow onions', 'diced tomato...</td>\n",
       "      <td>13</td>\n",
       "    </tr>\n",
       "    <tr>\n",
       "      <th>3</th>\n",
       "      <td>alouette  potatoes</td>\n",
       "      <td>59389</td>\n",
       "      <td>45</td>\n",
       "      <td>68585</td>\n",
       "      <td>2003-04-14</td>\n",
       "      <td>['60-minutes-or-less', 'time-to-make', 'course...</td>\n",
       "      <td>[368.1, 17.0, 10.0, 2.0, 14.0, 8.0, 20.0]</td>\n",
       "      <td>11</td>\n",
       "      <td>['place potatoes in a large pot of lightly sal...</td>\n",
       "      <td>this is a super easy, great tasting, make ahea...</td>\n",
       "      <td>['spreadable cheese with garlic and herbs', 'n...</td>\n",
       "      <td>11</td>\n",
       "    </tr>\n",
       "    <tr>\n",
       "      <th>4</th>\n",
       "      <td>amish  tomato ketchup  for canning</td>\n",
       "      <td>44061</td>\n",
       "      <td>190</td>\n",
       "      <td>41706</td>\n",
       "      <td>2002-10-25</td>\n",
       "      <td>['weeknight', 'time-to-make', 'course', 'main-...</td>\n",
       "      <td>[352.9, 1.0, 337.0, 23.0, 3.0, 0.0, 28.0]</td>\n",
       "      <td>5</td>\n",
       "      <td>['mix all ingredients&amp; boil for 2 1 / 2 hours ...</td>\n",
       "      <td>my dh's amish mother raised him on this recipe...</td>\n",
       "      <td>['tomato juice', 'apple cider vinegar', 'sugar...</td>\n",
       "      <td>8</td>\n",
       "    </tr>\n",
       "  </tbody>\n",
       "</table>\n",
       "</div>"
      ],
      "text/plain": [
       "                                         name      id  minutes  \\\n",
       "0  arriba   baked winter squash mexican style  137739       55   \n",
       "1            a bit different  breakfast pizza   31490       30   \n",
       "2                   all in the kitchen  chili  112140      130   \n",
       "3                          alouette  potatoes   59389       45   \n",
       "4          amish  tomato ketchup  for canning   44061      190   \n",
       "\n",
       "   contributor_id   submitted  \\\n",
       "0           47892  2005-09-16   \n",
       "1           26278  2002-06-17   \n",
       "2          196586  2005-02-25   \n",
       "3           68585  2003-04-14   \n",
       "4           41706  2002-10-25   \n",
       "\n",
       "                                                tags  \\\n",
       "0  ['60-minutes-or-less', 'time-to-make', 'course...   \n",
       "1  ['30-minutes-or-less', 'time-to-make', 'course...   \n",
       "2  ['time-to-make', 'course', 'preparation', 'mai...   \n",
       "3  ['60-minutes-or-less', 'time-to-make', 'course...   \n",
       "4  ['weeknight', 'time-to-make', 'course', 'main-...   \n",
       "\n",
       "                                    nutrition  n_steps  \\\n",
       "0       [51.5, 0.0, 13.0, 0.0, 2.0, 0.0, 4.0]       11   \n",
       "1   [173.4, 18.0, 0.0, 17.0, 22.0, 35.0, 1.0]        9   \n",
       "2  [269.8, 22.0, 32.0, 48.0, 39.0, 27.0, 5.0]        6   \n",
       "3   [368.1, 17.0, 10.0, 2.0, 14.0, 8.0, 20.0]       11   \n",
       "4   [352.9, 1.0, 337.0, 23.0, 3.0, 0.0, 28.0]        5   \n",
       "\n",
       "                                               steps  \\\n",
       "0  ['make a choice and proceed with recipe', 'dep...   \n",
       "1  ['preheat oven to 425 degrees f', 'press dough...   \n",
       "2  ['brown ground beef in large pot', 'add choppe...   \n",
       "3  ['place potatoes in a large pot of lightly sal...   \n",
       "4  ['mix all ingredients& boil for 2 1 / 2 hours ...   \n",
       "\n",
       "                                         description  \\\n",
       "0  autumn is my favorite time of year to cook! th...   \n",
       "1  this recipe calls for the crust to be prebaked...   \n",
       "2  this modified version of 'mom's' chili was a h...   \n",
       "3  this is a super easy, great tasting, make ahea...   \n",
       "4  my dh's amish mother raised him on this recipe...   \n",
       "\n",
       "                                         ingredients  n_ingredients  \n",
       "0  ['winter squash', 'mexican seasoning', 'mixed ...              7  \n",
       "1  ['prepared pizza crust', 'sausage patty', 'egg...              6  \n",
       "2  ['ground beef', 'yellow onions', 'diced tomato...             13  \n",
       "3  ['spreadable cheese with garlic and herbs', 'n...             11  \n",
       "4  ['tomato juice', 'apple cider vinegar', 'sugar...              8  "
      ]
     },
     "execution_count": 2,
     "metadata": {},
     "output_type": "execute_result"
    }
   ],
   "source": [
    "df = pd.read_csv('raw_data/RAW_recipes.csv')\n",
    "df.head(5)"
   ]
  },
  {
   "cell_type": "code",
   "execution_count": 3,
   "id": "38c9d07a",
   "metadata": {
    "scrolled": false
   },
   "outputs": [
    {
     "data": {
      "text/html": [
       "<div>\n",
       "<style scoped>\n",
       "    .dataframe tbody tr th:only-of-type {\n",
       "        vertical-align: middle;\n",
       "    }\n",
       "\n",
       "    .dataframe tbody tr th {\n",
       "        vertical-align: top;\n",
       "    }\n",
       "\n",
       "    .dataframe thead th {\n",
       "        text-align: right;\n",
       "    }\n",
       "</style>\n",
       "<table border=\"1\" class=\"dataframe\">\n",
       "  <thead>\n",
       "    <tr style=\"text-align: right;\">\n",
       "      <th></th>\n",
       "      <th>name</th>\n",
       "      <th>minutes</th>\n",
       "      <th>n_steps</th>\n",
       "      <th>steps</th>\n",
       "      <th>description</th>\n",
       "      <th>ingredients</th>\n",
       "      <th>n_ingredients</th>\n",
       "      <th>calories</th>\n",
       "      <th>total fat (PDV)</th>\n",
       "      <th>sugar (PDV)</th>\n",
       "      <th>sodium (PDV)</th>\n",
       "      <th>protein (PDV)</th>\n",
       "      <th>saturated fat (PDV)</th>\n",
       "      <th>carbohydrates (PDV)</th>\n",
       "    </tr>\n",
       "  </thead>\n",
       "  <tbody>\n",
       "    <tr>\n",
       "      <th>0</th>\n",
       "      <td>arriba   baked winter squash mexican style</td>\n",
       "      <td>55</td>\n",
       "      <td>11</td>\n",
       "      <td>['make a choice and proceed with recipe', 'dep...</td>\n",
       "      <td>autumn is my favorite time of year to cook! th...</td>\n",
       "      <td>['winter squash', 'mexican seasoning', 'mixed ...</td>\n",
       "      <td>7</td>\n",
       "      <td>51.5</td>\n",
       "      <td>0.0</td>\n",
       "      <td>13.0</td>\n",
       "      <td>0.0</td>\n",
       "      <td>2.0</td>\n",
       "      <td>0.0</td>\n",
       "      <td>4.0</td>\n",
       "    </tr>\n",
       "    <tr>\n",
       "      <th>1</th>\n",
       "      <td>a bit different  breakfast pizza</td>\n",
       "      <td>30</td>\n",
       "      <td>9</td>\n",
       "      <td>['preheat oven to 425 degrees f', 'press dough...</td>\n",
       "      <td>this recipe calls for the crust to be prebaked...</td>\n",
       "      <td>['prepared pizza crust', 'sausage patty', 'egg...</td>\n",
       "      <td>6</td>\n",
       "      <td>173.4</td>\n",
       "      <td>18.0</td>\n",
       "      <td>0.0</td>\n",
       "      <td>17.0</td>\n",
       "      <td>22.0</td>\n",
       "      <td>35.0</td>\n",
       "      <td>1.0</td>\n",
       "    </tr>\n",
       "    <tr>\n",
       "      <th>2</th>\n",
       "      <td>all in the kitchen  chili</td>\n",
       "      <td>130</td>\n",
       "      <td>6</td>\n",
       "      <td>['brown ground beef in large pot', 'add choppe...</td>\n",
       "      <td>this modified version of 'mom's' chili was a h...</td>\n",
       "      <td>['ground beef', 'yellow onions', 'diced tomato...</td>\n",
       "      <td>13</td>\n",
       "      <td>269.8</td>\n",
       "      <td>22.0</td>\n",
       "      <td>32.0</td>\n",
       "      <td>48.0</td>\n",
       "      <td>39.0</td>\n",
       "      <td>27.0</td>\n",
       "      <td>5.0</td>\n",
       "    </tr>\n",
       "    <tr>\n",
       "      <th>3</th>\n",
       "      <td>alouette  potatoes</td>\n",
       "      <td>45</td>\n",
       "      <td>11</td>\n",
       "      <td>['place potatoes in a large pot of lightly sal...</td>\n",
       "      <td>this is a super easy, great tasting, make ahea...</td>\n",
       "      <td>['spreadable cheese with garlic and herbs', 'n...</td>\n",
       "      <td>11</td>\n",
       "      <td>368.1</td>\n",
       "      <td>17.0</td>\n",
       "      <td>10.0</td>\n",
       "      <td>2.0</td>\n",
       "      <td>14.0</td>\n",
       "      <td>8.0</td>\n",
       "      <td>20.0</td>\n",
       "    </tr>\n",
       "    <tr>\n",
       "      <th>4</th>\n",
       "      <td>amish  tomato ketchup  for canning</td>\n",
       "      <td>190</td>\n",
       "      <td>5</td>\n",
       "      <td>['mix all ingredients&amp; boil for 2 1 / 2 hours ...</td>\n",
       "      <td>my dh's amish mother raised him on this recipe...</td>\n",
       "      <td>['tomato juice', 'apple cider vinegar', 'sugar...</td>\n",
       "      <td>8</td>\n",
       "      <td>352.9</td>\n",
       "      <td>1.0</td>\n",
       "      <td>337.0</td>\n",
       "      <td>23.0</td>\n",
       "      <td>3.0</td>\n",
       "      <td>0.0</td>\n",
       "      <td>28.0</td>\n",
       "    </tr>\n",
       "    <tr>\n",
       "      <th>...</th>\n",
       "      <td>...</td>\n",
       "      <td>...</td>\n",
       "      <td>...</td>\n",
       "      <td>...</td>\n",
       "      <td>...</td>\n",
       "      <td>...</td>\n",
       "      <td>...</td>\n",
       "      <td>...</td>\n",
       "      <td>...</td>\n",
       "      <td>...</td>\n",
       "      <td>...</td>\n",
       "      <td>...</td>\n",
       "      <td>...</td>\n",
       "      <td>...</td>\n",
       "    </tr>\n",
       "    <tr>\n",
       "      <th>231632</th>\n",
       "      <td>zydeco soup</td>\n",
       "      <td>60</td>\n",
       "      <td>7</td>\n",
       "      <td>['heat oil in a 4-quart dutch oven', 'add cele...</td>\n",
       "      <td>this is a delicious soup that i originally fou...</td>\n",
       "      <td>['celery', 'onion', 'green sweet pepper', 'gar...</td>\n",
       "      <td>22</td>\n",
       "      <td>415.2</td>\n",
       "      <td>26.0</td>\n",
       "      <td>34.0</td>\n",
       "      <td>26.0</td>\n",
       "      <td>44.0</td>\n",
       "      <td>21.0</td>\n",
       "      <td>15.0</td>\n",
       "    </tr>\n",
       "    <tr>\n",
       "      <th>231633</th>\n",
       "      <td>zydeco spice mix</td>\n",
       "      <td>5</td>\n",
       "      <td>1</td>\n",
       "      <td>['mix all ingredients together thoroughly']</td>\n",
       "      <td>this spice mix will make your taste buds dance!</td>\n",
       "      <td>['paprika', 'salt', 'garlic powder', 'onion po...</td>\n",
       "      <td>13</td>\n",
       "      <td>14.8</td>\n",
       "      <td>0.0</td>\n",
       "      <td>2.0</td>\n",
       "      <td>58.0</td>\n",
       "      <td>1.0</td>\n",
       "      <td>0.0</td>\n",
       "      <td>1.0</td>\n",
       "    </tr>\n",
       "    <tr>\n",
       "      <th>231634</th>\n",
       "      <td>zydeco ya ya deviled eggs</td>\n",
       "      <td>40</td>\n",
       "      <td>7</td>\n",
       "      <td>['in a bowl , combine the mashed yolks and may...</td>\n",
       "      <td>deviled eggs, cajun-style</td>\n",
       "      <td>['hard-cooked eggs', 'mayonnaise', 'dijon must...</td>\n",
       "      <td>8</td>\n",
       "      <td>59.2</td>\n",
       "      <td>6.0</td>\n",
       "      <td>2.0</td>\n",
       "      <td>3.0</td>\n",
       "      <td>6.0</td>\n",
       "      <td>5.0</td>\n",
       "      <td>0.0</td>\n",
       "    </tr>\n",
       "    <tr>\n",
       "      <th>231635</th>\n",
       "      <td>cookies by design   cookies on a stick</td>\n",
       "      <td>29</td>\n",
       "      <td>9</td>\n",
       "      <td>['place melted butter in a large mixing bowl a...</td>\n",
       "      <td>i've heard of the 'cookies by design' company,...</td>\n",
       "      <td>['butter', 'eagle brand condensed milk', 'ligh...</td>\n",
       "      <td>10</td>\n",
       "      <td>188.0</td>\n",
       "      <td>11.0</td>\n",
       "      <td>57.0</td>\n",
       "      <td>11.0</td>\n",
       "      <td>7.0</td>\n",
       "      <td>21.0</td>\n",
       "      <td>9.0</td>\n",
       "    </tr>\n",
       "    <tr>\n",
       "      <th>231636</th>\n",
       "      <td>cookies by design   sugar shortbread cookies</td>\n",
       "      <td>20</td>\n",
       "      <td>5</td>\n",
       "      <td>['whip sugar and shortening in a large bowl , ...</td>\n",
       "      <td>i've heard of the 'cookies by design' company,...</td>\n",
       "      <td>['granulated sugar', 'shortening', 'eggs', 'fl...</td>\n",
       "      <td>7</td>\n",
       "      <td>174.9</td>\n",
       "      <td>14.0</td>\n",
       "      <td>33.0</td>\n",
       "      <td>4.0</td>\n",
       "      <td>4.0</td>\n",
       "      <td>11.0</td>\n",
       "      <td>6.0</td>\n",
       "    </tr>\n",
       "  </tbody>\n",
       "</table>\n",
       "<p>231637 rows × 14 columns</p>\n",
       "</div>"
      ],
      "text/plain": [
       "                                                name  minutes  n_steps  \\\n",
       "0         arriba   baked winter squash mexican style       55       11   \n",
       "1                   a bit different  breakfast pizza       30        9   \n",
       "2                          all in the kitchen  chili      130        6   \n",
       "3                                 alouette  potatoes       45       11   \n",
       "4                 amish  tomato ketchup  for canning      190        5   \n",
       "...                                              ...      ...      ...   \n",
       "231632                                   zydeco soup       60        7   \n",
       "231633                              zydeco spice mix        5        1   \n",
       "231634                     zydeco ya ya deviled eggs       40        7   \n",
       "231635        cookies by design   cookies on a stick       29        9   \n",
       "231636  cookies by design   sugar shortbread cookies       20        5   \n",
       "\n",
       "                                                    steps  \\\n",
       "0       ['make a choice and proceed with recipe', 'dep...   \n",
       "1       ['preheat oven to 425 degrees f', 'press dough...   \n",
       "2       ['brown ground beef in large pot', 'add choppe...   \n",
       "3       ['place potatoes in a large pot of lightly sal...   \n",
       "4       ['mix all ingredients& boil for 2 1 / 2 hours ...   \n",
       "...                                                   ...   \n",
       "231632  ['heat oil in a 4-quart dutch oven', 'add cele...   \n",
       "231633        ['mix all ingredients together thoroughly']   \n",
       "231634  ['in a bowl , combine the mashed yolks and may...   \n",
       "231635  ['place melted butter in a large mixing bowl a...   \n",
       "231636  ['whip sugar and shortening in a large bowl , ...   \n",
       "\n",
       "                                              description  \\\n",
       "0       autumn is my favorite time of year to cook! th...   \n",
       "1       this recipe calls for the crust to be prebaked...   \n",
       "2       this modified version of 'mom's' chili was a h...   \n",
       "3       this is a super easy, great tasting, make ahea...   \n",
       "4       my dh's amish mother raised him on this recipe...   \n",
       "...                                                   ...   \n",
       "231632  this is a delicious soup that i originally fou...   \n",
       "231633    this spice mix will make your taste buds dance!   \n",
       "231634                          deviled eggs, cajun-style   \n",
       "231635  i've heard of the 'cookies by design' company,...   \n",
       "231636  i've heard of the 'cookies by design' company,...   \n",
       "\n",
       "                                              ingredients  n_ingredients  \\\n",
       "0       ['winter squash', 'mexican seasoning', 'mixed ...              7   \n",
       "1       ['prepared pizza crust', 'sausage patty', 'egg...              6   \n",
       "2       ['ground beef', 'yellow onions', 'diced tomato...             13   \n",
       "3       ['spreadable cheese with garlic and herbs', 'n...             11   \n",
       "4       ['tomato juice', 'apple cider vinegar', 'sugar...              8   \n",
       "...                                                   ...            ...   \n",
       "231632  ['celery', 'onion', 'green sweet pepper', 'gar...             22   \n",
       "231633  ['paprika', 'salt', 'garlic powder', 'onion po...             13   \n",
       "231634  ['hard-cooked eggs', 'mayonnaise', 'dijon must...              8   \n",
       "231635  ['butter', 'eagle brand condensed milk', 'ligh...             10   \n",
       "231636  ['granulated sugar', 'shortening', 'eggs', 'fl...              7   \n",
       "\n",
       "        calories  total fat (PDV)  sugar (PDV)  sodium (PDV)  protein (PDV)  \\\n",
       "0           51.5              0.0         13.0           0.0            2.0   \n",
       "1          173.4             18.0          0.0          17.0           22.0   \n",
       "2          269.8             22.0         32.0          48.0           39.0   \n",
       "3          368.1             17.0         10.0           2.0           14.0   \n",
       "4          352.9              1.0        337.0          23.0            3.0   \n",
       "...          ...              ...          ...           ...            ...   \n",
       "231632     415.2             26.0         34.0          26.0           44.0   \n",
       "231633      14.8              0.0          2.0          58.0            1.0   \n",
       "231634      59.2              6.0          2.0           3.0            6.0   \n",
       "231635     188.0             11.0         57.0          11.0            7.0   \n",
       "231636     174.9             14.0         33.0           4.0            4.0   \n",
       "\n",
       "        saturated fat (PDV)  carbohydrates (PDV)  \n",
       "0                       0.0                  4.0  \n",
       "1                      35.0                  1.0  \n",
       "2                      27.0                  5.0  \n",
       "3                       8.0                 20.0  \n",
       "4                       0.0                 28.0  \n",
       "...                     ...                  ...  \n",
       "231632                 21.0                 15.0  \n",
       "231633                  0.0                  1.0  \n",
       "231634                  5.0                  0.0  \n",
       "231635                 21.0                  9.0  \n",
       "231636                 11.0                  6.0  \n",
       "\n",
       "[231637 rows x 14 columns]"
      ]
     },
     "execution_count": 3,
     "metadata": {},
     "output_type": "execute_result"
    }
   ],
   "source": [
    "df[['calories','total fat (PDV)','sugar (PDV)','sodium (PDV)','protein (PDV)','saturated fat (PDV)','carbohydrates (PDV)']] = df.nutrition.str.split(\",\",expand=True) \n",
    "df['calories'] =  df['calories'].apply(lambda x: x.replace('[','')) \n",
    "df['carbohydrates (PDV)'] =  df['carbohydrates (PDV)'].apply(lambda x: x.replace(']','')) \n",
    "df[['calories','total fat (PDV)','sugar (PDV)','sodium (PDV)','protein (PDV)','saturated fat (PDV)','carbohydrates (PDV)']] = df[['calories','total fat (PDV)','sugar (PDV)','sodium (PDV)','protein (PDV)','saturated fat (PDV)','carbohydrates (PDV)']].astype('float')\n",
    "df.drop(['id', 'contributor_id','submitted','tags','nutrition'], axis=1,inplace = True)\n",
    "df"
   ]
  },
  {
   "cell_type": "code",
   "execution_count": 4,
   "id": "516be8ec",
   "metadata": {},
   "outputs": [],
   "source": [
    "df2 = df.copy()"
   ]
  },
  {
   "cell_type": "code",
   "execution_count": 5,
   "id": "ee8be66c",
   "metadata": {},
   "outputs": [],
   "source": [
    "df2.drop(columns = 'description', inplace = True)"
   ]
  },
  {
   "cell_type": "code",
   "execution_count": 6,
   "id": "e9d7b9f3",
   "metadata": {},
   "outputs": [
    {
     "data": {
      "text/plain": [
       "name                   1\n",
       "minutes                0\n",
       "n_steps                0\n",
       "steps                  0\n",
       "ingredients            0\n",
       "n_ingredients          0\n",
       "calories               0\n",
       "total fat (PDV)        0\n",
       "sugar (PDV)            0\n",
       "sodium (PDV)           0\n",
       "protein (PDV)          0\n",
       "saturated fat (PDV)    0\n",
       "carbohydrates (PDV)    0\n",
       "dtype: int64"
      ]
     },
     "execution_count": 6,
     "metadata": {},
     "output_type": "execute_result"
    }
   ],
   "source": [
    "df2.isnull().sum()"
   ]
  },
  {
   "cell_type": "code",
   "execution_count": 7,
   "id": "a6b37e73",
   "metadata": {},
   "outputs": [
    {
     "data": {
      "text/plain": [
       "0"
      ]
     },
     "execution_count": 7,
     "metadata": {},
     "output_type": "execute_result"
    }
   ],
   "source": [
    "df2.duplicated().sum()"
   ]
  },
  {
   "cell_type": "code",
   "execution_count": 8,
   "id": "f0ec5599",
   "metadata": {},
   "outputs": [
    {
     "data": {
      "text/plain": [
       "name                   1\n",
       "minutes                0\n",
       "n_steps                0\n",
       "steps                  0\n",
       "ingredients            0\n",
       "n_ingredients          0\n",
       "calories               0\n",
       "total fat (PDV)        0\n",
       "sugar (PDV)            0\n",
       "sodium (PDV)           0\n",
       "protein (PDV)          0\n",
       "saturated fat (PDV)    0\n",
       "carbohydrates (PDV)    0\n",
       "dtype: int64"
      ]
     },
     "execution_count": 8,
     "metadata": {},
     "output_type": "execute_result"
    }
   ],
   "source": [
    "df2.isnull().sum()"
   ]
  },
  {
   "cell_type": "code",
   "execution_count": 9,
   "id": "247d8cef",
   "metadata": {},
   "outputs": [
    {
     "data": {
      "text/plain": [
       "<AxesSubplot:>"
      ]
     },
     "execution_count": 9,
     "metadata": {},
     "output_type": "execute_result"
    },
    {
     "data": {
      "image/png": "[encoded data removed]",
      "text/plain": [
       "<Figure size 432x288 with 1 Axes>"
      ]
     },
     "metadata": {
      "needs_background": "light"
     },
     "output_type": "display_data"
    }
   ],
   "source": [
    "X = df2[['calories', 'total fat (PDV)', 'sugar (PDV)', 'sodium (PDV)', 'protein (PDV)', 'saturated fat (PDV)', 'carbohydrates (PDV)']].sample(3)\n",
    "X.plot(kind='bar')"
   ]
  },
  {
   "cell_type": "code",
   "execution_count": 10,
   "id": "cc907cfe",
   "metadata": {},
   "outputs": [
    {
     "data": {
      "image/png": "[encoded data removed]",
      "text/plain": [
       "<Figure size 432x288 with 1 Axes>"
      ]
     },
     "metadata": {
      "needs_background": "light"
     },
     "output_type": "display_data"
    }
   ],
   "source": [
    "df2[['calories', 'total fat (PDV)', 'sugar (PDV)', 'sodium (PDV)', 'protein (PDV)', 'saturated fat (PDV)', 'carbohydrates (PDV)']].boxplot();"
   ]
  },
  {
   "cell_type": "code",
   "execution_count": 11,
   "id": "d2e13f0e",
   "metadata": {},
   "outputs": [
    {
     "data": {
      "text/plain": [
       "n_steps                0.0\n",
       "n_ingredients          1.0\n",
       "minutes                0.0\n",
       "calories               0.0\n",
       "total fat (PDV)        0.0\n",
       "sugar (PDV)            0.0\n",
       "sodium (PDV)           0.0\n",
       "protein (PDV)          0.0\n",
       "saturated fat (PDV)    0.0\n",
       "carbohydrates (PDV)    0.0\n",
       "dtype: float64"
      ]
     },
     "execution_count": 11,
     "metadata": {},
     "output_type": "execute_result"
    }
   ],
   "source": [
    "df2[['n_steps', 'n_ingredients', 'minutes', 'calories', 'total fat (PDV)', 'sugar (PDV)', 'sodium (PDV)', 'protein (PDV)', 'saturated fat (PDV)', 'carbohydrates (PDV)']].min()"
   ]
  },
  {
   "cell_type": "code",
   "execution_count": 12,
   "id": "59ec7ab4",
   "metadata": {},
   "outputs": [
    {
     "data": {
      "text/plain": [
       "calories               434360.2\n",
       "total fat (PDV)         17183.0\n",
       "sugar (PDV)            362729.0\n",
       "sodium (PDV)            29338.0\n",
       "protein (PDV)            6552.0\n",
       "saturated fat (PDV)     10395.0\n",
       "carbohydrates (PDV)     36098.0\n",
       "dtype: float64"
      ]
     },
     "execution_count": 12,
     "metadata": {},
     "output_type": "execute_result"
    }
   ],
   "source": [
    "df2[['calories', 'total fat (PDV)', 'sugar (PDV)', 'sodium (PDV)', 'protein (PDV)', 'saturated fat (PDV)', 'carbohydrates (PDV)']].max()"
   ]
  },
  {
   "cell_type": "code",
   "execution_count": 13,
   "id": "9ffc92e4",
   "metadata": {
    "scrolled": false
   },
   "outputs": [
    {
     "data": {
      "text/plain": [
       "minutes          2147483647\n",
       "n_steps                 145\n",
       "n_ingredients            43\n",
       "dtype: int64"
      ]
     },
     "execution_count": 13,
     "metadata": {},
     "output_type": "execute_result"
    }
   ],
   "source": [
    "df2[['minutes', 'n_steps', 'n_ingredients']].max()"
   ]
  },
  {
   "cell_type": "code",
   "execution_count": 14,
   "id": "fff38241",
   "metadata": {
    "scrolled": true
   },
   "outputs": [
    {
     "data": {
      "text/plain": [
       "<AxesSubplot:xlabel='minutes'>"
      ]
     },
     "execution_count": 14,
     "metadata": {},
     "output_type": "execute_result"
    },
    {
     "data": {
      "image/png": "[encoded data removed]",
      "text/plain": [
       "<Figure size 432x288 with 1 Axes>"
      ]
     },
     "metadata": {
      "needs_background": "light"
     },
     "output_type": "display_data"
    }
   ],
   "source": [
    "sns.boxplot(x=df2['minutes'])"
   ]
  },
  {
   "cell_type": "code",
   "execution_count": 15,
   "id": "5900f3c4",
   "metadata": {},
   "outputs": [
    {
     "data": {
      "text/plain": [
       "226357"
      ]
     },
     "execution_count": 15,
     "metadata": {},
     "output_type": "execute_result"
    }
   ],
   "source": [
    "df2 = df2[df2['minutes'] > 4] \n",
    "len(df2)"
   ]
  },
  {
   "cell_type": "code",
   "execution_count": 16,
   "id": "5abadf78",
   "metadata": {
    "scrolled": true
   },
   "outputs": [
    {
     "data": {
      "text/plain": [
       "minutes          10080\n",
       "n_steps            145\n",
       "n_ingredients       43\n",
       "dtype: int64"
      ]
     },
     "execution_count": 16,
     "metadata": {},
     "output_type": "execute_result"
    }
   ],
   "source": [
    "df2 = df2[df2['minutes'] < 10081] \n",
    "df2[['minutes', 'n_steps', 'n_ingredients']].max()"
   ]
  },
  {
   "cell_type": "code",
   "execution_count": 17,
   "id": "bdacff9f",
   "metadata": {
    "scrolled": true
   },
   "outputs": [
    {
     "data": {
      "text/plain": [
       "<AxesSubplot:xlabel='minutes'>"
      ]
     },
     "execution_count": 17,
     "metadata": {},
     "output_type": "execute_result"
    },
    {
     "data": {
      "image/png": "[encoded data removed]",
      "text/plain": [
       "<Figure size 432x288 with 1 Axes>"
      ]
     },
     "metadata": {
      "needs_background": "light"
     },
     "output_type": "display_data"
    }
   ],
   "source": [
    "sns.boxplot(x=df2['minutes'])"
   ]
  },
  {
   "cell_type": "code",
   "execution_count": 18,
   "id": "2ceaa354",
   "metadata": {},
   "outputs": [
    {
     "data": {
      "text/plain": [
       "<AxesSubplot:xlabel='calories'>"
      ]
     },
     "execution_count": 18,
     "metadata": {},
     "output_type": "execute_result"
    },
    {
     "data": {
      "image/png": "[encoded data removed]",
      "text/plain": [
       "<Figure size 432x288 with 1 Axes>"
      ]
     },
     "metadata": {
      "needs_background": "light"
     },
     "output_type": "display_data"
    }
   ],
   "source": [
    "sns.boxplot(x=df2['calories'])"
   ]
  },
  {
   "cell_type": "code",
   "execution_count": 19,
   "id": "973fe345",
   "metadata": {
    "scrolled": true
   },
   "outputs": [
    {
     "data": {
      "text/plain": [
       "7997.5"
      ]
     },
     "execution_count": 19,
     "metadata": {},
     "output_type": "execute_result"
    }
   ],
   "source": [
    "df2 = df2[df2['calories'] < 8000] \n",
    "df2['calories'].max()"
   ]
  },
  {
   "cell_type": "code",
   "execution_count": 20,
   "id": "b162c67d",
   "metadata": {},
   "outputs": [
    {
     "data": {
      "text/plain": [
       "218111"
      ]
     },
     "execution_count": 20,
     "metadata": {},
     "output_type": "execute_result"
    }
   ],
   "source": [
    "df2 = df2[df2['calories'] > 49] \n",
    "len(df2)"
   ]
  },
  {
   "cell_type": "code",
   "execution_count": 21,
   "id": "173dcccf",
   "metadata": {},
   "outputs": [
    {
     "data": {
      "text/plain": [
       "<AxesSubplot:xlabel='calories'>"
      ]
     },
     "execution_count": 21,
     "metadata": {},
     "output_type": "execute_result"
    },
    {
     "data": {
      "image/png": "[encoded data removed]",
      "text/plain": [
       "<Figure size 432x288 with 1 Axes>"
      ]
     },
     "metadata": {
      "needs_background": "light"
     },
     "output_type": "display_data"
    }
   ],
   "source": [
    "sns.boxplot(x=df2['calories'])"
   ]
  },
  {
   "cell_type": "code",
   "execution_count": 22,
   "id": "d5e72938",
   "metadata": {},
   "outputs": [
    {
     "data": {
      "text/plain": [
       "218111"
      ]
     },
     "execution_count": 22,
     "metadata": {},
     "output_type": "execute_result"
    }
   ],
   "source": [
    "len(df2)"
   ]
  },
  {
   "cell_type": "code",
   "execution_count": 23,
   "id": "c9e75ec9",
   "metadata": {
    "scrolled": true
   },
   "outputs": [
    {
     "data": {
      "text/plain": [
       "<AxesSubplot:xlabel='sugar (PDV)'>"
      ]
     },
     "execution_count": 23,
     "metadata": {},
     "output_type": "execute_result"
    },
    {
     "data": {
      "image/png": "[encoded data removed]",
      "text/plain": [
       "<Figure size 432x288 with 1 Axes>"
      ]
     },
     "metadata": {
      "needs_background": "light"
     },
     "output_type": "display_data"
    }
   ],
   "source": [
    "sns.boxplot(x=df2['sugar (PDV)'])"
   ]
  },
  {
   "cell_type": "code",
   "execution_count": 24,
   "id": "768103ff",
   "metadata": {},
   "outputs": [
    {
     "data": {
      "text/plain": [
       "<AxesSubplot:xlabel='sodium (PDV)'>"
      ]
     },
     "execution_count": 24,
     "metadata": {},
     "output_type": "execute_result"
    },
    {
     "data": {
      "image/png": "[encoded data removed]",
      "text/plain": [
       "<Figure size 432x288 with 1 Axes>"
      ]
     },
     "metadata": {
      "needs_background": "light"
     },
     "output_type": "display_data"
    }
   ],
   "source": [
    "sns.boxplot(x=df2['sodium (PDV)'])"
   ]
  },
  {
   "cell_type": "code",
   "execution_count": 25,
   "id": "69935bc1",
   "metadata": {},
   "outputs": [],
   "source": [
    "df2 = df2[df2['sodium (PDV)'] < 11000]"
   ]
  },
  {
   "cell_type": "code",
   "execution_count": 26,
   "id": "4a3aafd9",
   "metadata": {},
   "outputs": [
    {
     "data": {
      "text/plain": [
       "<AxesSubplot:xlabel='protein (PDV)'>"
      ]
     },
     "execution_count": 26,
     "metadata": {},
     "output_type": "execute_result"
    },
    {
     "data": {
      "image/png": "[encoded data removed]",
      "text/plain": [
       "<Figure size 432x288 with 1 Axes>"
      ]
     },
     "metadata": {
      "needs_background": "light"
     },
     "output_type": "display_data"
    }
   ],
   "source": [
    "sns.boxplot(x=df2['protein (PDV)'])"
   ]
  },
  {
   "cell_type": "code",
   "execution_count": 27,
   "id": "c24c61d6",
   "metadata": {
    "scrolled": true
   },
   "outputs": [
    {
     "data": {
      "text/plain": [
       "<AxesSubplot:xlabel='saturated fat (PDV)'>"
      ]
     },
     "execution_count": 27,
     "metadata": {},
     "output_type": "execute_result"
    },
    {
     "data": {
      "image/png": "[encoded data removed]",
      "text/plain": [
       "<Figure size 432x288 with 1 Axes>"
      ]
     },
     "metadata": {
      "needs_background": "light"
     },
     "output_type": "display_data"
    }
   ],
   "source": [
    "sns.boxplot(x=df2['saturated fat (PDV)'])"
   ]
  },
  {
   "cell_type": "code",
   "execution_count": 28,
   "id": "bd47cbbc",
   "metadata": {
    "scrolled": true
   },
   "outputs": [
    {
     "data": {
      "text/plain": [
       "<AxesSubplot:xlabel='carbohydrates (PDV)'>"
      ]
     },
     "execution_count": 28,
     "metadata": {},
     "output_type": "execute_result"
    },
    {
     "data": {
      "image/png": "[encoded data removed]",
      "text/plain": [
       "<Figure size 432x288 with 1 Axes>"
      ]
     },
     "metadata": {
      "needs_background": "light"
     },
     "output_type": "display_data"
    }
   ],
   "source": [
    "sns.boxplot(x=df2['carbohydrates (PDV)'])"
   ]
  },
  {
   "cell_type": "code",
   "execution_count": 29,
   "id": "073503a0",
   "metadata": {},
   "outputs": [
    {
     "data": {
      "text/plain": [
       "<AxesSubplot:xlabel='n_steps'>"
      ]
     },
     "execution_count": 29,
     "metadata": {},
     "output_type": "execute_result"
    },
    {
     "data": {
      "image/png": "[encoded data removed]",
      "text/plain": [
       "<Figure size 432x288 with 1 Axes>"
      ]
     },
     "metadata": {
      "needs_background": "light"
     },
     "output_type": "display_data"
    }
   ],
   "source": [
    "sns.boxplot(x=df2['n_steps'])"
   ]
  },
  {
   "cell_type": "code",
   "execution_count": 30,
   "id": "48e4d7ff",
   "metadata": {},
   "outputs": [
    {
     "data": {
      "text/plain": [
       "201641"
      ]
     },
     "execution_count": 30,
     "metadata": {},
     "output_type": "execute_result"
    }
   ],
   "source": [
    "df2 = df2[df2['n_steps'] > 3]\n",
    "len(df2)"
   ]
  },
  {
   "cell_type": "code",
   "execution_count": 31,
   "id": "a55bac09",
   "metadata": {},
   "outputs": [
    {
     "data": {
      "text/plain": [
       "<AxesSubplot:xlabel='n_ingredients'>"
      ]
     },
     "execution_count": 31,
     "metadata": {},
     "output_type": "execute_result"
    },
    {
     "data": {
      "image/png": "[encoded data removed]",
      "text/plain": [
       "<Figure size 432x288 with 1 Axes>"
      ]
     },
     "metadata": {
      "needs_background": "light"
     },
     "output_type": "display_data"
    }
   ],
   "source": [
    "sns.boxplot(x=df2['n_ingredients'])"
   ]
  },
  {
   "cell_type": "code",
   "execution_count": 32,
   "id": "1c6b25b2",
   "metadata": {},
   "outputs": [
    {
     "data": {
      "text/plain": [
       "201624"
      ]
     },
     "execution_count": 32,
     "metadata": {},
     "output_type": "execute_result"
    }
   ],
   "source": [
    "df2 = df2[df2['n_ingredients'] > 1]\n",
    "len(df2)"
   ]
  },
  {
   "cell_type": "code",
   "execution_count": 33,
   "id": "9d17e192",
   "metadata": {
    "scrolled": true
   },
   "outputs": [
    {
     "data": {
      "image/png": "[encoded data removed]",
      "text/plain": [
       "<Figure size 432x288 with 1 Axes>"
      ]
     },
     "metadata": {
      "needs_background": "light"
     },
     "output_type": "display_data"
    }
   ],
   "source": [
    "df2[['calories', 'total fat (PDV)', 'sugar (PDV)', 'sodium (PDV)', 'protein (PDV)', 'saturated fat (PDV)', 'carbohydrates (PDV)']].boxplot();"
   ]
  },
  {
   "cell_type": "code",
   "execution_count": 34,
   "id": "eb70e969",
   "metadata": {},
   "outputs": [
    {
     "data": {
      "text/plain": [
       "name                   0\n",
       "minutes                0\n",
       "n_steps                0\n",
       "steps                  0\n",
       "ingredients            0\n",
       "n_ingredients          0\n",
       "calories               0\n",
       "total fat (PDV)        0\n",
       "sugar (PDV)            0\n",
       "sodium (PDV)           0\n",
       "protein (PDV)          0\n",
       "saturated fat (PDV)    0\n",
       "carbohydrates (PDV)    0\n",
       "dtype: int64"
      ]
     },
     "execution_count": 34,
     "metadata": {},
     "output_type": "execute_result"
    }
   ],
   "source": [
    "df2 = df2.dropna()\n",
    "df2.isnull().sum()"
   ]
  },
  {
   "cell_type": "code",
   "execution_count": 35,
   "id": "fc5d428b",
   "metadata": {},
   "outputs": [
    {
     "data": {
      "text/html": [
       "<div>\n",
       "<style scoped>\n",
       "    .dataframe tbody tr th:only-of-type {\n",
       "        vertical-align: middle;\n",
       "    }\n",
       "\n",
       "    .dataframe tbody tr th {\n",
       "        vertical-align: top;\n",
       "    }\n",
       "\n",
       "    .dataframe thead th {\n",
       "        text-align: right;\n",
       "    }\n",
       "</style>\n",
       "<table border=\"1\" class=\"dataframe\">\n",
       "  <thead>\n",
       "    <tr style=\"text-align: right;\">\n",
       "      <th></th>\n",
       "      <th>minutes</th>\n",
       "      <th>n_steps</th>\n",
       "      <th>n_ingredients</th>\n",
       "      <th>calories</th>\n",
       "      <th>total fat (PDV)</th>\n",
       "      <th>sugar (PDV)</th>\n",
       "      <th>sodium (PDV)</th>\n",
       "      <th>protein (PDV)</th>\n",
       "      <th>saturated fat (PDV)</th>\n",
       "      <th>carbohydrates (PDV)</th>\n",
       "    </tr>\n",
       "  </thead>\n",
       "  <tbody>\n",
       "    <tr>\n",
       "      <th>count</th>\n",
       "      <td>201623.000000</td>\n",
       "      <td>201623.000000</td>\n",
       "      <td>201623.000000</td>\n",
       "      <td>201623.000000</td>\n",
       "      <td>201623.000000</td>\n",
       "      <td>201623.000000</td>\n",
       "      <td>201623.000000</td>\n",
       "      <td>201623.000000</td>\n",
       "      <td>201623.000000</td>\n",
       "      <td>201623.000000</td>\n",
       "    </tr>\n",
       "    <tr>\n",
       "      <th>mean</th>\n",
       "      <td>84.967335</td>\n",
       "      <td>10.580504</td>\n",
       "      <td>9.434003</td>\n",
       "      <td>483.494789</td>\n",
       "      <td>36.992660</td>\n",
       "      <td>80.819911</td>\n",
       "      <td>29.443660</td>\n",
       "      <td>36.733468</td>\n",
       "      <td>47.094002</td>\n",
       "      <td>15.643706</td>\n",
       "    </tr>\n",
       "    <tr>\n",
       "      <th>std</th>\n",
       "      <td>243.239078</td>\n",
       "      <td>5.796675</td>\n",
       "      <td>3.685100</td>\n",
       "      <td>614.005529</td>\n",
       "      <td>56.672624</td>\n",
       "      <td>218.627187</td>\n",
       "      <td>89.518876</td>\n",
       "      <td>45.702140</td>\n",
       "      <td>81.266912</td>\n",
       "      <td>27.324560</td>\n",
       "    </tr>\n",
       "    <tr>\n",
       "      <th>min</th>\n",
       "      <td>5.000000</td>\n",
       "      <td>4.000000</td>\n",
       "      <td>2.000000</td>\n",
       "      <td>49.100000</td>\n",
       "      <td>0.000000</td>\n",
       "      <td>0.000000</td>\n",
       "      <td>0.000000</td>\n",
       "      <td>0.000000</td>\n",
       "      <td>0.000000</td>\n",
       "      <td>0.000000</td>\n",
       "    </tr>\n",
       "    <tr>\n",
       "      <th>25%</th>\n",
       "      <td>25.000000</td>\n",
       "      <td>7.000000</td>\n",
       "      <td>7.000000</td>\n",
       "      <td>196.600000</td>\n",
       "      <td>10.000000</td>\n",
       "      <td>10.000000</td>\n",
       "      <td>6.000000</td>\n",
       "      <td>8.000000</td>\n",
       "      <td>9.000000</td>\n",
       "      <td>4.000000</td>\n",
       "    </tr>\n",
       "    <tr>\n",
       "      <th>50%</th>\n",
       "      <td>40.000000</td>\n",
       "      <td>9.000000</td>\n",
       "      <td>9.000000</td>\n",
       "      <td>334.500000</td>\n",
       "      <td>22.000000</td>\n",
       "      <td>25.000000</td>\n",
       "      <td>16.000000</td>\n",
       "      <td>21.000000</td>\n",
       "      <td>25.000000</td>\n",
       "      <td>9.000000</td>\n",
       "    </tr>\n",
       "    <tr>\n",
       "      <th>75%</th>\n",
       "      <td>70.000000</td>\n",
       "      <td>13.000000</td>\n",
       "      <td>12.000000</td>\n",
       "      <td>538.700000</td>\n",
       "      <td>43.000000</td>\n",
       "      <td>69.000000</td>\n",
       "      <td>34.000000</td>\n",
       "      <td>54.000000</td>\n",
       "      <td>56.000000</td>\n",
       "      <td>17.000000</td>\n",
       "    </tr>\n",
       "    <tr>\n",
       "      <th>max</th>\n",
       "      <td>10080.000000</td>\n",
       "      <td>145.000000</td>\n",
       "      <td>43.000000</td>\n",
       "      <td>7997.500000</td>\n",
       "      <td>1341.000000</td>\n",
       "      <td>7818.000000</td>\n",
       "      <td>10677.000000</td>\n",
       "      <td>2439.000000</td>\n",
       "      <td>2333.000000</td>\n",
       "      <td>673.000000</td>\n",
       "    </tr>\n",
       "  </tbody>\n",
       "</table>\n",
       "</div>"
      ],
      "text/plain": [
       "             minutes        n_steps  n_ingredients       calories  \\\n",
       "count  201623.000000  201623.000000  201623.000000  201623.000000   \n",
       "mean       84.967335      10.580504       9.434003     483.494789   \n",
       "std       243.239078       5.796675       3.685100     614.005529   \n",
       "min         5.000000       4.000000       2.000000      49.100000   \n",
       "25%        25.000000       7.000000       7.000000     196.600000   \n",
       "50%        40.000000       9.000000       9.000000     334.500000   \n",
       "75%        70.000000      13.000000      12.000000     538.700000   \n",
       "max     10080.000000     145.000000      43.000000    7997.500000   \n",
       "\n",
       "       total fat (PDV)    sugar (PDV)   sodium (PDV)  protein (PDV)  \\\n",
       "count    201623.000000  201623.000000  201623.000000  201623.000000   \n",
       "mean         36.992660      80.819911      29.443660      36.733468   \n",
       "std          56.672624     218.627187      89.518876      45.702140   \n",
       "min           0.000000       0.000000       0.000000       0.000000   \n",
       "25%          10.000000      10.000000       6.000000       8.000000   \n",
       "50%          22.000000      25.000000      16.000000      21.000000   \n",
       "75%          43.000000      69.000000      34.000000      54.000000   \n",
       "max        1341.000000    7818.000000   10677.000000    2439.000000   \n",
       "\n",
       "       saturated fat (PDV)  carbohydrates (PDV)  \n",
       "count        201623.000000        201623.000000  \n",
       "mean             47.094002            15.643706  \n",
       "std              81.266912            27.324560  \n",
       "min               0.000000             0.000000  \n",
       "25%               9.000000             4.000000  \n",
       "50%              25.000000             9.000000  \n",
       "75%              56.000000            17.000000  \n",
       "max            2333.000000           673.000000  "
      ]
     },
     "execution_count": 35,
     "metadata": {},
     "output_type": "execute_result"
    }
   ],
   "source": [
    "df2.describe()"
   ]
  },
  {
   "cell_type": "code",
   "execution_count": 36,
   "id": "b49466d3",
   "metadata": {
    "scrolled": true
   },
   "outputs": [
    {
     "data": {
      "text/html": [
       "<div>\n",
       "<style scoped>\n",
       "    .dataframe tbody tr th:only-of-type {\n",
       "        vertical-align: middle;\n",
       "    }\n",
       "\n",
       "    .dataframe tbody tr th {\n",
       "        vertical-align: top;\n",
       "    }\n",
       "\n",
       "    .dataframe thead th {\n",
       "        text-align: right;\n",
       "    }\n",
       "</style>\n",
       "<table border=\"1\" class=\"dataframe\">\n",
       "  <thead>\n",
       "    <tr style=\"text-align: right;\">\n",
       "      <th></th>\n",
       "      <th>name</th>\n",
       "      <th>minutes</th>\n",
       "      <th>n_steps</th>\n",
       "      <th>steps</th>\n",
       "      <th>ingredients</th>\n",
       "      <th>n_ingredients</th>\n",
       "      <th>calories</th>\n",
       "      <th>total fat (PDV)</th>\n",
       "      <th>sugar (PDV)</th>\n",
       "      <th>sodium (PDV)</th>\n",
       "      <th>protein (PDV)</th>\n",
       "      <th>saturated fat (PDV)</th>\n",
       "      <th>carbohydrates (PDV)</th>\n",
       "    </tr>\n",
       "  </thead>\n",
       "  <tbody>\n",
       "    <tr>\n",
       "      <th>0</th>\n",
       "      <td>arriba   baked winter squash mexican style</td>\n",
       "      <td>55</td>\n",
       "      <td>11</td>\n",
       "      <td>['make a choice and proceed with recipe', 'dep...</td>\n",
       "      <td>['winter squash', 'mexican seasoning', 'mixed ...</td>\n",
       "      <td>7</td>\n",
       "      <td>51.5</td>\n",
       "      <td>0.0</td>\n",
       "      <td>13.0</td>\n",
       "      <td>0.0</td>\n",
       "      <td>2.0</td>\n",
       "      <td>0.0</td>\n",
       "      <td>4.0</td>\n",
       "    </tr>\n",
       "    <tr>\n",
       "      <th>1</th>\n",
       "      <td>a bit different  breakfast pizza</td>\n",
       "      <td>30</td>\n",
       "      <td>9</td>\n",
       "      <td>['preheat oven to 425 degrees f', 'press dough...</td>\n",
       "      <td>['prepared pizza crust', 'sausage patty', 'egg...</td>\n",
       "      <td>6</td>\n",
       "      <td>173.4</td>\n",
       "      <td>18.0</td>\n",
       "      <td>0.0</td>\n",
       "      <td>17.0</td>\n",
       "      <td>22.0</td>\n",
       "      <td>35.0</td>\n",
       "      <td>1.0</td>\n",
       "    </tr>\n",
       "    <tr>\n",
       "      <th>2</th>\n",
       "      <td>all in the kitchen  chili</td>\n",
       "      <td>130</td>\n",
       "      <td>6</td>\n",
       "      <td>['brown ground beef in large pot', 'add choppe...</td>\n",
       "      <td>['ground beef', 'yellow onions', 'diced tomato...</td>\n",
       "      <td>13</td>\n",
       "      <td>269.8</td>\n",
       "      <td>22.0</td>\n",
       "      <td>32.0</td>\n",
       "      <td>48.0</td>\n",
       "      <td>39.0</td>\n",
       "      <td>27.0</td>\n",
       "      <td>5.0</td>\n",
       "    </tr>\n",
       "    <tr>\n",
       "      <th>3</th>\n",
       "      <td>alouette  potatoes</td>\n",
       "      <td>45</td>\n",
       "      <td>11</td>\n",
       "      <td>['place potatoes in a large pot of lightly sal...</td>\n",
       "      <td>['spreadable cheese with garlic and herbs', 'n...</td>\n",
       "      <td>11</td>\n",
       "      <td>368.1</td>\n",
       "      <td>17.0</td>\n",
       "      <td>10.0</td>\n",
       "      <td>2.0</td>\n",
       "      <td>14.0</td>\n",
       "      <td>8.0</td>\n",
       "      <td>20.0</td>\n",
       "    </tr>\n",
       "    <tr>\n",
       "      <th>4</th>\n",
       "      <td>amish  tomato ketchup  for canning</td>\n",
       "      <td>190</td>\n",
       "      <td>5</td>\n",
       "      <td>['mix all ingredients&amp; boil for 2 1 / 2 hours ...</td>\n",
       "      <td>['tomato juice', 'apple cider vinegar', 'sugar...</td>\n",
       "      <td>8</td>\n",
       "      <td>352.9</td>\n",
       "      <td>1.0</td>\n",
       "      <td>337.0</td>\n",
       "      <td>23.0</td>\n",
       "      <td>3.0</td>\n",
       "      <td>0.0</td>\n",
       "      <td>28.0</td>\n",
       "    </tr>\n",
       "  </tbody>\n",
       "</table>\n",
       "</div>"
      ],
      "text/plain": [
       "                                         name  minutes  n_steps  \\\n",
       "0  arriba   baked winter squash mexican style       55       11   \n",
       "1            a bit different  breakfast pizza       30        9   \n",
       "2                   all in the kitchen  chili      130        6   \n",
       "3                          alouette  potatoes       45       11   \n",
       "4          amish  tomato ketchup  for canning      190        5   \n",
       "\n",
       "                                               steps  \\\n",
       "0  ['make a choice and proceed with recipe', 'dep...   \n",
       "1  ['preheat oven to 425 degrees f', 'press dough...   \n",
       "2  ['brown ground beef in large pot', 'add choppe...   \n",
       "3  ['place potatoes in a large pot of lightly sal...   \n",
       "4  ['mix all ingredients& boil for 2 1 / 2 hours ...   \n",
       "\n",
       "                                         ingredients  n_ingredients  calories  \\\n",
       "0  ['winter squash', 'mexican seasoning', 'mixed ...              7      51.5   \n",
       "1  ['prepared pizza crust', 'sausage patty', 'egg...              6     173.4   \n",
       "2  ['ground beef', 'yellow onions', 'diced tomato...             13     269.8   \n",
       "3  ['spreadable cheese with garlic and herbs', 'n...             11     368.1   \n",
       "4  ['tomato juice', 'apple cider vinegar', 'sugar...              8     352.9   \n",
       "\n",
       "   total fat (PDV)  sugar (PDV)  sodium (PDV)  protein (PDV)  \\\n",
       "0              0.0         13.0           0.0            2.0   \n",
       "1             18.0          0.0          17.0           22.0   \n",
       "2             22.0         32.0          48.0           39.0   \n",
       "3             17.0         10.0           2.0           14.0   \n",
       "4              1.0        337.0          23.0            3.0   \n",
       "\n",
       "   saturated fat (PDV)  carbohydrates (PDV)  \n",
       "0                  0.0                  4.0  \n",
       "1                 35.0                  1.0  \n",
       "2                 27.0                  5.0  \n",
       "3                  8.0                 20.0  \n",
       "4                  0.0                 28.0  "
      ]
     },
     "execution_count": 36,
     "metadata": {},
     "output_type": "execute_result"
    }
   ],
   "source": [
    "df2.head()"
   ]
  },
  {
   "cell_type": "code",
   "execution_count": 37,
   "id": "3c65bc5f",
   "metadata": {
    "scrolled": true
   },
   "outputs": [
    {
     "data": {
      "text/plain": [
       "201623"
      ]
     },
     "execution_count": 37,
     "metadata": {},
     "output_type": "execute_result"
    }
   ],
   "source": [
    "len(df2)"
   ]
  },
  {
   "cell_type": "code",
   "execution_count": 38,
   "id": "dcd91e22",
   "metadata": {},
   "outputs": [
    {
     "data": {
      "text/plain": [
       "'ketchup|mayo|smoothie|tea|jam|jelly|wine|juice|lemonade|butter|sugar|tonic|dip|salsa|cookies|chocolate|ice-cream|drink'"
      ]
     },
     "execution_count": 38,
     "metadata": {},
     "output_type": "execute_result"
    }
   ],
   "source": [
    "names = [\"ketchup\",\"mayo\",\"smoothie\", \"tea\", 'jam', 'jelly', 'wine', 'juice', 'lemonade', 'butter', 'sugar', 'tonic', 'dip', 'salsa', 'cookies', 'chocolate', 'ice-cream', 'drink']\n",
    "new_str = '|'.join([word for word in names])\n",
    "new_str"
   ]
  },
  {
   "cell_type": "code",
   "execution_count": 39,
   "id": "12c35308",
   "metadata": {
    "scrolled": true
   },
   "outputs": [
    {
     "data": {
      "text/plain": [
       "172966"
      ]
     },
     "execution_count": 39,
     "metadata": {},
     "output_type": "execute_result"
    }
   ],
   "source": [
    "df2 = df2.loc[~df2['name'].str.contains(new_str)]\n",
    "len(df2)"
   ]
  },
  {
   "cell_type": "code",
   "execution_count": 40,
   "id": "e336d36c",
   "metadata": {},
   "outputs": [
    {
     "data": {
      "text/html": [
       "<div>\n",
       "<style scoped>\n",
       "    .dataframe tbody tr th:only-of-type {\n",
       "        vertical-align: middle;\n",
       "    }\n",
       "\n",
       "    .dataframe tbody tr th {\n",
       "        vertical-align: top;\n",
       "    }\n",
       "\n",
       "    .dataframe thead th {\n",
       "        text-align: right;\n",
       "    }\n",
       "</style>\n",
       "<table border=\"1\" class=\"dataframe\">\n",
       "  <thead>\n",
       "    <tr style=\"text-align: right;\">\n",
       "      <th></th>\n",
       "      <th>minutes</th>\n",
       "      <th>n_steps</th>\n",
       "      <th>n_ingredients</th>\n",
       "      <th>calories</th>\n",
       "      <th>total fat (PDV)</th>\n",
       "      <th>sugar (PDV)</th>\n",
       "      <th>sodium (PDV)</th>\n",
       "      <th>protein (PDV)</th>\n",
       "      <th>saturated fat (PDV)</th>\n",
       "      <th>carbohydrates (PDV)</th>\n",
       "    </tr>\n",
       "  </thead>\n",
       "  <tbody>\n",
       "    <tr>\n",
       "      <th>count</th>\n",
       "      <td>172966.000000</td>\n",
       "      <td>172966.000000</td>\n",
       "      <td>172966.000000</td>\n",
       "      <td>172966.000000</td>\n",
       "      <td>172966.000000</td>\n",
       "      <td>172966.000000</td>\n",
       "      <td>172966.000000</td>\n",
       "      <td>172966.000000</td>\n",
       "      <td>172966.000000</td>\n",
       "      <td>172966.000000</td>\n",
       "    </tr>\n",
       "    <tr>\n",
       "      <th>mean</th>\n",
       "      <td>87.054733</td>\n",
       "      <td>10.555664</td>\n",
       "      <td>9.538019</td>\n",
       "      <td>479.477736</td>\n",
       "      <td>36.372750</td>\n",
       "      <td>72.281541</td>\n",
       "      <td>30.695015</td>\n",
       "      <td>38.486275</td>\n",
       "      <td>45.313385</td>\n",
       "      <td>15.232716</td>\n",
       "    </tr>\n",
       "    <tr>\n",
       "      <th>std</th>\n",
       "      <td>246.969467</td>\n",
       "      <td>5.759903</td>\n",
       "      <td>3.701847</td>\n",
       "      <td>586.441169</td>\n",
       "      <td>54.145097</td>\n",
       "      <td>201.065552</td>\n",
       "      <td>93.410219</td>\n",
       "      <td>45.550168</td>\n",
       "      <td>75.438155</td>\n",
       "      <td>26.028159</td>\n",
       "    </tr>\n",
       "    <tr>\n",
       "      <th>min</th>\n",
       "      <td>5.000000</td>\n",
       "      <td>4.000000</td>\n",
       "      <td>2.000000</td>\n",
       "      <td>49.100000</td>\n",
       "      <td>0.000000</td>\n",
       "      <td>0.000000</td>\n",
       "      <td>0.000000</td>\n",
       "      <td>0.000000</td>\n",
       "      <td>0.000000</td>\n",
       "      <td>0.000000</td>\n",
       "    </tr>\n",
       "    <tr>\n",
       "      <th>25%</th>\n",
       "      <td>25.000000</td>\n",
       "      <td>7.000000</td>\n",
       "      <td>7.000000</td>\n",
       "      <td>204.700000</td>\n",
       "      <td>10.000000</td>\n",
       "      <td>9.000000</td>\n",
       "      <td>7.000000</td>\n",
       "      <td>9.000000</td>\n",
       "      <td>9.000000</td>\n",
       "      <td>4.000000</td>\n",
       "    </tr>\n",
       "    <tr>\n",
       "      <th>50%</th>\n",
       "      <td>40.000000</td>\n",
       "      <td>9.000000</td>\n",
       "      <td>9.000000</td>\n",
       "      <td>340.450000</td>\n",
       "      <td>23.000000</td>\n",
       "      <td>23.000000</td>\n",
       "      <td>17.000000</td>\n",
       "      <td>24.000000</td>\n",
       "      <td>25.000000</td>\n",
       "      <td>10.000000</td>\n",
       "    </tr>\n",
       "    <tr>\n",
       "      <th>75%</th>\n",
       "      <td>70.000000</td>\n",
       "      <td>13.000000</td>\n",
       "      <td>12.000000</td>\n",
       "      <td>538.900000</td>\n",
       "      <td>43.000000</td>\n",
       "      <td>62.000000</td>\n",
       "      <td>35.000000</td>\n",
       "      <td>56.000000</td>\n",
       "      <td>55.000000</td>\n",
       "      <td>17.000000</td>\n",
       "    </tr>\n",
       "    <tr>\n",
       "      <th>max</th>\n",
       "      <td>10080.000000</td>\n",
       "      <td>145.000000</td>\n",
       "      <td>43.000000</td>\n",
       "      <td>7997.500000</td>\n",
       "      <td>1341.000000</td>\n",
       "      <td>7611.000000</td>\n",
       "      <td>10677.000000</td>\n",
       "      <td>2154.000000</td>\n",
       "      <td>2080.000000</td>\n",
       "      <td>641.000000</td>\n",
       "    </tr>\n",
       "  </tbody>\n",
       "</table>\n",
       "</div>"
      ],
      "text/plain": [
       "             minutes        n_steps  n_ingredients       calories  \\\n",
       "count  172966.000000  172966.000000  172966.000000  172966.000000   \n",
       "mean       87.054733      10.555664       9.538019     479.477736   \n",
       "std       246.969467       5.759903       3.701847     586.441169   \n",
       "min         5.000000       4.000000       2.000000      49.100000   \n",
       "25%        25.000000       7.000000       7.000000     204.700000   \n",
       "50%        40.000000       9.000000       9.000000     340.450000   \n",
       "75%        70.000000      13.000000      12.000000     538.900000   \n",
       "max     10080.000000     145.000000      43.000000    7997.500000   \n",
       "\n",
       "       total fat (PDV)    sugar (PDV)   sodium (PDV)  protein (PDV)  \\\n",
       "count    172966.000000  172966.000000  172966.000000  172966.000000   \n",
       "mean         36.372750      72.281541      30.695015      38.486275   \n",
       "std          54.145097     201.065552      93.410219      45.550168   \n",
       "min           0.000000       0.000000       0.000000       0.000000   \n",
       "25%          10.000000       9.000000       7.000000       9.000000   \n",
       "50%          23.000000      23.000000      17.000000      24.000000   \n",
       "75%          43.000000      62.000000      35.000000      56.000000   \n",
       "max        1341.000000    7611.000000   10677.000000    2154.000000   \n",
       "\n",
       "       saturated fat (PDV)  carbohydrates (PDV)  \n",
       "count        172966.000000        172966.000000  \n",
       "mean             45.313385            15.232716  \n",
       "std              75.438155            26.028159  \n",
       "min               0.000000             0.000000  \n",
       "25%               9.000000             4.000000  \n",
       "50%              25.000000            10.000000  \n",
       "75%              55.000000            17.000000  \n",
       "max            2080.000000           641.000000  "
      ]
     },
     "execution_count": 40,
     "metadata": {},
     "output_type": "execute_result"
    }
   ],
   "source": [
    "df2.describe()"
   ]
  },
  {
   "cell_type": "code",
   "execution_count": 41,
   "id": "d607bbad",
   "metadata": {},
   "outputs": [
    {
     "data": {
      "text/html": [
       "<div>\n",
       "<style scoped>\n",
       "    .dataframe tbody tr th:only-of-type {\n",
       "        vertical-align: middle;\n",
       "    }\n",
       "\n",
       "    .dataframe tbody tr th {\n",
       "        vertical-align: top;\n",
       "    }\n",
       "\n",
       "    .dataframe thead th {\n",
       "        text-align: right;\n",
       "    }\n",
       "</style>\n",
       "<table border=\"1\" class=\"dataframe\">\n",
       "  <thead>\n",
       "    <tr style=\"text-align: right;\">\n",
       "      <th></th>\n",
       "      <th>name</th>\n",
       "      <th>minutes</th>\n",
       "      <th>n_steps</th>\n",
       "      <th>steps</th>\n",
       "      <th>ingredients</th>\n",
       "      <th>n_ingredients</th>\n",
       "      <th>calories</th>\n",
       "      <th>total fat (PDV)</th>\n",
       "      <th>sugar (PDV)</th>\n",
       "      <th>sodium (PDV)</th>\n",
       "      <th>protein (PDV)</th>\n",
       "      <th>saturated fat (PDV)</th>\n",
       "      <th>carbohydrates (PDV)</th>\n",
       "    </tr>\n",
       "  </thead>\n",
       "  <tbody>\n",
       "    <tr>\n",
       "      <th>0</th>\n",
       "      <td>arriba   baked winter squash mexican style</td>\n",
       "      <td>55</td>\n",
       "      <td>11</td>\n",
       "      <td>['make a choice and proceed with recipe', 'dep...</td>\n",
       "      <td>winter squash mexican seasoning mixed spice ho...</td>\n",
       "      <td>7</td>\n",
       "      <td>51.5</td>\n",
       "      <td>0.0</td>\n",
       "      <td>13.0</td>\n",
       "      <td>0.0</td>\n",
       "      <td>2.0</td>\n",
       "      <td>0.0</td>\n",
       "      <td>4.0</td>\n",
       "    </tr>\n",
       "    <tr>\n",
       "      <th>1</th>\n",
       "      <td>a bit different  breakfast pizza</td>\n",
       "      <td>30</td>\n",
       "      <td>9</td>\n",
       "      <td>['preheat oven to 425 degrees f', 'press dough...</td>\n",
       "      <td>prepared pizza crust sausage patty eggs milk s...</td>\n",
       "      <td>6</td>\n",
       "      <td>173.4</td>\n",
       "      <td>18.0</td>\n",
       "      <td>0.0</td>\n",
       "      <td>17.0</td>\n",
       "      <td>22.0</td>\n",
       "      <td>35.0</td>\n",
       "      <td>1.0</td>\n",
       "    </tr>\n",
       "    <tr>\n",
       "      <th>2</th>\n",
       "      <td>all in the kitchen  chili</td>\n",
       "      <td>130</td>\n",
       "      <td>6</td>\n",
       "      <td>['brown ground beef in large pot', 'add choppe...</td>\n",
       "      <td>ground beef yellow onions diced tomatoes tomat...</td>\n",
       "      <td>13</td>\n",
       "      <td>269.8</td>\n",
       "      <td>22.0</td>\n",
       "      <td>32.0</td>\n",
       "      <td>48.0</td>\n",
       "      <td>39.0</td>\n",
       "      <td>27.0</td>\n",
       "      <td>5.0</td>\n",
       "    </tr>\n",
       "    <tr>\n",
       "      <th>3</th>\n",
       "      <td>alouette  potatoes</td>\n",
       "      <td>45</td>\n",
       "      <td>11</td>\n",
       "      <td>['place potatoes in a large pot of lightly sal...</td>\n",
       "      <td>spreadable cheese with garlic and herbs new po...</td>\n",
       "      <td>11</td>\n",
       "      <td>368.1</td>\n",
       "      <td>17.0</td>\n",
       "      <td>10.0</td>\n",
       "      <td>2.0</td>\n",
       "      <td>14.0</td>\n",
       "      <td>8.0</td>\n",
       "      <td>20.0</td>\n",
       "    </tr>\n",
       "    <tr>\n",
       "      <th>6</th>\n",
       "      <td>aww  marinated olives</td>\n",
       "      <td>15</td>\n",
       "      <td>4</td>\n",
       "      <td>['toast the fennel seeds and lightly crush the...</td>\n",
       "      <td>fennel seeds green olives ripe olives garlic p...</td>\n",
       "      <td>9</td>\n",
       "      <td>380.7</td>\n",
       "      <td>53.0</td>\n",
       "      <td>7.0</td>\n",
       "      <td>24.0</td>\n",
       "      <td>6.0</td>\n",
       "      <td>24.0</td>\n",
       "      <td>6.0</td>\n",
       "    </tr>\n",
       "  </tbody>\n",
       "</table>\n",
       "</div>"
      ],
      "text/plain": [
       "                                         name  minutes  n_steps  \\\n",
       "0  arriba   baked winter squash mexican style       55       11   \n",
       "1            a bit different  breakfast pizza       30        9   \n",
       "2                   all in the kitchen  chili      130        6   \n",
       "3                          alouette  potatoes       45       11   \n",
       "6                       aww  marinated olives       15        4   \n",
       "\n",
       "                                               steps  \\\n",
       "0  ['make a choice and proceed with recipe', 'dep...   \n",
       "1  ['preheat oven to 425 degrees f', 'press dough...   \n",
       "2  ['brown ground beef in large pot', 'add choppe...   \n",
       "3  ['place potatoes in a large pot of lightly sal...   \n",
       "6  ['toast the fennel seeds and lightly crush the...   \n",
       "\n",
       "                                         ingredients  n_ingredients  calories  \\\n",
       "0  winter squash mexican seasoning mixed spice ho...              7      51.5   \n",
       "1  prepared pizza crust sausage patty eggs milk s...              6     173.4   \n",
       "2  ground beef yellow onions diced tomatoes tomat...             13     269.8   \n",
       "3  spreadable cheese with garlic and herbs new po...             11     368.1   \n",
       "6  fennel seeds green olives ripe olives garlic p...              9     380.7   \n",
       "\n",
       "   total fat (PDV)  sugar (PDV)  sodium (PDV)  protein (PDV)  \\\n",
       "0              0.0         13.0           0.0            2.0   \n",
       "1             18.0          0.0          17.0           22.0   \n",
       "2             22.0         32.0          48.0           39.0   \n",
       "3             17.0         10.0           2.0           14.0   \n",
       "6             53.0          7.0          24.0            6.0   \n",
       "\n",
       "   saturated fat (PDV)  carbohydrates (PDV)  \n",
       "0                  0.0                  4.0  \n",
       "1                 35.0                  1.0  \n",
       "2                 27.0                  5.0  \n",
       "3                  8.0                 20.0  \n",
       "6                 24.0                  6.0  "
      ]
     },
     "execution_count": 41,
     "metadata": {},
     "output_type": "execute_result"
    }
   ],
   "source": [
    "df2['ingredients'].replace(',','', regex=True, inplace=True)\n",
    "df2['ingredients'] = df2['ingredients'].astype(str).str.replace(r'\\[|\\]|,', '', regex=True)\n",
    "df2['ingredients'] = df2['ingredients'].astype(str).str.replace(r'\\'|\\'|,', '', regex=True)\n",
    "df2.head(5)"
   ]
  },
  {
   "cell_type": "code",
   "execution_count": 42,
   "id": "82b48a69",
   "metadata": {
    "scrolled": false
   },
   "outputs": [],
   "source": [
    "gluten = [\"bread\", \"pittas\", \"bagels\", \"flatbreads\", \"rolls\",\n",
    "\"pasta\", \"noodles\", \"cakes\", \"crackers\", \n",
    "\"biscuits\", \"pies\", \"pastry\", \"cereals\", \n",
    "\"breadcrumbs\", \"coatings\", \"croutons\", \"malts\", \n",
    "\"malt\", \"syrup\", \"flavoring\", \"vinegar\", \n",
    "\"brewers\", \"yeast\", \"beer\", \"spaghetti\", \n",
    "\"brownie\", \"wheat\", \"soy\", \"fries\"]\n",
    "\n",
    "new_gluten = '|'.join([word for word in gluten])\n",
    "\n",
    "df2[\"gluten_free\"] = np.where(\n",
    "   (df2.ingredients.str.contains(new_gluten)), \n",
    "   0, \n",
    "   1\n",
    ")"
   ]
  },
  {
   "cell_type": "code",
   "execution_count": 43,
   "id": "b917caed",
   "metadata": {},
   "outputs": [],
   "source": [
    "nuts = [\"almonds\", \"nuts\",\n",
    "\"hazelnuts\", \"macadamias\"\n",
    "\"pecans\", \"nut\"\n",
    "\"pistachios\", \"walnuts\"\n",
    "\"peanuts\", \"filberts\"]\n",
    "new_nut = '|'.join([word for word in nuts])\n",
    "\n",
    "df2[\"nut_free\"] = np.where(\n",
    "   (df2.ingredients.str.contains(new_nut)), \n",
    "   0, \n",
    "   1\n",
    ")"
   ]
  },
  {
   "cell_type": "code",
   "execution_count": 44,
   "id": "d0efdd5d",
   "metadata": {},
   "outputs": [],
   "source": [
    "lactose = [\"milk\", \"yogurt\", \"cheese\", \"butter\", \"mozzarella\", \"ricotta\", \"cream\", \"sherbet\"]\n",
    "new_lactose = '|'.join([word for word in lactose])\n",
    "\n",
    "df2[\"lactose_free\"] = np.where(\n",
    "   (df2.ingredients.str.contains(new_lactose)), \n",
    "   0, \n",
    "   1\n",
    ")"
   ]
  },
  {
   "cell_type": "code",
   "execution_count": 45,
   "id": "67158510",
   "metadata": {},
   "outputs": [],
   "source": [
    "df2[\"egg_free\"] = np.where(\n",
    "   (df2.ingredients.str.contains('egg')), \n",
    "   0, \n",
    "   1\n",
    ")"
   ]
  },
  {
   "cell_type": "code",
   "execution_count": 46,
   "id": "989c0831",
   "metadata": {},
   "outputs": [],
   "source": [
    "vegan = ['beef', 'pork', 'lamb', 'meat', 'duck', 'egg', 'eggs', 'fish', 'cheese', 'butter', 'milk', 'cream', 'mayo', 'honey','burger','chicken','salmon', 'tuna', 'shrimp', 'octopus', 'clams', 'tilapia','goose','anchovies','squid','scallops','calamari','mussels','crab','lobster']\n",
    "vegan = '|'.join([word for word in vegan])\n",
    "vegan\n",
    "\n",
    "df2[\"vegan\"] = np.where(\n",
    "   (df2.ingredients.str.contains(vegan)), \n",
    "   0, \n",
    "   1\n",
    ")"
   ]
  },
  {
   "cell_type": "code",
   "execution_count": 47,
   "id": "5b943ea5",
   "metadata": {},
   "outputs": [],
   "source": [
    "veggie = ['beef', 'pork', 'lamb', 'meat', 'duck', 'fish','burger','chicken','salmon', 'tuna', 'shrimp', 'octopus', 'clams', 'tilapia','goose','anchovies','squid','scallops','calamari','mussels','crab','lobster']\n",
    "veggie = '|'.join([word for word in veggie])\n",
    "veggie\n",
    "\n",
    "df2[\"veggie\"] = np.where(\n",
    "   (df2.ingredients.str.contains(veggie)), \n",
    "   0, \n",
    "   1\n",
    ")"
   ]
  },
  {
   "cell_type": "code",
   "execution_count": 48,
   "id": "45a653dd",
   "metadata": {},
   "outputs": [],
   "source": [
    "fish = ['beef', 'pork', 'lamb', 'meat', 'duck','burger','chicken', 'goose','anchovies']\n",
    "fish = '|'.join([word for word in fish])\n",
    "\n",
    "df2[\"fish\"] = np.where(\n",
    "   (df2.ingredients.str.contains(fish)), \n",
    "   0, \n",
    "   1\n",
    ")"
   ]
  },
  {
   "cell_type": "code",
   "execution_count": 49,
   "id": "05bfe3b7",
   "metadata": {},
   "outputs": [],
   "source": [
    "conditions = [\n",
    "    (df2['calories'] <= 450),\n",
    "    (df2['calories'] > 450) & (df2['calories'] <= 800),\n",
    "    (df2['calories'] > 800)\n",
    "    ]\n",
    "\n",
    "# create a list of the values we want to assign for each condition\n",
    "values = ['1', '2', '3']\n",
    "\n",
    "# create a new column and use np.select to assign values to it using our lists as arguments\n",
    "df2['calorie_class'] = np.select(conditions, values)"
   ]
  },
  {
   "cell_type": "code",
   "execution_count": 50,
   "id": "2f7925ad",
   "metadata": {},
   "outputs": [],
   "source": [
    "ohe = OneHotEncoder(sparse = False)\n",
    "\n",
    "calorie_ohe = ohe.fit_transform(df2[[\"calorie_class\"]])\n",
    "\n",
    "df2['low_calories'],df2['normal_calories'],df2['high_calories'] = calorie_ohe.T"
   ]
  },
  {
   "cell_type": "code",
   "execution_count": 51,
   "id": "4d388c7a",
   "metadata": {},
   "outputs": [],
   "source": [
    "df2.drop(columns = 'calorie_class', inplace = True)"
   ]
  },
  {
   "cell_type": "code",
   "execution_count": 52,
   "id": "a1372ba6",
   "metadata": {
    "scrolled": false
   },
   "outputs": [
    {
     "data": {
      "text/html": [
       "<div>\n",
       "<style scoped>\n",
       "    .dataframe tbody tr th:only-of-type {\n",
       "        vertical-align: middle;\n",
       "    }\n",
       "\n",
       "    .dataframe tbody tr th {\n",
       "        vertical-align: top;\n",
       "    }\n",
       "\n",
       "    .dataframe thead th {\n",
       "        text-align: right;\n",
       "    }\n",
       "</style>\n",
       "<table border=\"1\" class=\"dataframe\">\n",
       "  <thead>\n",
       "    <tr style=\"text-align: right;\">\n",
       "      <th></th>\n",
       "      <th>name</th>\n",
       "      <th>minutes</th>\n",
       "      <th>n_steps</th>\n",
       "      <th>steps</th>\n",
       "      <th>ingredients</th>\n",
       "      <th>n_ingredients</th>\n",
       "      <th>calories</th>\n",
       "      <th>total fat (PDV)</th>\n",
       "      <th>sugar (PDV)</th>\n",
       "      <th>sodium (PDV)</th>\n",
       "      <th>...</th>\n",
       "      <th>gluten_free</th>\n",
       "      <th>nut_free</th>\n",
       "      <th>lactose_free</th>\n",
       "      <th>egg_free</th>\n",
       "      <th>vegan</th>\n",
       "      <th>veggie</th>\n",
       "      <th>fish</th>\n",
       "      <th>low_calories</th>\n",
       "      <th>normal_calories</th>\n",
       "      <th>high_calories</th>\n",
       "    </tr>\n",
       "  </thead>\n",
       "  <tbody>\n",
       "    <tr>\n",
       "      <th>0</th>\n",
       "      <td>arriba   baked winter squash mexican style</td>\n",
       "      <td>55</td>\n",
       "      <td>11</td>\n",
       "      <td>['make a choice and proceed with recipe', 'dep...</td>\n",
       "      <td>winter squash mexican seasoning mixed spice ho...</td>\n",
       "      <td>7</td>\n",
       "      <td>51.5</td>\n",
       "      <td>0.0</td>\n",
       "      <td>13.0</td>\n",
       "      <td>0.0</td>\n",
       "      <td>...</td>\n",
       "      <td>1</td>\n",
       "      <td>1</td>\n",
       "      <td>0</td>\n",
       "      <td>1</td>\n",
       "      <td>0</td>\n",
       "      <td>1</td>\n",
       "      <td>1</td>\n",
       "      <td>1.0</td>\n",
       "      <td>0.0</td>\n",
       "      <td>0.0</td>\n",
       "    </tr>\n",
       "    <tr>\n",
       "      <th>1</th>\n",
       "      <td>a bit different  breakfast pizza</td>\n",
       "      <td>30</td>\n",
       "      <td>9</td>\n",
       "      <td>['preheat oven to 425 degrees f', 'press dough...</td>\n",
       "      <td>prepared pizza crust sausage patty eggs milk s...</td>\n",
       "      <td>6</td>\n",
       "      <td>173.4</td>\n",
       "      <td>18.0</td>\n",
       "      <td>0.0</td>\n",
       "      <td>17.0</td>\n",
       "      <td>...</td>\n",
       "      <td>1</td>\n",
       "      <td>1</td>\n",
       "      <td>0</td>\n",
       "      <td>0</td>\n",
       "      <td>0</td>\n",
       "      <td>1</td>\n",
       "      <td>1</td>\n",
       "      <td>1.0</td>\n",
       "      <td>0.0</td>\n",
       "      <td>0.0</td>\n",
       "    </tr>\n",
       "    <tr>\n",
       "      <th>2</th>\n",
       "      <td>all in the kitchen  chili</td>\n",
       "      <td>130</td>\n",
       "      <td>6</td>\n",
       "      <td>['brown ground beef in large pot', 'add choppe...</td>\n",
       "      <td>ground beef yellow onions diced tomatoes tomat...</td>\n",
       "      <td>13</td>\n",
       "      <td>269.8</td>\n",
       "      <td>22.0</td>\n",
       "      <td>32.0</td>\n",
       "      <td>48.0</td>\n",
       "      <td>...</td>\n",
       "      <td>1</td>\n",
       "      <td>1</td>\n",
       "      <td>0</td>\n",
       "      <td>1</td>\n",
       "      <td>0</td>\n",
       "      <td>0</td>\n",
       "      <td>0</td>\n",
       "      <td>1.0</td>\n",
       "      <td>0.0</td>\n",
       "      <td>0.0</td>\n",
       "    </tr>\n",
       "    <tr>\n",
       "      <th>3</th>\n",
       "      <td>alouette  potatoes</td>\n",
       "      <td>45</td>\n",
       "      <td>11</td>\n",
       "      <td>['place potatoes in a large pot of lightly sal...</td>\n",
       "      <td>spreadable cheese with garlic and herbs new po...</td>\n",
       "      <td>11</td>\n",
       "      <td>368.1</td>\n",
       "      <td>17.0</td>\n",
       "      <td>10.0</td>\n",
       "      <td>2.0</td>\n",
       "      <td>...</td>\n",
       "      <td>0</td>\n",
       "      <td>1</td>\n",
       "      <td>0</td>\n",
       "      <td>1</td>\n",
       "      <td>0</td>\n",
       "      <td>1</td>\n",
       "      <td>1</td>\n",
       "      <td>1.0</td>\n",
       "      <td>0.0</td>\n",
       "      <td>0.0</td>\n",
       "    </tr>\n",
       "    <tr>\n",
       "      <th>6</th>\n",
       "      <td>aww  marinated olives</td>\n",
       "      <td>15</td>\n",
       "      <td>4</td>\n",
       "      <td>['toast the fennel seeds and lightly crush the...</td>\n",
       "      <td>fennel seeds green olives ripe olives garlic p...</td>\n",
       "      <td>9</td>\n",
       "      <td>380.7</td>\n",
       "      <td>53.0</td>\n",
       "      <td>7.0</td>\n",
       "      <td>24.0</td>\n",
       "      <td>...</td>\n",
       "      <td>1</td>\n",
       "      <td>1</td>\n",
       "      <td>1</td>\n",
       "      <td>1</td>\n",
       "      <td>1</td>\n",
       "      <td>1</td>\n",
       "      <td>1</td>\n",
       "      <td>1.0</td>\n",
       "      <td>0.0</td>\n",
       "      <td>0.0</td>\n",
       "    </tr>\n",
       "  </tbody>\n",
       "</table>\n",
       "<p>5 rows × 23 columns</p>\n",
       "</div>"
      ],
      "text/plain": [
       "                                         name  minutes  n_steps  \\\n",
       "0  arriba   baked winter squash mexican style       55       11   \n",
       "1            a bit different  breakfast pizza       30        9   \n",
       "2                   all in the kitchen  chili      130        6   \n",
       "3                          alouette  potatoes       45       11   \n",
       "6                       aww  marinated olives       15        4   \n",
       "\n",
       "                                               steps  \\\n",
       "0  ['make a choice and proceed with recipe', 'dep...   \n",
       "1  ['preheat oven to 425 degrees f', 'press dough...   \n",
       "2  ['brown ground beef in large pot', 'add choppe...   \n",
       "3  ['place potatoes in a large pot of lightly sal...   \n",
       "6  ['toast the fennel seeds and lightly crush the...   \n",
       "\n",
       "                                         ingredients  n_ingredients  calories  \\\n",
       "0  winter squash mexican seasoning mixed spice ho...              7      51.5   \n",
       "1  prepared pizza crust sausage patty eggs milk s...              6     173.4   \n",
       "2  ground beef yellow onions diced tomatoes tomat...             13     269.8   \n",
       "3  spreadable cheese with garlic and herbs new po...             11     368.1   \n",
       "6  fennel seeds green olives ripe olives garlic p...              9     380.7   \n",
       "\n",
       "   total fat (PDV)  sugar (PDV)  sodium (PDV)  ...  gluten_free  nut_free  \\\n",
       "0              0.0         13.0           0.0  ...            1         1   \n",
       "1             18.0          0.0          17.0  ...            1         1   \n",
       "2             22.0         32.0          48.0  ...            1         1   \n",
       "3             17.0         10.0           2.0  ...            0         1   \n",
       "6             53.0          7.0          24.0  ...            1         1   \n",
       "\n",
       "   lactose_free  egg_free  vegan  veggie  fish  low_calories  normal_calories  \\\n",
       "0             0         1      0       1     1           1.0              0.0   \n",
       "1             0         0      0       1     1           1.0              0.0   \n",
       "2             0         1      0       0     0           1.0              0.0   \n",
       "3             0         1      0       1     1           1.0              0.0   \n",
       "6             1         1      1       1     1           1.0              0.0   \n",
       "\n",
       "   high_calories  \n",
       "0            0.0  \n",
       "1            0.0  \n",
       "2            0.0  \n",
       "3            0.0  \n",
       "6            0.0  \n",
       "\n",
       "[5 rows x 23 columns]"
      ]
     },
     "execution_count": 52,
     "metadata": {},
     "output_type": "execute_result"
    }
   ],
   "source": [
    "df2.head()"
   ]
  },
  {
   "cell_type": "code",
   "execution_count": 53,
   "id": "74f398ba",
   "metadata": {},
   "outputs": [],
   "source": [
    "df2.to_csv('prep_data.csv', index=False)"
   ]
  },
  {
   "cell_type": "code",
   "execution_count": 54,
   "id": "28ad683b",
   "metadata": {
    "scrolled": true
   },
   "outputs": [
    {
     "data": {
      "text/html": [
       "<div>\n",
       "<style scoped>\n",
       "    .dataframe tbody tr th:only-of-type {\n",
       "        vertical-align: middle;\n",
       "    }\n",
       "\n",
       "    .dataframe tbody tr th {\n",
       "        vertical-align: top;\n",
       "    }\n",
       "\n",
       "    .dataframe thead th {\n",
       "        text-align: right;\n",
       "    }\n",
       "</style>\n",
       "<table border=\"1\" class=\"dataframe\">\n",
       "  <thead>\n",
       "    <tr style=\"text-align: right;\">\n",
       "      <th></th>\n",
       "      <th>minutes</th>\n",
       "      <th>n_steps</th>\n",
       "      <th>n_ingredients</th>\n",
       "      <th>calories</th>\n",
       "      <th>total fat (PDV)</th>\n",
       "      <th>sugar (PDV)</th>\n",
       "      <th>sodium (PDV)</th>\n",
       "      <th>protein (PDV)</th>\n",
       "      <th>saturated fat (PDV)</th>\n",
       "      <th>carbohydrates (PDV)</th>\n",
       "      <th>gluten_free</th>\n",
       "      <th>nut_free</th>\n",
       "      <th>lactose_free</th>\n",
       "      <th>egg_free</th>\n",
       "      <th>vegan</th>\n",
       "      <th>veggie</th>\n",
       "      <th>fish</th>\n",
       "      <th>low_calories</th>\n",
       "      <th>normal_calories</th>\n",
       "      <th>high_calories</th>\n",
       "    </tr>\n",
       "  </thead>\n",
       "  <tbody>\n",
       "    <tr>\n",
       "      <th>count</th>\n",
       "      <td>172966.000000</td>\n",
       "      <td>172966.000000</td>\n",
       "      <td>172966.000000</td>\n",
       "      <td>172966.000000</td>\n",
       "      <td>172966.000000</td>\n",
       "      <td>172966.000000</td>\n",
       "      <td>172966.000000</td>\n",
       "      <td>172966.000000</td>\n",
       "      <td>172966.000000</td>\n",
       "      <td>172966.000000</td>\n",
       "      <td>172966.000000</td>\n",
       "      <td>172966.000000</td>\n",
       "      <td>172966.000000</td>\n",
       "      <td>172966.000000</td>\n",
       "      <td>172966.000000</td>\n",
       "      <td>172966.000000</td>\n",
       "      <td>172966.000000</td>\n",
       "      <td>172966.000000</td>\n",
       "      <td>172966.000000</td>\n",
       "      <td>172966.000000</td>\n",
       "    </tr>\n",
       "    <tr>\n",
       "      <th>mean</th>\n",
       "      <td>87.054733</td>\n",
       "      <td>10.555664</td>\n",
       "      <td>9.538019</td>\n",
       "      <td>479.477736</td>\n",
       "      <td>36.372750</td>\n",
       "      <td>72.281541</td>\n",
       "      <td>30.695015</td>\n",
       "      <td>38.486275</td>\n",
       "      <td>45.313385</td>\n",
       "      <td>15.232716</td>\n",
       "      <td>0.626979</td>\n",
       "      <td>0.918470</td>\n",
       "      <td>0.367367</td>\n",
       "      <td>0.720448</td>\n",
       "      <td>0.149844</td>\n",
       "      <td>0.618769</td>\n",
       "      <td>0.671982</td>\n",
       "      <td>0.658673</td>\n",
       "      <td>0.229629</td>\n",
       "      <td>0.111698</td>\n",
       "    </tr>\n",
       "    <tr>\n",
       "      <th>std</th>\n",
       "      <td>246.969467</td>\n",
       "      <td>5.759903</td>\n",
       "      <td>3.701847</td>\n",
       "      <td>586.441169</td>\n",
       "      <td>54.145097</td>\n",
       "      <td>201.065552</td>\n",
       "      <td>93.410219</td>\n",
       "      <td>45.550168</td>\n",
       "      <td>75.438155</td>\n",
       "      <td>26.028159</td>\n",
       "      <td>0.483609</td>\n",
       "      <td>0.273649</td>\n",
       "      <td>0.482089</td>\n",
       "      <td>0.448780</td>\n",
       "      <td>0.356920</td>\n",
       "      <td>0.485691</td>\n",
       "      <td>0.469493</td>\n",
       "      <td>0.474156</td>\n",
       "      <td>0.420595</td>\n",
       "      <td>0.314996</td>\n",
       "    </tr>\n",
       "    <tr>\n",
       "      <th>min</th>\n",
       "      <td>5.000000</td>\n",
       "      <td>4.000000</td>\n",
       "      <td>2.000000</td>\n",
       "      <td>49.100000</td>\n",
       "      <td>0.000000</td>\n",
       "      <td>0.000000</td>\n",
       "      <td>0.000000</td>\n",
       "      <td>0.000000</td>\n",
       "      <td>0.000000</td>\n",
       "      <td>0.000000</td>\n",
       "      <td>0.000000</td>\n",
       "      <td>0.000000</td>\n",
       "      <td>0.000000</td>\n",
       "      <td>0.000000</td>\n",
       "      <td>0.000000</td>\n",
       "      <td>0.000000</td>\n",
       "      <td>0.000000</td>\n",
       "      <td>0.000000</td>\n",
       "      <td>0.000000</td>\n",
       "      <td>0.000000</td>\n",
       "    </tr>\n",
       "    <tr>\n",
       "      <th>25%</th>\n",
       "      <td>25.000000</td>\n",
       "      <td>7.000000</td>\n",
       "      <td>7.000000</td>\n",
       "      <td>204.700000</td>\n",
       "      <td>10.000000</td>\n",
       "      <td>9.000000</td>\n",
       "      <td>7.000000</td>\n",
       "      <td>9.000000</td>\n",
       "      <td>9.000000</td>\n",
       "      <td>4.000000</td>\n",
       "      <td>0.000000</td>\n",
       "      <td>1.000000</td>\n",
       "      <td>0.000000</td>\n",
       "      <td>0.000000</td>\n",
       "      <td>0.000000</td>\n",
       "      <td>0.000000</td>\n",
       "      <td>0.000000</td>\n",
       "      <td>0.000000</td>\n",
       "      <td>0.000000</td>\n",
       "      <td>0.000000</td>\n",
       "    </tr>\n",
       "    <tr>\n",
       "      <th>50%</th>\n",
       "      <td>40.000000</td>\n",
       "      <td>9.000000</td>\n",
       "      <td>9.000000</td>\n",
       "      <td>340.450000</td>\n",
       "      <td>23.000000</td>\n",
       "      <td>23.000000</td>\n",
       "      <td>17.000000</td>\n",
       "      <td>24.000000</td>\n",
       "      <td>25.000000</td>\n",
       "      <td>10.000000</td>\n",
       "      <td>1.000000</td>\n",
       "      <td>1.000000</td>\n",
       "      <td>0.000000</td>\n",
       "      <td>1.000000</td>\n",
       "      <td>0.000000</td>\n",
       "      <td>1.000000</td>\n",
       "      <td>1.000000</td>\n",
       "      <td>1.000000</td>\n",
       "      <td>0.000000</td>\n",
       "      <td>0.000000</td>\n",
       "    </tr>\n",
       "    <tr>\n",
       "      <th>75%</th>\n",
       "      <td>70.000000</td>\n",
       "      <td>13.000000</td>\n",
       "      <td>12.000000</td>\n",
       "      <td>538.900000</td>\n",
       "      <td>43.000000</td>\n",
       "      <td>62.000000</td>\n",
       "      <td>35.000000</td>\n",
       "      <td>56.000000</td>\n",
       "      <td>55.000000</td>\n",
       "      <td>17.000000</td>\n",
       "      <td>1.000000</td>\n",
       "      <td>1.000000</td>\n",
       "      <td>1.000000</td>\n",
       "      <td>1.000000</td>\n",
       "      <td>0.000000</td>\n",
       "      <td>1.000000</td>\n",
       "      <td>1.000000</td>\n",
       "      <td>1.000000</td>\n",
       "      <td>0.000000</td>\n",
       "      <td>0.000000</td>\n",
       "    </tr>\n",
       "    <tr>\n",
       "      <th>max</th>\n",
       "      <td>10080.000000</td>\n",
       "      <td>145.000000</td>\n",
       "      <td>43.000000</td>\n",
       "      <td>7997.500000</td>\n",
       "      <td>1341.000000</td>\n",
       "      <td>7611.000000</td>\n",
       "      <td>10677.000000</td>\n",
       "      <td>2154.000000</td>\n",
       "      <td>2080.000000</td>\n",
       "      <td>641.000000</td>\n",
       "      <td>1.000000</td>\n",
       "      <td>1.000000</td>\n",
       "      <td>1.000000</td>\n",
       "      <td>1.000000</td>\n",
       "      <td>1.000000</td>\n",
       "      <td>1.000000</td>\n",
       "      <td>1.000000</td>\n",
       "      <td>1.000000</td>\n",
       "      <td>1.000000</td>\n",
       "      <td>1.000000</td>\n",
       "    </tr>\n",
       "  </tbody>\n",
       "</table>\n",
       "</div>"
      ],
      "text/plain": [
       "             minutes        n_steps  n_ingredients       calories  \\\n",
       "count  172966.000000  172966.000000  172966.000000  172966.000000   \n",
       "mean       87.054733      10.555664       9.538019     479.477736   \n",
       "std       246.969467       5.759903       3.701847     586.441169   \n",
       "min         5.000000       4.000000       2.000000      49.100000   \n",
       "25%        25.000000       7.000000       7.000000     204.700000   \n",
       "50%        40.000000       9.000000       9.000000     340.450000   \n",
       "75%        70.000000      13.000000      12.000000     538.900000   \n",
       "max     10080.000000     145.000000      43.000000    7997.500000   \n",
       "\n",
       "       total fat (PDV)    sugar (PDV)   sodium (PDV)  protein (PDV)  \\\n",
       "count    172966.000000  172966.000000  172966.000000  172966.000000   \n",
       "mean         36.372750      72.281541      30.695015      38.486275   \n",
       "std          54.145097     201.065552      93.410219      45.550168   \n",
       "min           0.000000       0.000000       0.000000       0.000000   \n",
       "25%          10.000000       9.000000       7.000000       9.000000   \n",
       "50%          23.000000      23.000000      17.000000      24.000000   \n",
       "75%          43.000000      62.000000      35.000000      56.000000   \n",
       "max        1341.000000    7611.000000   10677.000000    2154.000000   \n",
       "\n",
       "       saturated fat (PDV)  carbohydrates (PDV)    gluten_free       nut_free  \\\n",
       "count        172966.000000        172966.000000  172966.000000  172966.000000   \n",
       "mean             45.313385            15.232716       0.626979       0.918470   \n",
       "std              75.438155            26.028159       0.483609       0.273649   \n",
       "min               0.000000             0.000000       0.000000       0.000000   \n",
       "25%               9.000000             4.000000       0.000000       1.000000   \n",
       "50%              25.000000            10.000000       1.000000       1.000000   \n",
       "75%              55.000000            17.000000       1.000000       1.000000   \n",
       "max            2080.000000           641.000000       1.000000       1.000000   \n",
       "\n",
       "        lactose_free       egg_free          vegan         veggie  \\\n",
       "count  172966.000000  172966.000000  172966.000000  172966.000000   \n",
       "mean        0.367367       0.720448       0.149844       0.618769   \n",
       "std         0.482089       0.448780       0.356920       0.485691   \n",
       "min         0.000000       0.000000       0.000000       0.000000   \n",
       "25%         0.000000       0.000000       0.000000       0.000000   \n",
       "50%         0.000000       1.000000       0.000000       1.000000   \n",
       "75%         1.000000       1.000000       0.000000       1.000000   \n",
       "max         1.000000       1.000000       1.000000       1.000000   \n",
       "\n",
       "                fish   low_calories  normal_calories  high_calories  \n",
       "count  172966.000000  172966.000000    172966.000000  172966.000000  \n",
       "mean        0.671982       0.658673         0.229629       0.111698  \n",
       "std         0.469493       0.474156         0.420595       0.314996  \n",
       "min         0.000000       0.000000         0.000000       0.000000  \n",
       "25%         0.000000       0.000000         0.000000       0.000000  \n",
       "50%         1.000000       1.000000         0.000000       0.000000  \n",
       "75%         1.000000       1.000000         0.000000       0.000000  \n",
       "max         1.000000       1.000000         1.000000       1.000000  "
      ]
     },
     "execution_count": 54,
     "metadata": {},
     "output_type": "execute_result"
    }
   ],
   "source": [
    "df2.describe()"
   ]
  },
  {
   "cell_type": "code",
   "execution_count": 55,
   "id": "2665615c",
   "metadata": {},
   "outputs": [],
   "source": [
    "r_scaler = RobustScaler()\n",
    "df2[['minutes', 'n_steps', 'n_ingredients', 'calories', 'total fat (PDV)', 'sugar (PDV)', 'sodium (PDV)', 'protein (PDV)', 'saturated fat (PDV)', 'carbohydrates (PDV)', 'gluten_free', 'nut_free', 'lactose_free', 'egg_free', 'vegan','veggie', 'fish', 'low_calories', 'normal_calories', 'high_calories' \n",
    "]] = r_scaler.fit_transform(df2[['minutes', 'n_steps', 'n_ingredients', 'calories', 'total fat (PDV)', 'sugar (PDV)', 'sodium (PDV)', 'protein (PDV)', 'saturated fat (PDV)', 'carbohydrates (PDV)', 'gluten_free', 'nut_free', 'lactose_free', 'egg_free', 'vegan','veggie', 'fish', 'low_calories', 'normal_calories', 'high_calories' \n",
    "]])"
   ]
  },
  {
   "cell_type": "code",
   "execution_count": 56,
   "id": "39324dfe",
   "metadata": {},
   "outputs": [
    {
     "data": {
      "text/html": [
       "<div>\n",
       "<style scoped>\n",
       "    .dataframe tbody tr th:only-of-type {\n",
       "        vertical-align: middle;\n",
       "    }\n",
       "\n",
       "    .dataframe tbody tr th {\n",
       "        vertical-align: top;\n",
       "    }\n",
       "\n",
       "    .dataframe thead th {\n",
       "        text-align: right;\n",
       "    }\n",
       "</style>\n",
       "<table border=\"1\" class=\"dataframe\">\n",
       "  <thead>\n",
       "    <tr style=\"text-align: right;\">\n",
       "      <th></th>\n",
       "      <th>minutes</th>\n",
       "      <th>n_steps</th>\n",
       "      <th>n_ingredients</th>\n",
       "      <th>calories</th>\n",
       "      <th>total fat (PDV)</th>\n",
       "      <th>sugar (PDV)</th>\n",
       "      <th>sodium (PDV)</th>\n",
       "      <th>protein (PDV)</th>\n",
       "      <th>saturated fat (PDV)</th>\n",
       "      <th>carbohydrates (PDV)</th>\n",
       "      <th>gluten_free</th>\n",
       "      <th>nut_free</th>\n",
       "      <th>lactose_free</th>\n",
       "      <th>egg_free</th>\n",
       "      <th>vegan</th>\n",
       "      <th>veggie</th>\n",
       "      <th>fish</th>\n",
       "      <th>low_calories</th>\n",
       "      <th>normal_calories</th>\n",
       "      <th>high_calories</th>\n",
       "    </tr>\n",
       "  </thead>\n",
       "  <tbody>\n",
       "    <tr>\n",
       "      <th>count</th>\n",
       "      <td>172966.000000</td>\n",
       "      <td>172966.000000</td>\n",
       "      <td>172966.000000</td>\n",
       "      <td>172966.000000</td>\n",
       "      <td>172966.000000</td>\n",
       "      <td>172966.000000</td>\n",
       "      <td>172966.000000</td>\n",
       "      <td>172966.000000</td>\n",
       "      <td>172966.000000</td>\n",
       "      <td>172966.000000</td>\n",
       "      <td>172966.000000</td>\n",
       "      <td>172966.000000</td>\n",
       "      <td>172966.000000</td>\n",
       "      <td>172966.000000</td>\n",
       "      <td>172966.000000</td>\n",
       "      <td>172966.000000</td>\n",
       "      <td>172966.000000</td>\n",
       "      <td>172966.000000</td>\n",
       "      <td>172966.000000</td>\n",
       "      <td>172966.000000</td>\n",
       "    </tr>\n",
       "    <tr>\n",
       "      <th>mean</th>\n",
       "      <td>1.045661</td>\n",
       "      <td>0.259277</td>\n",
       "      <td>0.107604</td>\n",
       "      <td>0.416002</td>\n",
       "      <td>0.405235</td>\n",
       "      <td>0.929840</td>\n",
       "      <td>0.489108</td>\n",
       "      <td>0.308219</td>\n",
       "      <td>0.441595</td>\n",
       "      <td>0.402517</td>\n",
       "      <td>-0.373021</td>\n",
       "      <td>-0.081530</td>\n",
       "      <td>0.367367</td>\n",
       "      <td>-0.279552</td>\n",
       "      <td>0.149844</td>\n",
       "      <td>-0.381231</td>\n",
       "      <td>-0.328018</td>\n",
       "      <td>-0.341327</td>\n",
       "      <td>0.229629</td>\n",
       "      <td>0.111698</td>\n",
       "    </tr>\n",
       "    <tr>\n",
       "      <th>std</th>\n",
       "      <td>5.488210</td>\n",
       "      <td>0.959984</td>\n",
       "      <td>0.740369</td>\n",
       "      <td>1.754761</td>\n",
       "      <td>1.640761</td>\n",
       "      <td>3.793690</td>\n",
       "      <td>3.336079</td>\n",
       "      <td>0.969153</td>\n",
       "      <td>1.639960</td>\n",
       "      <td>2.002166</td>\n",
       "      <td>0.483609</td>\n",
       "      <td>0.273649</td>\n",
       "      <td>0.482089</td>\n",
       "      <td>0.448780</td>\n",
       "      <td>0.356920</td>\n",
       "      <td>0.485691</td>\n",
       "      <td>0.469493</td>\n",
       "      <td>0.474156</td>\n",
       "      <td>0.420595</td>\n",
       "      <td>0.314996</td>\n",
       "    </tr>\n",
       "    <tr>\n",
       "      <th>min</th>\n",
       "      <td>-0.777778</td>\n",
       "      <td>-0.833333</td>\n",
       "      <td>-1.400000</td>\n",
       "      <td>-0.871783</td>\n",
       "      <td>-0.696970</td>\n",
       "      <td>-0.433962</td>\n",
       "      <td>-0.607143</td>\n",
       "      <td>-0.510638</td>\n",
       "      <td>-0.543478</td>\n",
       "      <td>-0.769231</td>\n",
       "      <td>-1.000000</td>\n",
       "      <td>-1.000000</td>\n",
       "      <td>0.000000</td>\n",
       "      <td>-1.000000</td>\n",
       "      <td>0.000000</td>\n",
       "      <td>-1.000000</td>\n",
       "      <td>-1.000000</td>\n",
       "      <td>-1.000000</td>\n",
       "      <td>0.000000</td>\n",
       "      <td>0.000000</td>\n",
       "    </tr>\n",
       "    <tr>\n",
       "      <th>25%</th>\n",
       "      <td>-0.333333</td>\n",
       "      <td>-0.333333</td>\n",
       "      <td>-0.400000</td>\n",
       "      <td>-0.406194</td>\n",
       "      <td>-0.393939</td>\n",
       "      <td>-0.264151</td>\n",
       "      <td>-0.357143</td>\n",
       "      <td>-0.319149</td>\n",
       "      <td>-0.347826</td>\n",
       "      <td>-0.461538</td>\n",
       "      <td>-1.000000</td>\n",
       "      <td>0.000000</td>\n",
       "      <td>0.000000</td>\n",
       "      <td>-1.000000</td>\n",
       "      <td>0.000000</td>\n",
       "      <td>-1.000000</td>\n",
       "      <td>-1.000000</td>\n",
       "      <td>-1.000000</td>\n",
       "      <td>0.000000</td>\n",
       "      <td>0.000000</td>\n",
       "    </tr>\n",
       "    <tr>\n",
       "      <th>50%</th>\n",
       "      <td>0.000000</td>\n",
       "      <td>0.000000</td>\n",
       "      <td>0.000000</td>\n",
       "      <td>0.000000</td>\n",
       "      <td>0.000000</td>\n",
       "      <td>0.000000</td>\n",
       "      <td>0.000000</td>\n",
       "      <td>0.000000</td>\n",
       "      <td>0.000000</td>\n",
       "      <td>0.000000</td>\n",
       "      <td>0.000000</td>\n",
       "      <td>0.000000</td>\n",
       "      <td>0.000000</td>\n",
       "      <td>0.000000</td>\n",
       "      <td>0.000000</td>\n",
       "      <td>0.000000</td>\n",
       "      <td>0.000000</td>\n",
       "      <td>0.000000</td>\n",
       "      <td>0.000000</td>\n",
       "      <td>0.000000</td>\n",
       "    </tr>\n",
       "    <tr>\n",
       "      <th>75%</th>\n",
       "      <td>0.666667</td>\n",
       "      <td>0.666667</td>\n",
       "      <td>0.600000</td>\n",
       "      <td>0.593806</td>\n",
       "      <td>0.606061</td>\n",
       "      <td>0.735849</td>\n",
       "      <td>0.642857</td>\n",
       "      <td>0.680851</td>\n",
       "      <td>0.652174</td>\n",
       "      <td>0.538462</td>\n",
       "      <td>0.000000</td>\n",
       "      <td>0.000000</td>\n",
       "      <td>1.000000</td>\n",
       "      <td>0.000000</td>\n",
       "      <td>0.000000</td>\n",
       "      <td>0.000000</td>\n",
       "      <td>0.000000</td>\n",
       "      <td>0.000000</td>\n",
       "      <td>0.000000</td>\n",
       "      <td>0.000000</td>\n",
       "    </tr>\n",
       "    <tr>\n",
       "      <th>max</th>\n",
       "      <td>223.111111</td>\n",
       "      <td>22.666667</td>\n",
       "      <td>6.800000</td>\n",
       "      <td>22.911580</td>\n",
       "      <td>39.939394</td>\n",
       "      <td>143.169811</td>\n",
       "      <td>380.714286</td>\n",
       "      <td>45.319149</td>\n",
       "      <td>44.673913</td>\n",
       "      <td>48.538462</td>\n",
       "      <td>0.000000</td>\n",
       "      <td>0.000000</td>\n",
       "      <td>1.000000</td>\n",
       "      <td>0.000000</td>\n",
       "      <td>1.000000</td>\n",
       "      <td>0.000000</td>\n",
       "      <td>0.000000</td>\n",
       "      <td>0.000000</td>\n",
       "      <td>1.000000</td>\n",
       "      <td>1.000000</td>\n",
       "    </tr>\n",
       "  </tbody>\n",
       "</table>\n",
       "</div>"
      ],
      "text/plain": [
       "             minutes        n_steps  n_ingredients       calories  \\\n",
       "count  172966.000000  172966.000000  172966.000000  172966.000000   \n",
       "mean        1.045661       0.259277       0.107604       0.416002   \n",
       "std         5.488210       0.959984       0.740369       1.754761   \n",
       "min        -0.777778      -0.833333      -1.400000      -0.871783   \n",
       "25%        -0.333333      -0.333333      -0.400000      -0.406194   \n",
       "50%         0.000000       0.000000       0.000000       0.000000   \n",
       "75%         0.666667       0.666667       0.600000       0.593806   \n",
       "max       223.111111      22.666667       6.800000      22.911580   \n",
       "\n",
       "       total fat (PDV)    sugar (PDV)   sodium (PDV)  protein (PDV)  \\\n",
       "count    172966.000000  172966.000000  172966.000000  172966.000000   \n",
       "mean          0.405235       0.929840       0.489108       0.308219   \n",
       "std           1.640761       3.793690       3.336079       0.969153   \n",
       "min          -0.696970      -0.433962      -0.607143      -0.510638   \n",
       "25%          -0.393939      -0.264151      -0.357143      -0.319149   \n",
       "50%           0.000000       0.000000       0.000000       0.000000   \n",
       "75%           0.606061       0.735849       0.642857       0.680851   \n",
       "max          39.939394     143.169811     380.714286      45.319149   \n",
       "\n",
       "       saturated fat (PDV)  carbohydrates (PDV)    gluten_free       nut_free  \\\n",
       "count        172966.000000        172966.000000  172966.000000  172966.000000   \n",
       "mean              0.441595             0.402517      -0.373021      -0.081530   \n",
       "std               1.639960             2.002166       0.483609       0.273649   \n",
       "min              -0.543478            -0.769231      -1.000000      -1.000000   \n",
       "25%              -0.347826            -0.461538      -1.000000       0.000000   \n",
       "50%               0.000000             0.000000       0.000000       0.000000   \n",
       "75%               0.652174             0.538462       0.000000       0.000000   \n",
       "max              44.673913            48.538462       0.000000       0.000000   \n",
       "\n",
       "        lactose_free       egg_free          vegan         veggie  \\\n",
       "count  172966.000000  172966.000000  172966.000000  172966.000000   \n",
       "mean        0.367367      -0.279552       0.149844      -0.381231   \n",
       "std         0.482089       0.448780       0.356920       0.485691   \n",
       "min         0.000000      -1.000000       0.000000      -1.000000   \n",
       "25%         0.000000      -1.000000       0.000000      -1.000000   \n",
       "50%         0.000000       0.000000       0.000000       0.000000   \n",
       "75%         1.000000       0.000000       0.000000       0.000000   \n",
       "max         1.000000       0.000000       1.000000       0.000000   \n",
       "\n",
       "                fish   low_calories  normal_calories  high_calories  \n",
       "count  172966.000000  172966.000000    172966.000000  172966.000000  \n",
       "mean       -0.328018      -0.341327         0.229629       0.111698  \n",
       "std         0.469493       0.474156         0.420595       0.314996  \n",
       "min        -1.000000      -1.000000         0.000000       0.000000  \n",
       "25%        -1.000000      -1.000000         0.000000       0.000000  \n",
       "50%         0.000000       0.000000         0.000000       0.000000  \n",
       "75%         0.000000       0.000000         0.000000       0.000000  \n",
       "max         0.000000       0.000000         1.000000       1.000000  "
      ]
     },
     "execution_count": 56,
     "metadata": {},
     "output_type": "execute_result"
    }
   ],
   "source": [
    "df2.describe()"
   ]
  },
  {
   "cell_type": "code",
   "execution_count": 57,
   "id": "a63f608e",
   "metadata": {},
   "outputs": [
    {
     "data": {
      "text/html": [
       "<div>\n",
       "<style scoped>\n",
       "    .dataframe tbody tr th:only-of-type {\n",
       "        vertical-align: middle;\n",
       "    }\n",
       "\n",
       "    .dataframe tbody tr th {\n",
       "        vertical-align: top;\n",
       "    }\n",
       "\n",
       "    .dataframe thead th {\n",
       "        text-align: right;\n",
       "    }\n",
       "</style>\n",
       "<table border=\"1\" class=\"dataframe\">\n",
       "  <thead>\n",
       "    <tr style=\"text-align: right;\">\n",
       "      <th></th>\n",
       "      <th>name</th>\n",
       "      <th>minutes</th>\n",
       "      <th>n_steps</th>\n",
       "      <th>steps</th>\n",
       "      <th>ingredients</th>\n",
       "      <th>n_ingredients</th>\n",
       "      <th>calories</th>\n",
       "      <th>total fat (PDV)</th>\n",
       "      <th>sugar (PDV)</th>\n",
       "      <th>sodium (PDV)</th>\n",
       "      <th>...</th>\n",
       "      <th>gluten_free</th>\n",
       "      <th>nut_free</th>\n",
       "      <th>lactose_free</th>\n",
       "      <th>egg_free</th>\n",
       "      <th>vegan</th>\n",
       "      <th>veggie</th>\n",
       "      <th>fish</th>\n",
       "      <th>low_calories</th>\n",
       "      <th>normal_calories</th>\n",
       "      <th>high_calories</th>\n",
       "    </tr>\n",
       "  </thead>\n",
       "  <tbody>\n",
       "    <tr>\n",
       "      <th>0</th>\n",
       "      <td>arriba   baked winter squash mexican style</td>\n",
       "      <td>0.333333</td>\n",
       "      <td>0.333333</td>\n",
       "      <td>['make a choice and proceed with recipe', 'dep...</td>\n",
       "      <td>winter squash mexican seasoning mixed spice ho...</td>\n",
       "      <td>-0.4</td>\n",
       "      <td>-0.864602</td>\n",
       "      <td>-0.696970</td>\n",
       "      <td>-0.188679</td>\n",
       "      <td>-0.607143</td>\n",
       "      <td>...</td>\n",
       "      <td>0.0</td>\n",
       "      <td>0.0</td>\n",
       "      <td>0.0</td>\n",
       "      <td>0.0</td>\n",
       "      <td>0.0</td>\n",
       "      <td>0.0</td>\n",
       "      <td>0.0</td>\n",
       "      <td>0.0</td>\n",
       "      <td>0.0</td>\n",
       "      <td>0.0</td>\n",
       "    </tr>\n",
       "    <tr>\n",
       "      <th>1</th>\n",
       "      <td>a bit different  breakfast pizza</td>\n",
       "      <td>-0.222222</td>\n",
       "      <td>0.000000</td>\n",
       "      <td>['preheat oven to 425 degrees f', 'press dough...</td>\n",
       "      <td>prepared pizza crust sausage patty eggs milk s...</td>\n",
       "      <td>-0.6</td>\n",
       "      <td>-0.499850</td>\n",
       "      <td>-0.151515</td>\n",
       "      <td>-0.433962</td>\n",
       "      <td>0.000000</td>\n",
       "      <td>...</td>\n",
       "      <td>0.0</td>\n",
       "      <td>0.0</td>\n",
       "      <td>0.0</td>\n",
       "      <td>-1.0</td>\n",
       "      <td>0.0</td>\n",
       "      <td>0.0</td>\n",
       "      <td>0.0</td>\n",
       "      <td>0.0</td>\n",
       "      <td>0.0</td>\n",
       "      <td>0.0</td>\n",
       "    </tr>\n",
       "    <tr>\n",
       "      <th>2</th>\n",
       "      <td>all in the kitchen  chili</td>\n",
       "      <td>2.000000</td>\n",
       "      <td>-0.500000</td>\n",
       "      <td>['brown ground beef in large pot', 'add choppe...</td>\n",
       "      <td>ground beef yellow onions diced tomatoes tomat...</td>\n",
       "      <td>0.8</td>\n",
       "      <td>-0.211400</td>\n",
       "      <td>-0.030303</td>\n",
       "      <td>0.169811</td>\n",
       "      <td>1.107143</td>\n",
       "      <td>...</td>\n",
       "      <td>0.0</td>\n",
       "      <td>0.0</td>\n",
       "      <td>0.0</td>\n",
       "      <td>0.0</td>\n",
       "      <td>0.0</td>\n",
       "      <td>-1.0</td>\n",
       "      <td>-1.0</td>\n",
       "      <td>0.0</td>\n",
       "      <td>0.0</td>\n",
       "      <td>0.0</td>\n",
       "    </tr>\n",
       "    <tr>\n",
       "      <th>3</th>\n",
       "      <td>alouette  potatoes</td>\n",
       "      <td>0.111111</td>\n",
       "      <td>0.333333</td>\n",
       "      <td>['place potatoes in a large pot of lightly sal...</td>\n",
       "      <td>spreadable cheese with garlic and herbs new po...</td>\n",
       "      <td>0.4</td>\n",
       "      <td>0.082735</td>\n",
       "      <td>-0.181818</td>\n",
       "      <td>-0.245283</td>\n",
       "      <td>-0.535714</td>\n",
       "      <td>...</td>\n",
       "      <td>-1.0</td>\n",
       "      <td>0.0</td>\n",
       "      <td>0.0</td>\n",
       "      <td>0.0</td>\n",
       "      <td>0.0</td>\n",
       "      <td>0.0</td>\n",
       "      <td>0.0</td>\n",
       "      <td>0.0</td>\n",
       "      <td>0.0</td>\n",
       "      <td>0.0</td>\n",
       "    </tr>\n",
       "    <tr>\n",
       "      <th>6</th>\n",
       "      <td>aww  marinated olives</td>\n",
       "      <td>-0.555556</td>\n",
       "      <td>-0.833333</td>\n",
       "      <td>['toast the fennel seeds and lightly crush the...</td>\n",
       "      <td>fennel seeds green olives ripe olives garlic p...</td>\n",
       "      <td>0.0</td>\n",
       "      <td>0.120437</td>\n",
       "      <td>0.909091</td>\n",
       "      <td>-0.301887</td>\n",
       "      <td>0.250000</td>\n",
       "      <td>...</td>\n",
       "      <td>0.0</td>\n",
       "      <td>0.0</td>\n",
       "      <td>1.0</td>\n",
       "      <td>0.0</td>\n",
       "      <td>1.0</td>\n",
       "      <td>0.0</td>\n",
       "      <td>0.0</td>\n",
       "      <td>0.0</td>\n",
       "      <td>0.0</td>\n",
       "      <td>0.0</td>\n",
       "    </tr>\n",
       "  </tbody>\n",
       "</table>\n",
       "<p>5 rows × 23 columns</p>\n",
       "</div>"
      ],
      "text/plain": [
       "                                         name   minutes   n_steps  \\\n",
       "0  arriba   baked winter squash mexican style  0.333333  0.333333   \n",
       "1            a bit different  breakfast pizza -0.222222  0.000000   \n",
       "2                   all in the kitchen  chili  2.000000 -0.500000   \n",
       "3                          alouette  potatoes  0.111111  0.333333   \n",
       "6                       aww  marinated olives -0.555556 -0.833333   \n",
       "\n",
       "                                               steps  \\\n",
       "0  ['make a choice and proceed with recipe', 'dep...   \n",
       "1  ['preheat oven to 425 degrees f', 'press dough...   \n",
       "2  ['brown ground beef in large pot', 'add choppe...   \n",
       "3  ['place potatoes in a large pot of lightly sal...   \n",
       "6  ['toast the fennel seeds and lightly crush the...   \n",
       "\n",
       "                                         ingredients  n_ingredients  calories  \\\n",
       "0  winter squash mexican seasoning mixed spice ho...           -0.4 -0.864602   \n",
       "1  prepared pizza crust sausage patty eggs milk s...           -0.6 -0.499850   \n",
       "2  ground beef yellow onions diced tomatoes tomat...            0.8 -0.211400   \n",
       "3  spreadable cheese with garlic and herbs new po...            0.4  0.082735   \n",
       "6  fennel seeds green olives ripe olives garlic p...            0.0  0.120437   \n",
       "\n",
       "   total fat (PDV)  sugar (PDV)  sodium (PDV)  ...  gluten_free  nut_free  \\\n",
       "0        -0.696970    -0.188679     -0.607143  ...          0.0       0.0   \n",
       "1        -0.151515    -0.433962      0.000000  ...          0.0       0.0   \n",
       "2        -0.030303     0.169811      1.107143  ...          0.0       0.0   \n",
       "3        -0.181818    -0.245283     -0.535714  ...         -1.0       0.0   \n",
       "6         0.909091    -0.301887      0.250000  ...          0.0       0.0   \n",
       "\n",
       "   lactose_free  egg_free  vegan  veggie  fish  low_calories  normal_calories  \\\n",
       "0           0.0       0.0    0.0     0.0   0.0           0.0              0.0   \n",
       "1           0.0      -1.0    0.0     0.0   0.0           0.0              0.0   \n",
       "2           0.0       0.0    0.0    -1.0  -1.0           0.0              0.0   \n",
       "3           0.0       0.0    0.0     0.0   0.0           0.0              0.0   \n",
       "6           1.0       0.0    1.0     0.0   0.0           0.0              0.0   \n",
       "\n",
       "   high_calories  \n",
       "0            0.0  \n",
       "1            0.0  \n",
       "2            0.0  \n",
       "3            0.0  \n",
       "6            0.0  \n",
       "\n",
       "[5 rows x 23 columns]"
      ]
     },
     "execution_count": 57,
     "metadata": {},
     "output_type": "execute_result"
    }
   ],
   "source": [
    "df2.head()"
   ]
  },
  {
   "cell_type": "code",
   "execution_count": 58,
   "id": "f30e6ff4",
   "metadata": {},
   "outputs": [],
   "source": [
    "df2.to_csv('scaled_data.csv', index=False)"
   ]
  }
 ],
 "metadata": {
  "kernelspec": {
   "display_name": "Python 3 (ipykernel)",
   "language": "python",
   "name": "python3"
  },
  "language_info": {
   "codemirror_mode": {
    "name": "ipython",
    "version": 3
   },
   "file_extension": ".py",
   "mimetype": "text/x-python",
   "name": "python",
   "nbconvert_exporter": "python",
   "pygments_lexer": "ipython3",
   "version": "3.8.12"
  },
  "toc": {
   "base_numbering": 1,
   "nav_menu": {},
   "number_sections": true,
   "sideBar": true,
   "skip_h1_title": false,
   "title_cell": "Table of Contents",
   "title_sidebar": "Contents",
   "toc_cell": false,
   "toc_position": {},
   "toc_section_display": true,
   "toc_window_display": false
  }
 },
 "nbformat": 4,
 "nbformat_minor": 5
}
